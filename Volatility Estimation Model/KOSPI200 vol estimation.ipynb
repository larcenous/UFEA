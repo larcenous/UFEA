{
 "cells": [
  {
   "cell_type": "markdown",
   "metadata": {},
   "source": [
    "# KOSPI200 Volatility Estimation\n",
    "\n",
    "객체지향 프로그래밍 패러다임(OOP, Object-Oriented Programming)기반 작성\n",
    "\n",
    "총 8개 volatility estimate class가 존재\n",
    "\n",
    "**close-close based**\n",
    "\n",
    "1. MovingWindow \n",
    "2. ARCH \n",
    "3. EWMA \n",
    "4. GARCH \n",
    "5. TraditionalCtoC\n",
    "\n",
    "**range-based**\n",
    "\n",
    "6. Parkinson \n",
    "7. GarmanKlass \n",
    "8. RogersSatchell \n",
    "\n",
    "20개년도 데이터에 대해 10일(영업일 기준 2주)단위의 sliding window 방식으로 vol을 추정했으며,\n",
    "\n",
    "최근 90일 동안의 변화를 나타냄\n",
    "\n",
    "* 차후 개선 : 미래 vol에 대한 예측을 추가"
   ]
  },
  {
   "cell_type": "markdown",
   "metadata": {},
   "source": [
    "### Package Import"
   ]
  },
  {
   "cell_type": "code",
   "execution_count": 21,
   "metadata": {},
   "outputs": [
    {
     "name": "stdout",
     "output_type": "stream",
     "text": [
      "Requirement already satisfied: pykrx in c:\\users\\user\\appdata\\local\\programs\\python\\python310\\lib\\site-packages (1.0.45)\n",
      "Requirement already satisfied: requests in c:\\users\\user\\appdata\\local\\programs\\python\\python310\\lib\\site-packages (from pykrx) (2.31.0)\n",
      "Requirement already satisfied: pandas in c:\\users\\user\\appdata\\local\\programs\\python\\python310\\lib\\site-packages (from pykrx) (1.4.2)\n",
      "Requirement already satisfied: datetime in c:\\users\\user\\appdata\\local\\programs\\python\\python310\\lib\\site-packages (from pykrx) (5.5)\n",
      "Requirement already satisfied: numpy in c:\\users\\user\\appdata\\local\\programs\\python\\python310\\lib\\site-packages (from pykrx) (1.22.3)\n",
      "Requirement already satisfied: xlrd in c:\\users\\user\\appdata\\local\\programs\\python\\python310\\lib\\site-packages (from pykrx) (2.0.1)\n",
      "Requirement already satisfied: deprecated in c:\\users\\user\\appdata\\local\\programs\\python\\python310\\lib\\site-packages (from pykrx) (1.2.14)\n",
      "Requirement already satisfied: multipledispatch in c:\\users\\user\\appdata\\local\\programs\\python\\python310\\lib\\site-packages (from pykrx) (1.0.0)\n",
      "Requirement already satisfied: matplotlib in c:\\users\\user\\appdata\\local\\programs\\python\\python310\\lib\\site-packages (from pykrx) (3.5.2)\n",
      "Requirement already satisfied: zope.interface in c:\\users\\user\\appdata\\local\\programs\\python\\python310\\lib\\site-packages (from datetime->pykrx) (5.5.2)\n",
      "Requirement already satisfied: pytz in c:\\users\\user\\appdata\\local\\programs\\python\\python310\\lib\\site-packages (from datetime->pykrx) (2024.1)\n",
      "Requirement already satisfied: wrapt<2,>=1.10 in c:\\users\\user\\appdata\\local\\programs\\python\\python310\\lib\\site-packages (from deprecated->pykrx) (1.16.0)\n",
      "Requirement already satisfied: cycler>=0.10 in c:\\users\\user\\appdata\\local\\programs\\python\\python310\\lib\\site-packages (from matplotlib->pykrx) (0.11.0)\n",
      "Requirement already satisfied: fonttools>=4.22.0 in c:\\users\\user\\appdata\\local\\programs\\python\\python310\\lib\\site-packages (from matplotlib->pykrx) (4.33.3)\n",
      "Requirement already satisfied: kiwisolver>=1.0.1 in c:\\users\\user\\appdata\\local\\programs\\python\\python310\\lib\\site-packages (from matplotlib->pykrx) (1.4.2)\n",
      "Requirement already satisfied: packaging>=20.0 in c:\\users\\user\\appdata\\local\\programs\\python\\python310\\lib\\site-packages (from matplotlib->pykrx) (21.3)\n",
      "Requirement already satisfied: pillow>=6.2.0 in c:\\users\\user\\appdata\\local\\programs\\python\\python310\\lib\\site-packages (from matplotlib->pykrx) (9.1.1)\n",
      "Requirement already satisfied: pyparsing>=2.2.1 in c:\\users\\user\\appdata\\local\\programs\\python\\python310\\lib\\site-packages (from matplotlib->pykrx) (3.0.9)\n",
      "Requirement already satisfied: python-dateutil>=2.7 in c:\\users\\user\\appdata\\local\\programs\\python\\python310\\lib\\site-packages (from matplotlib->pykrx) (2.8.2)\n",
      "Requirement already satisfied: charset-normalizer<4,>=2 in c:\\users\\user\\appdata\\local\\programs\\python\\python310\\lib\\site-packages (from requests->pykrx) (2.1.1)\n",
      "Requirement already satisfied: idna<4,>=2.5 in c:\\users\\user\\appdata\\local\\programs\\python\\python310\\lib\\site-packages (from requests->pykrx) (3.4)\n",
      "Requirement already satisfied: urllib3<3,>=1.21.1 in c:\\users\\user\\appdata\\local\\programs\\python\\python310\\lib\\site-packages (from requests->pykrx) (1.26.13)\n",
      "Requirement already satisfied: certifi>=2017.4.17 in c:\\users\\user\\appdata\\local\\programs\\python\\python310\\lib\\site-packages (from requests->pykrx) (2022.12.7)\n",
      "Requirement already satisfied: six>=1.5 in c:\\users\\user\\appdata\\local\\programs\\python\\python310\\lib\\site-packages (from python-dateutil>=2.7->matplotlib->pykrx) (1.16.0)\n",
      "Requirement already satisfied: setuptools in c:\\users\\user\\appdata\\local\\programs\\python\\python310\\lib\\site-packages (from zope.interface->datetime->pykrx) (58.1.0)\n"
     ]
    }
   ],
   "source": [
    "!pip install pykrx"
   ]
  },
  {
   "cell_type": "code",
   "execution_count": 22,
   "metadata": {},
   "outputs": [],
   "source": [
    "# !pip install -r 'requirements.txt'"
   ]
  },
  {
   "cell_type": "code",
   "execution_count": 23,
   "metadata": {},
   "outputs": [],
   "source": [
    "#data crawling\n",
    "from urllib.request import urlopen\n",
    "import bs4\n",
    "import datetime as dt\n",
    "from pykrx import stock\n",
    "\n",
    "#data preprocessing and visualization\n",
    "import pandas as pd\n",
    "import numpy as np\n",
    "import matplotlib.pyplot as plt\n",
    "import plotly.graph_objects as go\n",
    "\n",
    "\n",
    "from abc import * #클래스\n",
    "from arch import arch_model"
   ]
  },
  {
   "cell_type": "markdown",
   "metadata": {},
   "source": [
    "### Data Crawling with BeautifulSoup\n",
    "* 20개년도 데이터 수집에 약 7분"
   ]
  },
  {
   "cell_type": "code",
   "execution_count": 24,
   "metadata": {},
   "outputs": [
    {
     "data": {
      "text/plain": [
       "'def date_format(d) :\\n    d = d.replace(\\'.\\',\\'-\\')\\n    return dt.datetime.strptime(d, \"%Y-%m-%d\").date()\\n\\ndef historical_index_naver(index_cd, start_date=\\'\\',end_date=\\'\\',page_n = 1, last_page=0) -> pd.DataFrame:\\n    historical_prices = {\\'Date\\' : [],\\'Close\\' : []}\\n    naver_index = \"https://finance.naver.com/sise/sise_index_day.naver?code=\" + index_cd + \"&page=\" + str(page_n)\\n    source = urlopen(naver_index).read()\\n    source = bs4.BeautifulSoup(source, \\'lxml\\')\\n    if last_page == 0:\\n        last_page = source.find(\\'td\\',class_=\\'pgRR\\').find(\"a\")[\\'href\\']\\n        \\n        last_page = last_page.split(\"&\")[1]\\n        last_page = last_page.split(\"=\")[1]\\n        last_page = int(last_page)\\n    if start_date:\\n        start_date = date_format(start_date)\\n    else:\\n        start_date = dt.date.today()\\n        \\n    if end_date:\\n        end_date = date_format(end_date)\\n    else:\\n        end_date = dt.date.today()\\n    while page_n < last_page :\\n            \\n        naver_index = \"https://finance.naver.com/sise/sise_index_day.naver?code=\" + index_cd + \"&page=\" + str(page_n)\\n        \\n        source = urlopen(naver_index).read()\\n        source = bs4.BeautifulSoup(source, \\'lxml\\')\\n\\n        dates = source.find_all(\\'td\\', class_=\\'date\\')\\n        prices = source.find_all(\"td\", class_=\"number_1\")\\n        \\n        for n in range(len(dates)):\\n            if dates[n].text.split(\\'.\\')[0].isdigit():\\n                this_date = dates[n].text\\n                this_date = date_format(this_date)\\n                \\n                if this_date <= end_date and this_date >= start_date:\\n                    this_close = prices[n*4].text\\n                    this_close = this_close.replace(\",\",\"\")\\n                    this_close = float(this_close)\\n                    \\n                    historical_prices[\\'Date\\'].append(this_date)\\n                    historical_prices[\\'Close\\'].append(this_close)\\n                    \\n                elif this_date <= start_date:\\n                    return historical_prices\\n        page_n = page_n + 1\\n    historical_prices=pd.DataFrame(historical_prices)\\n    return historical_prices'"
      ]
     },
     "execution_count": 24,
     "metadata": {},
     "output_type": "execute_result"
    }
   ],
   "source": [
    "'''def date_format(d) :\n",
    "    d = d.replace('.','-')\n",
    "    return dt.datetime.strptime(d, \"%Y-%m-%d\").date()\n",
    "\n",
    "def historical_index_naver(index_cd, start_date='',end_date='',page_n = 1, last_page=0) -> pd.DataFrame:\n",
    "    historical_prices = {'Date' : [],'Close' : []}\n",
    "    naver_index = \"https://finance.naver.com/sise/sise_index_day.naver?code=\" + index_cd + \"&page=\" + str(page_n)\n",
    "    source = urlopen(naver_index).read()\n",
    "    source = bs4.BeautifulSoup(source, 'lxml')\n",
    "    if last_page == 0:\n",
    "        last_page = source.find('td',class_='pgRR').find(\"a\")['href']\n",
    "        \n",
    "        last_page = last_page.split(\"&\")[1]\n",
    "        last_page = last_page.split(\"=\")[1]\n",
    "        last_page = int(last_page)\n",
    "    if start_date:\n",
    "        start_date = date_format(start_date)\n",
    "    else:\n",
    "        start_date = dt.date.today()\n",
    "        \n",
    "    if end_date:\n",
    "        end_date = date_format(end_date)\n",
    "    else:\n",
    "        end_date = dt.date.today()\n",
    "    while page_n < last_page :\n",
    "            \n",
    "        naver_index = \"https://finance.naver.com/sise/sise_index_day.naver?code=\" + index_cd + \"&page=\" + str(page_n)\n",
    "        \n",
    "        source = urlopen(naver_index).read()\n",
    "        source = bs4.BeautifulSoup(source, 'lxml')\n",
    "\n",
    "        dates = source.find_all('td', class_='date')\n",
    "        prices = source.find_all(\"td\", class_=\"number_1\")\n",
    "        \n",
    "        for n in range(len(dates)):\n",
    "            if dates[n].text.split('.')[0].isdigit():\n",
    "                this_date = dates[n].text\n",
    "                this_date = date_format(this_date)\n",
    "                \n",
    "                if this_date <= end_date and this_date >= start_date:\n",
    "                    this_close = prices[n*4].text\n",
    "                    this_close = this_close.replace(\",\",\"\")\n",
    "                    this_close = float(this_close)\n",
    "                    \n",
    "                    historical_prices['Date'].append(this_date)\n",
    "                    historical_prices['Close'].append(this_close)\n",
    "                    \n",
    "                elif this_date <= start_date:\n",
    "                    return historical_prices\n",
    "        page_n = page_n + 1\n",
    "    historical_prices=pd.DataFrame(historical_prices)\n",
    "    return historical_prices'''"
   ]
  },
  {
   "cell_type": "code",
   "execution_count": 25,
   "metadata": {},
   "outputs": [
    {
     "data": {
      "text/plain": [
       "'index_cd = \"KPI200\"\\nhistorical_prices = historical_index_naver(index_cd, \"2020-3-1\", \"2024-3-21\")'"
      ]
     },
     "execution_count": 25,
     "metadata": {},
     "output_type": "execute_result"
    }
   ],
   "source": [
    "'''index_cd = \"KPI200\"\n",
    "historical_prices = historical_index_naver(index_cd, \"2020-3-1\", \"2024-3-21\")'''"
   ]
  },
  {
   "cell_type": "markdown",
   "metadata": {},
   "source": [
    "### Data Crawling with PyKrx\n",
    "* 20개년도 데이터 수집에 약 10초"
   ]
  },
  {
   "cell_type": "code",
   "execution_count": 26,
   "metadata": {},
   "outputs": [
    {
     "data": {
      "text/html": [
       "<div>\n",
       "<style scoped>\n",
       "    .dataframe tbody tr th:only-of-type {\n",
       "        vertical-align: middle;\n",
       "    }\n",
       "\n",
       "    .dataframe tbody tr th {\n",
       "        vertical-align: top;\n",
       "    }\n",
       "\n",
       "    .dataframe thead th {\n",
       "        text-align: right;\n",
       "    }\n",
       "</style>\n",
       "<table border=\"1\" class=\"dataframe\">\n",
       "  <thead>\n",
       "    <tr style=\"text-align: right;\">\n",
       "      <th></th>\n",
       "      <th>Date</th>\n",
       "      <th>Open</th>\n",
       "      <th>High</th>\n",
       "      <th>Low</th>\n",
       "      <th>Close</th>\n",
       "    </tr>\n",
       "  </thead>\n",
       "  <tbody>\n",
       "    <tr>\n",
       "      <th>0</th>\n",
       "      <td>2005-03-28</td>\n",
       "      <td>125.61</td>\n",
       "      <td>127.17</td>\n",
       "      <td>125.61</td>\n",
       "      <td>126.72</td>\n",
       "    </tr>\n",
       "    <tr>\n",
       "      <th>1</th>\n",
       "      <td>2005-03-29</td>\n",
       "      <td>126.65</td>\n",
       "      <td>126.72</td>\n",
       "      <td>123.73</td>\n",
       "      <td>124.13</td>\n",
       "    </tr>\n",
       "    <tr>\n",
       "      <th>2</th>\n",
       "      <td>2005-03-30</td>\n",
       "      <td>123.26</td>\n",
       "      <td>123.87</td>\n",
       "      <td>122.51</td>\n",
       "      <td>123.49</td>\n",
       "    </tr>\n",
       "  </tbody>\n",
       "</table>\n",
       "</div>"
      ],
      "text/plain": [
       "        Date    Open    High     Low   Close\n",
       "0 2005-03-28  125.61  127.17  125.61  126.72\n",
       "1 2005-03-29  126.65  126.72  123.73  124.13\n",
       "2 2005-03-30  123.26  123.87  122.51  123.49"
      ]
     },
     "execution_count": 26,
     "metadata": {},
     "output_type": "execute_result"
    }
   ],
   "source": [
    "historical_prices = stock.get_index_ohlcv(\"20050327\", \"20240327\", \"1028\")\n",
    "historical_prices = historical_prices.drop(columns=['거래량', '거래대금', '상장시가총액'])\n",
    "historical_prices.reset_index(inplace=True,drop=False)\n",
    "historical_prices.columns = ['Date','Open','High','Low','Close']\n",
    "historical_prices.head(3)"
   ]
  },
  {
   "cell_type": "markdown",
   "metadata": {},
   "source": [
    "## Close-Close Based Estimators"
   ]
  },
  {
   "cell_type": "code",
   "execution_count": 27,
   "metadata": {},
   "outputs": [],
   "source": [
    "class Abstract_VolEstimator(metaclass=ABCMeta):\n",
    "    #abstract variable\n",
    "    data = pd.DataFrame\n",
    "    window_size = 0\n",
    "    visualize_size=90\n",
    "    def __init__(self, data, window_size,visualize_size=90) :\n",
    "        self.data = data.sort_values(by='Date')\n",
    "        self.data.reset_index(inplace=True, drop=True)\n",
    "        self.window_size = window_size\n",
    "        self.cal_return()\n",
    "        self.visualize_size = visualize_size\n",
    "        \n",
    "    def cal_return(self):\n",
    "        self.data['Daily Return'] = self.data['Close'].pct_change()\n",
    "\n",
    "    def cal_window_size_Variance(self) :\n",
    "        self.cal_return()\n",
    "        self.data['window_size Variance'] = self.data['Daily Return'].pow(2).rolling(window=self.window_size).sum()/self.window_size\n",
    "    \n",
    "    def cal_annualized_volatility(self) :\n",
    "        self.data[f'{self.__class__.__name__}_Vol'] = self.data[f'{self.__class__.__name__}_Var'].pow(0.5)*(252**0.5)\n",
    "        \n",
    "    def visualize(self):\n",
    "        plt.figure(figsize=(10,6))\n",
    "        plt.plot(self.data['Date'][-self.visualize_size:],self.data[f'{self.__class__.__name__}_Vol'][-self.visualize_size:], label= f'window size {self.window_size}')\n",
    "        plt.title(f'Recent {self.visualize_size} days window_size Volatility of {self.__class__.__name__} method')\n",
    "        plt.show()\n",
    "        \n",
    "    #abstract method\n",
    "    @abstractmethod\n",
    "    def estimate(self):\n",
    "        pass"
   ]
  },
  {
   "cell_type": "markdown",
   "metadata": {},
   "source": [
    "### MovingWindow\n",
    "$$\n",
    "\\sigma_{moving}=\\sqrt{\\frac{1}{N}\\sum^N_{i=1}R^2_i}\n",
    "$$"
   ]
  },
  {
   "cell_type": "code",
   "execution_count": 28,
   "metadata": {},
   "outputs": [],
   "source": [
    "class MovingWindow(Abstract_VolEstimator):\n",
    "    def estimate(self) :\n",
    "        self.cal_window_size_Variance()\n",
    "        self.data[f'{self.__class__.__name__}_Vol'] = self.data[f'window_size Variance'].pow(0.5)*np.sqrt(252)"
   ]
  },
  {
   "cell_type": "code",
   "execution_count": 29,
   "metadata": {},
   "outputs": [
    {
     "data": {
      "text/html": [
       "<div>\n",
       "<style scoped>\n",
       "    .dataframe tbody tr th:only-of-type {\n",
       "        vertical-align: middle;\n",
       "    }\n",
       "\n",
       "    .dataframe tbody tr th {\n",
       "        vertical-align: top;\n",
       "    }\n",
       "\n",
       "    .dataframe thead th {\n",
       "        text-align: right;\n",
       "    }\n",
       "</style>\n",
       "<table border=\"1\" class=\"dataframe\">\n",
       "  <thead>\n",
       "    <tr style=\"text-align: right;\">\n",
       "      <th></th>\n",
       "      <th>Date</th>\n",
       "      <th>Open</th>\n",
       "      <th>High</th>\n",
       "      <th>Low</th>\n",
       "      <th>Close</th>\n",
       "      <th>Daily Return</th>\n",
       "      <th>window_size Variance</th>\n",
       "      <th>MovingWindow_Vol</th>\n",
       "    </tr>\n",
       "  </thead>\n",
       "  <tbody>\n",
       "    <tr>\n",
       "      <th>0</th>\n",
       "      <td>2005-03-28</td>\n",
       "      <td>125.61</td>\n",
       "      <td>127.17</td>\n",
       "      <td>125.61</td>\n",
       "      <td>126.72</td>\n",
       "      <td>NaN</td>\n",
       "      <td>NaN</td>\n",
       "      <td>NaN</td>\n",
       "    </tr>\n",
       "    <tr>\n",
       "      <th>1</th>\n",
       "      <td>2005-03-29</td>\n",
       "      <td>126.65</td>\n",
       "      <td>126.72</td>\n",
       "      <td>123.73</td>\n",
       "      <td>124.13</td>\n",
       "      <td>-0.020439</td>\n",
       "      <td>NaN</td>\n",
       "      <td>NaN</td>\n",
       "    </tr>\n",
       "    <tr>\n",
       "      <th>2</th>\n",
       "      <td>2005-03-30</td>\n",
       "      <td>123.26</td>\n",
       "      <td>123.87</td>\n",
       "      <td>122.51</td>\n",
       "      <td>123.49</td>\n",
       "      <td>-0.005156</td>\n",
       "      <td>NaN</td>\n",
       "      <td>NaN</td>\n",
       "    </tr>\n",
       "    <tr>\n",
       "      <th>3</th>\n",
       "      <td>2005-03-31</td>\n",
       "      <td>125.31</td>\n",
       "      <td>125.40</td>\n",
       "      <td>124.26</td>\n",
       "      <td>124.78</td>\n",
       "      <td>0.010446</td>\n",
       "      <td>NaN</td>\n",
       "      <td>NaN</td>\n",
       "    </tr>\n",
       "    <tr>\n",
       "      <th>4</th>\n",
       "      <td>2005-04-01</td>\n",
       "      <td>124.65</td>\n",
       "      <td>127.07</td>\n",
       "      <td>124.61</td>\n",
       "      <td>126.88</td>\n",
       "      <td>0.016830</td>\n",
       "      <td>NaN</td>\n",
       "      <td>NaN</td>\n",
       "    </tr>\n",
       "    <tr>\n",
       "      <th>5</th>\n",
       "      <td>2005-04-04</td>\n",
       "      <td>126.77</td>\n",
       "      <td>127.29</td>\n",
       "      <td>126.15</td>\n",
       "      <td>127.22</td>\n",
       "      <td>0.002680</td>\n",
       "      <td>NaN</td>\n",
       "      <td>NaN</td>\n",
       "    </tr>\n",
       "    <tr>\n",
       "      <th>6</th>\n",
       "      <td>2005-04-06</td>\n",
       "      <td>127.61</td>\n",
       "      <td>128.20</td>\n",
       "      <td>126.18</td>\n",
       "      <td>127.85</td>\n",
       "      <td>0.004952</td>\n",
       "      <td>NaN</td>\n",
       "      <td>NaN</td>\n",
       "    </tr>\n",
       "    <tr>\n",
       "      <th>7</th>\n",
       "      <td>2005-04-07</td>\n",
       "      <td>128.23</td>\n",
       "      <td>128.42</td>\n",
       "      <td>127.46</td>\n",
       "      <td>127.92</td>\n",
       "      <td>0.000548</td>\n",
       "      <td>NaN</td>\n",
       "      <td>NaN</td>\n",
       "    </tr>\n",
       "    <tr>\n",
       "      <th>8</th>\n",
       "      <td>2005-04-08</td>\n",
       "      <td>128.86</td>\n",
       "      <td>129.01</td>\n",
       "      <td>128.12</td>\n",
       "      <td>128.44</td>\n",
       "      <td>0.004065</td>\n",
       "      <td>NaN</td>\n",
       "      <td>NaN</td>\n",
       "    </tr>\n",
       "    <tr>\n",
       "      <th>9</th>\n",
       "      <td>2005-04-11</td>\n",
       "      <td>127.95</td>\n",
       "      <td>127.96</td>\n",
       "      <td>127.09</td>\n",
       "      <td>127.59</td>\n",
       "      <td>-0.006618</td>\n",
       "      <td>NaN</td>\n",
       "      <td>NaN</td>\n",
       "    </tr>\n",
       "    <tr>\n",
       "      <th>10</th>\n",
       "      <td>2005-04-12</td>\n",
       "      <td>127.23</td>\n",
       "      <td>127.72</td>\n",
       "      <td>126.86</td>\n",
       "      <td>127.24</td>\n",
       "      <td>-0.002743</td>\n",
       "      <td>0.000094</td>\n",
       "      <td>0.153625</td>\n",
       "    </tr>\n",
       "    <tr>\n",
       "      <th>11</th>\n",
       "      <td>2005-04-13</td>\n",
       "      <td>127.84</td>\n",
       "      <td>127.98</td>\n",
       "      <td>126.98</td>\n",
       "      <td>127.28</td>\n",
       "      <td>0.000314</td>\n",
       "      <td>0.000052</td>\n",
       "      <td>0.114350</td>\n",
       "    </tr>\n",
       "    <tr>\n",
       "      <th>12</th>\n",
       "      <td>2005-04-14</td>\n",
       "      <td>126.17</td>\n",
       "      <td>126.26</td>\n",
       "      <td>123.29</td>\n",
       "      <td>123.29</td>\n",
       "      <td>-0.031348</td>\n",
       "      <td>0.000148</td>\n",
       "      <td>0.192796</td>\n",
       "    </tr>\n",
       "    <tr>\n",
       "      <th>13</th>\n",
       "      <td>2005-04-15</td>\n",
       "      <td>123.49</td>\n",
       "      <td>123.61</td>\n",
       "      <td>121.49</td>\n",
       "      <td>122.41</td>\n",
       "      <td>-0.007138</td>\n",
       "      <td>0.000142</td>\n",
       "      <td>0.188956</td>\n",
       "    </tr>\n",
       "    <tr>\n",
       "      <th>14</th>\n",
       "      <td>2005-04-18</td>\n",
       "      <td>120.27</td>\n",
       "      <td>120.82</td>\n",
       "      <td>118.79</td>\n",
       "      <td>119.76</td>\n",
       "      <td>-0.021649</td>\n",
       "      <td>0.000160</td>\n",
       "      <td>0.200940</td>\n",
       "    </tr>\n",
       "    <tr>\n",
       "      <th>15</th>\n",
       "      <td>2005-04-19</td>\n",
       "      <td>120.64</td>\n",
       "      <td>121.18</td>\n",
       "      <td>120.17</td>\n",
       "      <td>120.50</td>\n",
       "      <td>0.006179</td>\n",
       "      <td>0.000163</td>\n",
       "      <td>0.202875</td>\n",
       "    </tr>\n",
       "    <tr>\n",
       "      <th>16</th>\n",
       "      <td>2005-04-20</td>\n",
       "      <td>121.58</td>\n",
       "      <td>122.68</td>\n",
       "      <td>120.12</td>\n",
       "      <td>121.05</td>\n",
       "      <td>0.004564</td>\n",
       "      <td>0.000163</td>\n",
       "      <td>0.202646</td>\n",
       "    </tr>\n",
       "    <tr>\n",
       "      <th>17</th>\n",
       "      <td>2005-04-21</td>\n",
       "      <td>119.44</td>\n",
       "      <td>121.66</td>\n",
       "      <td>118.33</td>\n",
       "      <td>121.31</td>\n",
       "      <td>0.002148</td>\n",
       "      <td>0.000163</td>\n",
       "      <td>0.202914</td>\n",
       "    </tr>\n",
       "    <tr>\n",
       "      <th>18</th>\n",
       "      <td>2005-04-22</td>\n",
       "      <td>123.03</td>\n",
       "      <td>123.05</td>\n",
       "      <td>121.36</td>\n",
       "      <td>121.36</td>\n",
       "      <td>0.000412</td>\n",
       "      <td>0.000162</td>\n",
       "      <td>0.201896</td>\n",
       "    </tr>\n",
       "    <tr>\n",
       "      <th>19</th>\n",
       "      <td>2005-04-25</td>\n",
       "      <td>120.79</td>\n",
       "      <td>122.24</td>\n",
       "      <td>120.27</td>\n",
       "      <td>122.08</td>\n",
       "      <td>0.005933</td>\n",
       "      <td>0.000161</td>\n",
       "      <td>0.201358</td>\n",
       "    </tr>\n",
       "  </tbody>\n",
       "</table>\n",
       "</div>"
      ],
      "text/plain": [
       "         Date    Open    High     Low   Close  Daily Return  \\\n",
       "0  2005-03-28  125.61  127.17  125.61  126.72           NaN   \n",
       "1  2005-03-29  126.65  126.72  123.73  124.13     -0.020439   \n",
       "2  2005-03-30  123.26  123.87  122.51  123.49     -0.005156   \n",
       "3  2005-03-31  125.31  125.40  124.26  124.78      0.010446   \n",
       "4  2005-04-01  124.65  127.07  124.61  126.88      0.016830   \n",
       "5  2005-04-04  126.77  127.29  126.15  127.22      0.002680   \n",
       "6  2005-04-06  127.61  128.20  126.18  127.85      0.004952   \n",
       "7  2005-04-07  128.23  128.42  127.46  127.92      0.000548   \n",
       "8  2005-04-08  128.86  129.01  128.12  128.44      0.004065   \n",
       "9  2005-04-11  127.95  127.96  127.09  127.59     -0.006618   \n",
       "10 2005-04-12  127.23  127.72  126.86  127.24     -0.002743   \n",
       "11 2005-04-13  127.84  127.98  126.98  127.28      0.000314   \n",
       "12 2005-04-14  126.17  126.26  123.29  123.29     -0.031348   \n",
       "13 2005-04-15  123.49  123.61  121.49  122.41     -0.007138   \n",
       "14 2005-04-18  120.27  120.82  118.79  119.76     -0.021649   \n",
       "15 2005-04-19  120.64  121.18  120.17  120.50      0.006179   \n",
       "16 2005-04-20  121.58  122.68  120.12  121.05      0.004564   \n",
       "17 2005-04-21  119.44  121.66  118.33  121.31      0.002148   \n",
       "18 2005-04-22  123.03  123.05  121.36  121.36      0.000412   \n",
       "19 2005-04-25  120.79  122.24  120.27  122.08      0.005933   \n",
       "\n",
       "    window_size Variance  MovingWindow_Vol  \n",
       "0                    NaN               NaN  \n",
       "1                    NaN               NaN  \n",
       "2                    NaN               NaN  \n",
       "3                    NaN               NaN  \n",
       "4                    NaN               NaN  \n",
       "5                    NaN               NaN  \n",
       "6                    NaN               NaN  \n",
       "7                    NaN               NaN  \n",
       "8                    NaN               NaN  \n",
       "9                    NaN               NaN  \n",
       "10              0.000094          0.153625  \n",
       "11              0.000052          0.114350  \n",
       "12              0.000148          0.192796  \n",
       "13              0.000142          0.188956  \n",
       "14              0.000160          0.200940  \n",
       "15              0.000163          0.202875  \n",
       "16              0.000163          0.202646  \n",
       "17              0.000163          0.202914  \n",
       "18              0.000162          0.201896  \n",
       "19              0.000161          0.201358  "
      ]
     },
     "metadata": {},
     "output_type": "display_data"
    },
    {
     "data": {
      "image/png": "[encoded data removed]",
      "text/plain": [
       "<Figure size 720x432 with 1 Axes>"
      ]
     },
     "metadata": {
      "needs_background": "light"
     },
     "output_type": "display_data"
    }
   ],
   "source": [
    "estimator = MovingWindow(historical_prices,10)\n",
    "estimator.estimate()\n",
    "display(estimator.data.head(20))\n",
    "estimator.visualize()"
   ]
  },
  {
   "cell_type": "markdown",
   "metadata": {},
   "source": [
    "### ARCH\n",
    "$$\n",
    "\\sigma_n=\\sqrt{\\alpha\\bar\\sigma^2+(1-\\alpha)\\frac{1}{n}\\sum^n_{i=1}R^2_i}\n",
    "$$"
   ]
  },
  {
   "cell_type": "code",
   "execution_count": 30,
   "metadata": {},
   "outputs": [],
   "source": [
    "class ARCH(Abstract_VolEstimator):\n",
    "    def __init__(self, data, window_size, alpha, visualize_size=90):\n",
    "        super().__init__(data, window_size, visualize_size)\n",
    "        self.alpha = alpha\n",
    "\n",
    "    def cal_long_run_vol(self):\n",
    "        self.LongRunVol = self.data['window_size Variance'][:self.visualize_size].mean()\n",
    "    \n",
    "    def estimate(self, UseModel=False):\n",
    "        if not UseModel :\n",
    "            self.cal_window_size_Variance()\n",
    "            self.cal_long_run_vol()\n",
    "            self.data[f'{self.__class__.__name__}_Var'] = self.alpha*self.LongRunVol+(1-self.alpha)*self.data['window_size Variance']\n",
    "            self.cal_annualized_volatility()\n",
    "        else :\n",
    "            model = arch_model(self.data['Daily Return'][1:]*100, vol='ARCH') #모델 적합을 위해 100을 곱해 스케일 조정\n",
    "            model_fit = model.fit(disp='off')\n",
    "            display(model_fit.summary())\n",
    "            result = np.array(model_fit.conditional_volatility/100)*(252**0.5) #다시 100으로 나누어 원래의 스케일로 조정\n",
    "            tmp =[np.NaN]*(len(self.data)-len(result))\n",
    "            result = np.concatenate((tmp,result))\n",
    "            self.data[f'{self.__class__.__name__}_Vol_package'] = result"
   ]
  },
  {
   "cell_type": "code",
   "execution_count": 31,
   "metadata": {},
   "outputs": [
    {
     "data": {
      "text/html": [
       "<div>\n",
       "<style scoped>\n",
       "    .dataframe tbody tr th:only-of-type {\n",
       "        vertical-align: middle;\n",
       "    }\n",
       "\n",
       "    .dataframe tbody tr th {\n",
       "        vertical-align: top;\n",
       "    }\n",
       "\n",
       "    .dataframe thead th {\n",
       "        text-align: right;\n",
       "    }\n",
       "</style>\n",
       "<table border=\"1\" class=\"dataframe\">\n",
       "  <thead>\n",
       "    <tr style=\"text-align: right;\">\n",
       "      <th></th>\n",
       "      <th>Date</th>\n",
       "      <th>Open</th>\n",
       "      <th>High</th>\n",
       "      <th>Low</th>\n",
       "      <th>Close</th>\n",
       "      <th>Daily Return</th>\n",
       "      <th>window_size Variance</th>\n",
       "      <th>ARCH_Var</th>\n",
       "      <th>ARCH_Vol</th>\n",
       "    </tr>\n",
       "  </thead>\n",
       "  <tbody>\n",
       "    <tr>\n",
       "      <th>0</th>\n",
       "      <td>2005-03-28</td>\n",
       "      <td>125.61</td>\n",
       "      <td>127.17</td>\n",
       "      <td>125.61</td>\n",
       "      <td>126.72</td>\n",
       "      <td>NaN</td>\n",
       "      <td>NaN</td>\n",
       "      <td>NaN</td>\n",
       "      <td>NaN</td>\n",
       "    </tr>\n",
       "    <tr>\n",
       "      <th>1</th>\n",
       "      <td>2005-03-29</td>\n",
       "      <td>126.65</td>\n",
       "      <td>126.72</td>\n",
       "      <td>123.73</td>\n",
       "      <td>124.13</td>\n",
       "      <td>-0.020439</td>\n",
       "      <td>NaN</td>\n",
       "      <td>NaN</td>\n",
       "      <td>NaN</td>\n",
       "    </tr>\n",
       "    <tr>\n",
       "      <th>2</th>\n",
       "      <td>2005-03-30</td>\n",
       "      <td>123.26</td>\n",
       "      <td>123.87</td>\n",
       "      <td>122.51</td>\n",
       "      <td>123.49</td>\n",
       "      <td>-0.005156</td>\n",
       "      <td>NaN</td>\n",
       "      <td>NaN</td>\n",
       "      <td>NaN</td>\n",
       "    </tr>\n",
       "    <tr>\n",
       "      <th>3</th>\n",
       "      <td>2005-03-31</td>\n",
       "      <td>125.31</td>\n",
       "      <td>125.40</td>\n",
       "      <td>124.26</td>\n",
       "      <td>124.78</td>\n",
       "      <td>0.010446</td>\n",
       "      <td>NaN</td>\n",
       "      <td>NaN</td>\n",
       "      <td>NaN</td>\n",
       "    </tr>\n",
       "    <tr>\n",
       "      <th>4</th>\n",
       "      <td>2005-04-01</td>\n",
       "      <td>124.65</td>\n",
       "      <td>127.07</td>\n",
       "      <td>124.61</td>\n",
       "      <td>126.88</td>\n",
       "      <td>0.016830</td>\n",
       "      <td>NaN</td>\n",
       "      <td>NaN</td>\n",
       "      <td>NaN</td>\n",
       "    </tr>\n",
       "  </tbody>\n",
       "</table>\n",
       "</div>"
      ],
      "text/plain": [
       "        Date    Open    High     Low   Close  Daily Return  \\\n",
       "0 2005-03-28  125.61  127.17  125.61  126.72           NaN   \n",
       "1 2005-03-29  126.65  126.72  123.73  124.13     -0.020439   \n",
       "2 2005-03-30  123.26  123.87  122.51  123.49     -0.005156   \n",
       "3 2005-03-31  125.31  125.40  124.26  124.78      0.010446   \n",
       "4 2005-04-01  124.65  127.07  124.61  126.88      0.016830   \n",
       "\n",
       "   window_size Variance  ARCH_Var  ARCH_Vol  \n",
       "0                   NaN       NaN       NaN  \n",
       "1                   NaN       NaN       NaN  \n",
       "2                   NaN       NaN       NaN  \n",
       "3                   NaN       NaN       NaN  \n",
       "4                   NaN       NaN       NaN  "
      ]
     },
     "metadata": {},
     "output_type": "display_data"
    },
    {
     "data": {
      "image/png": "[encoded data removed]",
      "text/plain": [
       "<Figure size 720x432 with 1 Axes>"
      ]
     },
     "metadata": {
      "needs_background": "light"
     },
     "output_type": "display_data"
    }
   ],
   "source": [
    "estimator = ARCH(historical_prices,10,0.1)\n",
    "estimator.estimate()\n",
    "display(estimator.data.head(5))\n",
    "estimator.visualize()"
   ]
  },
  {
   "cell_type": "markdown",
   "metadata": {},
   "source": [
    "### EWMA\n",
    "$$\n",
    "\\sigma_n=\\sqrt{(1-\\lambda)\\sum^{\\infin}_{i=1}\\lambda^{i-1}R^2_{n-i+1}}\n",
    "$$\n",
    "$$\n",
    "\\sigma_n=\\sqrt{\\lambda\\sigma^2_{n-1}+(1-\\lambda)R^2_n}\n",
    "$$"
   ]
  },
  {
   "cell_type": "code",
   "execution_count": 32,
   "metadata": {},
   "outputs": [],
   "source": [
    "class EWMA(Abstract_VolEstimator):\n",
    "    def __init__(self, data, window_size, Lambda, visualize_size=90):\n",
    "        super().__init__(data, window_size, visualize_size)\n",
    "        self.Lambda = Lambda\n",
    "\n",
    "    def estimate(self):\n",
    "        self.cal_window_size_Variance()\n",
    "        ini_var = self.data['window_size Variance'][self.window_size]\n",
    "        sigma_squared_values = [np.NAN]*(self.window_size-1)+[ini_var]  # 초기 변동성의 제곱값을 리스트에 추가\n",
    "        R_squared_values = self.data['Daily Return'].pow(2)[self.window_size:]\n",
    "        #print(sigma_squared_values)\n",
    "        #print(R_squared_values)\n",
    "        # if 조건문 넣을지\n",
    "        # R_squared_values를 순회하며 점화식에 따라 변동성의 제곱값을 계산\n",
    "        for R_squared in R_squared_values:\n",
    "            new_sigma_squared = self.Lambda * sigma_squared_values[-1] + (1 - self.Lambda) * R_squared\n",
    "            sigma_squared_values.append(new_sigma_squared)\n",
    "        self.data[f'{self.__class__.__name__}_Var'] = sigma_squared_values\n",
    "        self.cal_annualized_volatility()"
   ]
  },
  {
   "cell_type": "code",
   "execution_count": 33,
   "metadata": {},
   "outputs": [
    {
     "data": {
      "text/html": [
       "<div>\n",
       "<style scoped>\n",
       "    .dataframe tbody tr th:only-of-type {\n",
       "        vertical-align: middle;\n",
       "    }\n",
       "\n",
       "    .dataframe tbody tr th {\n",
       "        vertical-align: top;\n",
       "    }\n",
       "\n",
       "    .dataframe thead th {\n",
       "        text-align: right;\n",
       "    }\n",
       "</style>\n",
       "<table border=\"1\" class=\"dataframe\">\n",
       "  <thead>\n",
       "    <tr style=\"text-align: right;\">\n",
       "      <th></th>\n",
       "      <th>Date</th>\n",
       "      <th>Open</th>\n",
       "      <th>High</th>\n",
       "      <th>Low</th>\n",
       "      <th>Close</th>\n",
       "      <th>Daily Return</th>\n",
       "      <th>window_size Variance</th>\n",
       "      <th>EWMA_Var</th>\n",
       "      <th>EWMA_Vol</th>\n",
       "    </tr>\n",
       "  </thead>\n",
       "  <tbody>\n",
       "    <tr>\n",
       "      <th>0</th>\n",
       "      <td>2005-03-28</td>\n",
       "      <td>125.61</td>\n",
       "      <td>127.17</td>\n",
       "      <td>125.61</td>\n",
       "      <td>126.72</td>\n",
       "      <td>NaN</td>\n",
       "      <td>NaN</td>\n",
       "      <td>NaN</td>\n",
       "      <td>NaN</td>\n",
       "    </tr>\n",
       "    <tr>\n",
       "      <th>1</th>\n",
       "      <td>2005-03-29</td>\n",
       "      <td>126.65</td>\n",
       "      <td>126.72</td>\n",
       "      <td>123.73</td>\n",
       "      <td>124.13</td>\n",
       "      <td>-0.020439</td>\n",
       "      <td>NaN</td>\n",
       "      <td>NaN</td>\n",
       "      <td>NaN</td>\n",
       "    </tr>\n",
       "    <tr>\n",
       "      <th>2</th>\n",
       "      <td>2005-03-30</td>\n",
       "      <td>123.26</td>\n",
       "      <td>123.87</td>\n",
       "      <td>122.51</td>\n",
       "      <td>123.49</td>\n",
       "      <td>-0.005156</td>\n",
       "      <td>NaN</td>\n",
       "      <td>NaN</td>\n",
       "      <td>NaN</td>\n",
       "    </tr>\n",
       "    <tr>\n",
       "      <th>3</th>\n",
       "      <td>2005-03-31</td>\n",
       "      <td>125.31</td>\n",
       "      <td>125.40</td>\n",
       "      <td>124.26</td>\n",
       "      <td>124.78</td>\n",
       "      <td>0.010446</td>\n",
       "      <td>NaN</td>\n",
       "      <td>NaN</td>\n",
       "      <td>NaN</td>\n",
       "    </tr>\n",
       "    <tr>\n",
       "      <th>4</th>\n",
       "      <td>2005-04-01</td>\n",
       "      <td>124.65</td>\n",
       "      <td>127.07</td>\n",
       "      <td>124.61</td>\n",
       "      <td>126.88</td>\n",
       "      <td>0.016830</td>\n",
       "      <td>NaN</td>\n",
       "      <td>NaN</td>\n",
       "      <td>NaN</td>\n",
       "    </tr>\n",
       "  </tbody>\n",
       "</table>\n",
       "</div>"
      ],
      "text/plain": [
       "        Date    Open    High     Low   Close  Daily Return  \\\n",
       "0 2005-03-28  125.61  127.17  125.61  126.72           NaN   \n",
       "1 2005-03-29  126.65  126.72  123.73  124.13     -0.020439   \n",
       "2 2005-03-30  123.26  123.87  122.51  123.49     -0.005156   \n",
       "3 2005-03-31  125.31  125.40  124.26  124.78      0.010446   \n",
       "4 2005-04-01  124.65  127.07  124.61  126.88      0.016830   \n",
       "\n",
       "   window_size Variance  EWMA_Var  EWMA_Vol  \n",
       "0                   NaN       NaN       NaN  \n",
       "1                   NaN       NaN       NaN  \n",
       "2                   NaN       NaN       NaN  \n",
       "3                   NaN       NaN       NaN  \n",
       "4                   NaN       NaN       NaN  "
      ]
     },
     "metadata": {},
     "output_type": "display_data"
    },
    {
     "data": {
      "image/png": "[encoded data removed]",
      "text/plain": [
       "<Figure size 720x432 with 1 Axes>"
      ]
     },
     "metadata": {
      "needs_background": "light"
     },
     "output_type": "display_data"
    }
   ],
   "source": [
    "estimator = EWMA(historical_prices,10,0.8)\n",
    "estimator.estimate()\n",
    "display(estimator.data.head())\n",
    "estimator.visualize()"
   ]
  },
  {
   "cell_type": "markdown",
   "metadata": {},
   "source": [
    "### GARCH\n",
    "$$\n",
    "\\sigma_n=\\sqrt{\\alpha\\bar\\sigma^2+(1-\\alpha)\\left(\\lambda\\sigma^2_{n-1}+(1-\\lambda)R^2_n\\right)}\n",
    "$$"
   ]
  },
  {
   "cell_type": "code",
   "execution_count": 34,
   "metadata": {},
   "outputs": [],
   "source": [
    "class GARCH(ARCH, EWMA):\n",
    "    def __init__(self, data, window_size, alpha, Lambda, visualize_size=90):\n",
    "        super().__init__(data, window_size, visualize_size)\n",
    "        self.alpha = alpha\n",
    "        self.Lambda = Lambda\n",
    "    \n",
    "    def estimate(self, UseModel=False):\n",
    "        if not UseModel :\n",
    "            self.cal_window_size_Variance()\n",
    "            self.cal_long_run_vol()\n",
    "            ini_var = self.data['window_size Variance'][self.window_size]\n",
    "            sigma_squared_values = [np.NAN]*(self.window_size-1)+[ini_var]  # 초기 변동성의 제곱값을 리스트에 추가\n",
    "            R_squared_values = self.data['Daily Return'].pow(2)[self.window_size:]\n",
    "            # R_squared_values를 순회하며 점화식에 따라 변동성의 제곱값을 계산\n",
    "            a_LongRunVol = self.alpha*self.LongRunVol\n",
    "            for R_squared in R_squared_values:\n",
    "                new_sigma_squared = a_LongRunVol + (1-self.alpha)*(self.Lambda * sigma_squared_values[-1] + (1 - self.Lambda) * R_squared)\n",
    "                sigma_squared_values.append(new_sigma_squared)\n",
    "            self.data[f'{self.__class__.__name__}_Var'] = sigma_squared_values\n",
    "            self.cal_annualized_volatility()\n",
    "\n",
    "        else :\n",
    "            model = arch_model(self.data['Daily Return'][1:]*100, vol='GARCH') #모델 적합을 위해 100을 곱해 스케일 조정\n",
    "            model_fit = model.fit(disp='off')\n",
    "            display(model_fit.summary())\n",
    "            result = np.array(model_fit.conditional_volatility/100)*(252**0.5) #다시 100으로 나누어 원래의 스케일로 조정\n",
    "            tmp =[np.NaN]*(len(self.data)-len(result))\n",
    "            result = np.concatenate((tmp,result))\n",
    "            self.data[f'{self.__class__.__name__}_Vol_package'] = result"
   ]
  },
  {
   "cell_type": "code",
   "execution_count": 35,
   "metadata": {},
   "outputs": [
    {
     "data": {
      "image/png": "[encoded data removed]",
      "text/plain": [
       "<Figure size 720x432 with 1 Axes>"
      ]
     },
     "metadata": {
      "needs_background": "light"
     },
     "output_type": "display_data"
    }
   ],
   "source": [
    "estimator = GARCH(historical_prices,10,0.1,0.8)\n",
    "estimator.estimate()\n",
    "estimator.visualize()"
   ]
  },
  {
   "cell_type": "markdown",
   "metadata": {},
   "source": [
    "## Visualize together\n",
    "* plot의 범례에서 각 method를 선택하여 시각화 on/off 선택 가능"
   ]
  },
  {
   "cell_type": "code",
   "execution_count": 36,
   "metadata": {},
   "outputs": [
    {
     "data": {
      "text/plain": [
       "\"def visualize_together(method_li) :\\n    plt.figure(figsize=(10,6))\\n    for method in method_li :\\n        method.estimate()\\n        plt.plot(method.data['Date'][-method.visualize_size:],method.data[f'{method.__class__.__name__}_Vol'][-method.visualize_size:], label= f'{method.__class__.__name__}')\\n        try :\\n            method.estimate(UseModel=True)\\n            #display(method.data)\\n            plt.plot(method.data['Date'][-method.visualize_size:],method.data[f'{method.__class__.__name__}_Vol_package'][-method.visualize_size:], label= f'{method.__class__.__name__}_package')\\n        except :\\n            pass\\n    plt.title(f'Recent {method_li[0].visualize_size} days Annualized Volatility of {len(method_li)} method')\\n    plt.legend()\\n    plt.show()\""
      ]
     },
     "execution_count": 36,
     "metadata": {},
     "output_type": "execute_result"
    }
   ],
   "source": [
    "'''def visualize_together(method_li) :\n",
    "    plt.figure(figsize=(10,6))\n",
    "    for method in method_li :\n",
    "        method.estimate()\n",
    "        plt.plot(method.data['Date'][-method.visualize_size:],method.data[f'{method.__class__.__name__}_Vol'][-method.visualize_size:], label= f'{method.__class__.__name__}')\n",
    "        try :\n",
    "            method.estimate(UseModel=True)\n",
    "            #display(method.data)\n",
    "            plt.plot(method.data['Date'][-method.visualize_size:],method.data[f'{method.__class__.__name__}_Vol_package'][-method.visualize_size:], label= f'{method.__class__.__name__}_package')\n",
    "        except :\n",
    "            pass\n",
    "    plt.title(f'Recent {method_li[0].visualize_size} days Annualized Volatility of {len(method_li)} method')\n",
    "    plt.legend()\n",
    "    plt.show()'''"
   ]
  },
  {
   "cell_type": "code",
   "execution_count": 37,
   "metadata": {},
   "outputs": [],
   "source": [
    "def visualize_together(method_li):\n",
    "    fig = go.Figure()\n",
    "\n",
    "    for method in method_li:\n",
    "        method.estimate()\n",
    "        fig.add_trace(go.Scatter(x=method.data['Date'][-method.visualize_size:],\n",
    "                                 y=method.data[f'{method.__class__.__name__}_Vol'][-method.visualize_size:],\n",
    "                                 mode='lines',\n",
    "                                 name=f'{method.__class__.__name__}'))\n",
    "        \n",
    "        try:\n",
    "            method.estimate(UseModel=True)\n",
    "            fig.add_trace(go.Scatter(x=method.data['Date'][-method.visualize_size:],\n",
    "                                     y=method.data[f'{method.__class__.__name__}_Vol_package'][-method.visualize_size:],\n",
    "                                     mode='lines',\n",
    "                                     name=f'{method.__class__.__name__}_package'))\n",
    "        except:\n",
    "            pass\n",
    "\n",
    "    fig.update_layout(title=f'Recent {method_li[0].visualize_size} days Annualized Volatility of {len(method_li)} method',\n",
    "                      xaxis_title='Date',\n",
    "                      yaxis_title='Annualized Volatility',\n",
    "                      legend_title='Method')\n",
    "    fig.show()"
   ]
  },
  {
   "cell_type": "code",
   "execution_count": 38,
   "metadata": {},
   "outputs": [],
   "source": [
    "MovingWindow_estimator = MovingWindow(historical_prices,10)\n",
    "ARCH_estimator = ARCH(historical_prices,10,0.31)\n",
    "EWMA_estimator = EWMA(historical_prices,10,0.94)\n",
    "GARCH_estimator = GARCH(historical_prices,10,0.148,0.94)\n",
    "\n",
    "method_li1 =[MovingWindow_estimator,ARCH_estimator,EWMA_estimator,GARCH_estimator]"
   ]
  },
  {
   "cell_type": "code",
   "execution_count": 39,
   "metadata": {},
   "outputs": [
    {
     "data": {
      "text/html": [
       "<table class=\"simpletable\">\n",
       "<caption>Constant Mean - ARCH Model Results</caption>\n",
       "<tr>\n",
       "  <th>Dep. Variable:</th>    <td>Daily Return</td>    <th>  R-squared:         </th>  <td>   0.000</td> \n",
       "</tr>\n",
       "<tr>\n",
       "  <th>Mean Model:</th>       <td>Constant Mean</td>   <th>  Adj. R-squared:    </th>  <td>   0.000</td> \n",
       "</tr>\n",
       "<tr>\n",
       "  <th>Vol Model:</th>            <td>ARCH</td>        <th>  Log-Likelihood:    </th> <td>  -7452.85</td>\n",
       "</tr>\n",
       "<tr>\n",
       "  <th>Distribution:</th>        <td>Normal</td>       <th>  AIC:               </th> <td>   14911.7</td>\n",
       "</tr>\n",
       "<tr>\n",
       "  <th>Method:</th>        <td>Maximum Likelihood</td> <th>  BIC:               </th> <td>   14931.1</td>\n",
       "</tr>\n",
       "<tr>\n",
       "  <th></th>                        <td></td>          <th>  No. Observations:  </th>    <td>4698</td>   \n",
       "</tr>\n",
       "<tr>\n",
       "  <th>Date:</th>           <td>Sat, Mar 30 2024</td>  <th>  Df Residuals:      </th>    <td>4697</td>   \n",
       "</tr>\n",
       "<tr>\n",
       "  <th>Time:</th>               <td>15:40:02</td>      <th>  Df Model:          </th>      <td>1</td>    \n",
       "</tr>\n",
       "</table>\n",
       "<table class=\"simpletable\">\n",
       "<caption>Mean Model</caption>\n",
       "<tr>\n",
       "   <td></td>     <th>coef</th>     <th>std err</th>      <th>t</th>       <th>P>|t|</th>     <th>95.0% Conf. Int.</th>   \n",
       "</tr>\n",
       "<tr>\n",
       "  <th>mu</th> <td>    0.0417</td> <td>1.715e-02</td> <td>    2.431</td> <td>1.505e-02</td> <td>[8.083e-03,7.533e-02]</td>\n",
       "</tr>\n",
       "</table>\n",
       "<table class=\"simpletable\">\n",
       "<caption>Volatility Model</caption>\n",
       "<tr>\n",
       "      <td></td>        <th>coef</th>     <th>std err</th>      <th>t</th>        <th>P>|t|</th>   <th>95.0% Conf. Int.</th> \n",
       "</tr>\n",
       "<tr>\n",
       "  <th>omega</th>    <td>    1.0412</td> <td>4.051e-02</td> <td>   25.705</td> <td>1.036e-145</td> <td>[  0.962,  1.121]</td>\n",
       "</tr>\n",
       "<tr>\n",
       "  <th>alpha[1]</th> <td>    0.3586</td> <td>5.130e-02</td> <td>    6.990</td>  <td>2.745e-12</td> <td>[  0.258,  0.459]</td>\n",
       "</tr>\n",
       "</table><br/><br/>Covariance estimator: robust"
      ],
      "text/latex": [
       "\\begin{center}\n",
       "\\begin{tabular}{lclc}\n",
       "\\toprule\n",
       "\\textbf{Dep. Variable:} &    Daily Return    & \\textbf{  R-squared:         } &     0.000   \\\\\n",
       "\\textbf{Mean Model:}    &   Constant Mean    & \\textbf{  Adj. R-squared:    } &     0.000   \\\\\n",
       "\\textbf{Vol Model:}     &        ARCH        & \\textbf{  Log-Likelihood:    } &   -7452.85  \\\\\n",
       "\\textbf{Distribution:}  &       Normal       & \\textbf{  AIC:               } &    14911.7  \\\\\n",
       "\\textbf{Method:}        & Maximum Likelihood & \\textbf{  BIC:               } &    14931.1  \\\\\n",
       "\\textbf{}               &                    & \\textbf{  No. Observations:  } &    4698     \\\\\n",
       "\\textbf{Date:}          &  Sat, Mar 30 2024  & \\textbf{  Df Residuals:      } &    4697     \\\\\n",
       "\\textbf{Time:}          &      15:40:02      & \\textbf{  Df Model:          } &     1       \\\\\n",
       "\\bottomrule\n",
       "\\end{tabular}\n",
       "\\begin{tabular}{lccccc}\n",
       "            & \\textbf{coef} & \\textbf{std err} & \\textbf{t} & \\textbf{P$> |$t$|$} & \\textbf{95.0\\% Conf. Int.}  \\\\\n",
       "\\midrule\n",
       "\\textbf{mu} &       0.0417  &    1.715e-02     &     2.431  &      1.505e-02       &   [8.083e-03,7.533e-02]     \\\\\n",
       "                  & \\textbf{coef} & \\textbf{std err} & \\textbf{t} & \\textbf{P$> |$t$|$} & \\textbf{95.0\\% Conf. Int.}  \\\\\n",
       "\\midrule\n",
       "\\textbf{omega}    &       1.0412  &    4.051e-02     &    25.705  &      1.036e-145      &     [  0.962,  1.121]       \\\\\n",
       "\\textbf{alpha[1]} &       0.3586  &    5.130e-02     &     6.990  &      2.745e-12       &     [  0.258,  0.459]       \\\\\n",
       "\\bottomrule\n",
       "\\end{tabular}\n",
       "%\\caption{Constant Mean - ARCH Model Results}\n",
       "\\end{center}\n",
       "\n",
       "Covariance estimator: robust"
      ],
      "text/plain": [
       "<class 'statsmodels.iolib.summary.Summary'>\n",
       "\"\"\"\n",
       "                      Constant Mean - ARCH Model Results                      \n",
       "==============================================================================\n",
       "Dep. Variable:           Daily Return   R-squared:                       0.000\n",
       "Mean Model:             Constant Mean   Adj. R-squared:                  0.000\n",
       "Vol Model:                       ARCH   Log-Likelihood:               -7452.85\n",
       "Distribution:                  Normal   AIC:                           14911.7\n",
       "Method:            Maximum Likelihood   BIC:                           14931.1\n",
       "                                        No. Observations:                 4698\n",
       "Date:                Sat, Mar 30 2024   Df Residuals:                     4697\n",
       "Time:                        15:40:02   Df Model:                            1\n",
       "                                 Mean Model                                 \n",
       "============================================================================\n",
       "                 coef    std err          t      P>|t|      95.0% Conf. Int.\n",
       "----------------------------------------------------------------------------\n",
       "mu             0.0417  1.715e-02      2.431  1.505e-02 [8.083e-03,7.533e-02]\n",
       "                            Volatility Model                            \n",
       "========================================================================\n",
       "                 coef    std err          t      P>|t|  95.0% Conf. Int.\n",
       "------------------------------------------------------------------------\n",
       "omega          1.0412  4.051e-02     25.705 1.036e-145 [  0.962,  1.121]\n",
       "alpha[1]       0.3586  5.130e-02      6.990  2.745e-12 [  0.258,  0.459]\n",
       "========================================================================\n",
       "\n",
       "Covariance estimator: robust\n",
       "\"\"\""
      ]
     },
     "metadata": {},
     "output_type": "display_data"
    },
    {
     "data": {
      "text/html": [
       "<table class=\"simpletable\">\n",
       "<caption>Constant Mean - GARCH Model Results</caption>\n",
       "<tr>\n",
       "  <th>Dep. Variable:</th>    <td>Daily Return</td>    <th>  R-squared:         </th>  <td>   0.000</td> \n",
       "</tr>\n",
       "<tr>\n",
       "  <th>Mean Model:</th>       <td>Constant Mean</td>   <th>  Adj. R-squared:    </th>  <td>   0.000</td> \n",
       "</tr>\n",
       "<tr>\n",
       "  <th>Vol Model:</th>            <td>GARCH</td>       <th>  Log-Likelihood:    </th> <td>  -7011.44</td>\n",
       "</tr>\n",
       "<tr>\n",
       "  <th>Distribution:</th>        <td>Normal</td>       <th>  AIC:               </th> <td>   14030.9</td>\n",
       "</tr>\n",
       "<tr>\n",
       "  <th>Method:</th>        <td>Maximum Likelihood</td> <th>  BIC:               </th> <td>   14056.7</td>\n",
       "</tr>\n",
       "<tr>\n",
       "  <th></th>                        <td></td>          <th>  No. Observations:  </th>    <td>4698</td>   \n",
       "</tr>\n",
       "<tr>\n",
       "  <th>Date:</th>           <td>Sat, Mar 30 2024</td>  <th>  Df Residuals:      </th>    <td>4697</td>   \n",
       "</tr>\n",
       "<tr>\n",
       "  <th>Time:</th>               <td>15:40:02</td>      <th>  Df Model:          </th>      <td>1</td>    \n",
       "</tr>\n",
       "</table>\n",
       "<table class=\"simpletable\">\n",
       "<caption>Mean Model</caption>\n",
       "<tr>\n",
       "   <td></td>     <th>coef</th>     <th>std err</th>      <th>t</th>       <th>P>|t|</th>     <th>95.0% Conf. Int.</th>   \n",
       "</tr>\n",
       "<tr>\n",
       "  <th>mu</th> <td>    0.0439</td> <td>1.433e-02</td> <td>    3.061</td> <td>2.203e-03</td> <td>[1.578e-02,7.193e-02]</td>\n",
       "</tr>\n",
       "</table>\n",
       "<table class=\"simpletable\">\n",
       "<caption>Volatility Model</caption>\n",
       "<tr>\n",
       "      <td></td>        <th>coef</th>     <th>std err</th>      <th>t</th>       <th>P>|t|</th>     <th>95.0% Conf. Int.</th>   \n",
       "</tr>\n",
       "<tr>\n",
       "  <th>omega</th>    <td>    0.0200</td> <td>5.667e-03</td> <td>    3.532</td> <td>4.121e-04</td> <td>[8.910e-03,3.112e-02]</td>\n",
       "</tr>\n",
       "<tr>\n",
       "  <th>alpha[1]</th> <td>    0.0730</td> <td>1.033e-02</td> <td>    7.069</td> <td>1.565e-12</td> <td>[5.277e-02,9.326e-02]</td>\n",
       "</tr>\n",
       "<tr>\n",
       "  <th>beta[1]</th>  <td>    0.9127</td> <td>1.286e-02</td> <td>   70.983</td>   <td>0.000</td>     <td>[  0.887,  0.938]</td>  \n",
       "</tr>\n",
       "</table><br/><br/>Covariance estimator: robust"
      ],
      "text/latex": [
       "\\begin{center}\n",
       "\\begin{tabular}{lclc}\n",
       "\\toprule\n",
       "\\textbf{Dep. Variable:} &    Daily Return    & \\textbf{  R-squared:         } &     0.000   \\\\\n",
       "\\textbf{Mean Model:}    &   Constant Mean    & \\textbf{  Adj. R-squared:    } &     0.000   \\\\\n",
       "\\textbf{Vol Model:}     &       GARCH        & \\textbf{  Log-Likelihood:    } &   -7011.44  \\\\\n",
       "\\textbf{Distribution:}  &       Normal       & \\textbf{  AIC:               } &    14030.9  \\\\\n",
       "\\textbf{Method:}        & Maximum Likelihood & \\textbf{  BIC:               } &    14056.7  \\\\\n",
       "\\textbf{}               &                    & \\textbf{  No. Observations:  } &    4698     \\\\\n",
       "\\textbf{Date:}          &  Sat, Mar 30 2024  & \\textbf{  Df Residuals:      } &    4697     \\\\\n",
       "\\textbf{Time:}          &      15:40:02      & \\textbf{  Df Model:          } &     1       \\\\\n",
       "\\bottomrule\n",
       "\\end{tabular}\n",
       "\\begin{tabular}{lccccc}\n",
       "            & \\textbf{coef} & \\textbf{std err} & \\textbf{t} & \\textbf{P$> |$t$|$} & \\textbf{95.0\\% Conf. Int.}  \\\\\n",
       "\\midrule\n",
       "\\textbf{mu} &       0.0439  &    1.433e-02     &     3.061  &      2.203e-03       &   [1.578e-02,7.193e-02]     \\\\\n",
       "                  & \\textbf{coef} & \\textbf{std err} & \\textbf{t} & \\textbf{P$> |$t$|$} & \\textbf{95.0\\% Conf. Int.}  \\\\\n",
       "\\midrule\n",
       "\\textbf{omega}    &       0.0200  &    5.667e-03     &     3.532  &      4.121e-04       &   [8.910e-03,3.112e-02]     \\\\\n",
       "\\textbf{alpha[1]} &       0.0730  &    1.033e-02     &     7.069  &      1.565e-12       &   [5.277e-02,9.326e-02]     \\\\\n",
       "\\textbf{beta[1]}  &       0.9127  &    1.286e-02     &    70.983  &        0.000         &     [  0.887,  0.938]       \\\\\n",
       "\\bottomrule\n",
       "\\end{tabular}\n",
       "%\\caption{Constant Mean - GARCH Model Results}\n",
       "\\end{center}\n",
       "\n",
       "Covariance estimator: robust"
      ],
      "text/plain": [
       "<class 'statsmodels.iolib.summary.Summary'>\n",
       "\"\"\"\n",
       "                     Constant Mean - GARCH Model Results                      \n",
       "==============================================================================\n",
       "Dep. Variable:           Daily Return   R-squared:                       0.000\n",
       "Mean Model:             Constant Mean   Adj. R-squared:                  0.000\n",
       "Vol Model:                      GARCH   Log-Likelihood:               -7011.44\n",
       "Distribution:                  Normal   AIC:                           14030.9\n",
       "Method:            Maximum Likelihood   BIC:                           14056.7\n",
       "                                        No. Observations:                 4698\n",
       "Date:                Sat, Mar 30 2024   Df Residuals:                     4697\n",
       "Time:                        15:40:02   Df Model:                            1\n",
       "                                 Mean Model                                 \n",
       "============================================================================\n",
       "                 coef    std err          t      P>|t|      95.0% Conf. Int.\n",
       "----------------------------------------------------------------------------\n",
       "mu             0.0439  1.433e-02      3.061  2.203e-03 [1.578e-02,7.193e-02]\n",
       "                              Volatility Model                              \n",
       "============================================================================\n",
       "                 coef    std err          t      P>|t|      95.0% Conf. Int.\n",
       "----------------------------------------------------------------------------\n",
       "omega          0.0200  5.667e-03      3.532  4.121e-04 [8.910e-03,3.112e-02]\n",
       "alpha[1]       0.0730  1.033e-02      7.069  1.565e-12 [5.277e-02,9.326e-02]\n",
       "beta[1]        0.9127  1.286e-02     70.983      0.000     [  0.887,  0.938]\n",
       "============================================================================\n",
       "\n",
       "Covariance estimator: robust\n",
       "\"\"\""
      ]
     },
     "metadata": {},
     "output_type": "display_data"
    },
    {
     "data": {
      "application/vnd.plotly.v1+json": {
       "config": {
        "plotlyServerURL": "https://plot.ly"
       },
       "data": [
        {
         "mode": "lines",
         "name": "MovingWindow",
         "type": "scatter",
         "x": [
          "2023-11-15T00:00:00",
          "2023-11-16T00:00:00",
          "2023-11-17T00:00:00",
          "2023-11-20T00:00:00",
          "2023-11-21T00:00:00",
          "2023-11-22T00:00:00",
          "2023-11-23T00:00:00",
          "2023-11-24T00:00:00",
          "2023-11-27T00:00:00",
          "2023-11-28T00:00:00",
          "2023-11-29T00:00:00",
          "2023-11-30T00:00:00",
          "2023-12-01T00:00:00",
          "2023-12-04T00:00:00",
          "2023-12-05T00:00:00",
          "2023-12-06T00:00:00",
          "2023-12-07T00:00:00",
          "2023-12-08T00:00:00",
          "2023-12-11T00:00:00",
          "2023-12-12T00:00:00",
          "2023-12-13T00:00:00",
          "2023-12-14T00:00:00",
          "2023-12-15T00:00:00",
          "2023-12-18T00:00:00",
          "2023-12-19T00:00:00",
          "2023-12-20T00:00:00",
          "2023-12-21T00:00:00",
          "2023-12-22T00:00:00",
          "2023-12-26T00:00:00",
          "2023-12-27T00:00:00",
          "2023-12-28T00:00:00",
          "2024-01-02T00:00:00",
          "2024-01-03T00:00:00",
          "2024-01-04T00:00:00",
          "2024-01-05T00:00:00",
          "2024-01-08T00:00:00",
          "2024-01-09T00:00:00",
          "2024-01-10T00:00:00",
          "2024-01-11T00:00:00",
          "2024-01-12T00:00:00",
          "2024-01-15T00:00:00",
          "2024-01-16T00:00:00",
          "2024-01-17T00:00:00",
          "2024-01-18T00:00:00",
          "2024-01-19T00:00:00",
          "2024-01-22T00:00:00",
          "2024-01-23T00:00:00",
          "2024-01-24T00:00:00",
          "2024-01-25T00:00:00",
          "2024-01-26T00:00:00",
          "2024-01-29T00:00:00",
          "2024-01-30T00:00:00",
          "2024-01-31T00:00:00",
          "2024-02-01T00:00:00",
          "2024-02-02T00:00:00",
          "2024-02-05T00:00:00",
          "2024-02-06T00:00:00",
          "2024-02-07T00:00:00",
          "2024-02-08T00:00:00",
          "2024-02-13T00:00:00",
          "2024-02-14T00:00:00",
          "2024-02-15T00:00:00",
          "2024-02-16T00:00:00",
          "2024-02-19T00:00:00",
          "2024-02-20T00:00:00",
          "2024-02-21T00:00:00",
          "2024-02-22T00:00:00",
          "2024-02-23T00:00:00",
          "2024-02-26T00:00:00",
          "2024-02-27T00:00:00",
          "2024-02-28T00:00:00",
          "2024-02-29T00:00:00",
          "2024-03-04T00:00:00",
          "2024-03-05T00:00:00",
          "2024-03-06T00:00:00",
          "2024-03-07T00:00:00",
          "2024-03-08T00:00:00",
          "2024-03-11T00:00:00",
          "2024-03-12T00:00:00",
          "2024-03-13T00:00:00",
          "2024-03-14T00:00:00",
          "2024-03-15T00:00:00",
          "2024-03-18T00:00:00",
          "2024-03-19T00:00:00",
          "2024-03-20T00:00:00",
          "2024-03-21T00:00:00",
          "2024-03-22T00:00:00",
          "2024-03-25T00:00:00",
          "2024-03-26T00:00:00",
          "2024-03-27T00:00:00"
         ],
         "y": [
          0.3208560735014902,
          0.30850107415382216,
          0.30644345332026374,
          0.17866284059687013,
          0.15001420483431752,
          0.1413176347194388,
          0.1399050392001175,
          0.14452894557702003,
          0.14445300171736286,
          0.1471717502181432,
          0.09452159377278428,
          0.09815922722450772,
          0.10673773356545144,
          0.10353956134120373,
          0.1090839614976973,
          0.10940010201120538,
          0.11001840519491429,
          0.11722172296049134,
          0.11878455149678865,
          0.1072469762863721,
          0.11578848725526684,
          0.13223224702922126,
          0.12695123527848065,
          0.1255550367365936,
          0.1157291417789594,
          0.14626799328516654,
          0.14703773888615188,
          0.1346535172348014,
          0.13445005642587646,
          0.1348160217295117,
          0.14931356364876489,
          0.1370263729097456,
          0.18491292344538265,
          0.19011383350265235,
          0.19039512198768468,
          0.16949781696034644,
          0.1703728976859366,
          0.17639140095513497,
          0.17551808267483263,
          0.17573987072160147,
          0.15782989727588057,
          0.16755747008446628,
          0.1668544491374568,
          0.16150952114946976,
          0.18444901844554717,
          0.18299920752226284,
          0.1845934984022815,
          0.18057812851227,
          0.18066775165160867,
          0.17820017222610343,
          0.1857389861323447,
          0.17341768939271734,
          0.11705557130605683,
          0.14812451228347762,
          0.19989071608276704,
          0.20885979258476634,
          0.20676564396282868,
          0.21500773179093455,
          0.2153700526875998,
          0.2229880183951614,
          0.22603263780923066,
          0.22694908753950507,
          0.23443711573982196,
          0.22848052986791365,
          0.17069234370517936,
          0.1599796720560477,
          0.1604522636545067,
          0.1475775452512447,
          0.1530714782985935,
          0.14672714860467445,
          0.14310068431269887,
          0.14257874557166136,
          0.150429359858287,
          0.13885966735576627,
          0.12884691071389356,
          0.12850233703172442,
          0.14393572895656506,
          0.15081575275992037,
          0.14959875041999518,
          0.1470518017711631,
          0.14445991715663536,
          0.17474131111296234,
          0.15861394655411343,
          0.16073321144179067,
          0.18045119896465334,
          0.23001970190494359,
          0.21990989018969637,
          0.2164298149452817,
          0.21927630535074766,
          0.21774025133926123
         ]
        },
        {
         "mode": "lines",
         "name": "ARCH",
         "type": "scatter",
         "x": [
          "2023-11-15T00:00:00",
          "2023-11-16T00:00:00",
          "2023-11-17T00:00:00",
          "2023-11-20T00:00:00",
          "2023-11-21T00:00:00",
          "2023-11-22T00:00:00",
          "2023-11-23T00:00:00",
          "2023-11-24T00:00:00",
          "2023-11-27T00:00:00",
          "2023-11-28T00:00:00",
          "2023-11-29T00:00:00",
          "2023-11-30T00:00:00",
          "2023-12-01T00:00:00",
          "2023-12-04T00:00:00",
          "2023-12-05T00:00:00",
          "2023-12-06T00:00:00",
          "2023-12-07T00:00:00",
          "2023-12-08T00:00:00",
          "2023-12-11T00:00:00",
          "2023-12-12T00:00:00",
          "2023-12-13T00:00:00",
          "2023-12-14T00:00:00",
          "2023-12-15T00:00:00",
          "2023-12-18T00:00:00",
          "2023-12-19T00:00:00",
          "2023-12-20T00:00:00",
          "2023-12-21T00:00:00",
          "2023-12-22T00:00:00",
          "2023-12-26T00:00:00",
          "2023-12-27T00:00:00",
          "2023-12-28T00:00:00",
          "2024-01-02T00:00:00",
          "2024-01-03T00:00:00",
          "2024-01-04T00:00:00",
          "2024-01-05T00:00:00",
          "2024-01-08T00:00:00",
          "2024-01-09T00:00:00",
          "2024-01-10T00:00:00",
          "2024-01-11T00:00:00",
          "2024-01-12T00:00:00",
          "2024-01-15T00:00:00",
          "2024-01-16T00:00:00",
          "2024-01-17T00:00:00",
          "2024-01-18T00:00:00",
          "2024-01-19T00:00:00",
          "2024-01-22T00:00:00",
          "2024-01-23T00:00:00",
          "2024-01-24T00:00:00",
          "2024-01-25T00:00:00",
          "2024-01-26T00:00:00",
          "2024-01-29T00:00:00",
          "2024-01-30T00:00:00",
          "2024-01-31T00:00:00",
          "2024-02-01T00:00:00",
          "2024-02-02T00:00:00",
          "2024-02-05T00:00:00",
          "2024-02-06T00:00:00",
          "2024-02-07T00:00:00",
          "2024-02-08T00:00:00",
          "2024-02-13T00:00:00",
          "2024-02-14T00:00:00",
          "2024-02-15T00:00:00",
          "2024-02-16T00:00:00",
          "2024-02-19T00:00:00",
          "2024-02-20T00:00:00",
          "2024-02-21T00:00:00",
          "2024-02-22T00:00:00",
          "2024-02-23T00:00:00",
          "2024-02-26T00:00:00",
          "2024-02-27T00:00:00",
          "2024-02-28T00:00:00",
          "2024-02-29T00:00:00",
          "2024-03-04T00:00:00",
          "2024-03-05T00:00:00",
          "2024-03-06T00:00:00",
          "2024-03-07T00:00:00",
          "2024-03-08T00:00:00",
          "2024-03-11T00:00:00",
          "2024-03-12T00:00:00",
          "2024-03-13T00:00:00",
          "2024-03-14T00:00:00",
          "2024-03-15T00:00:00",
          "2024-03-18T00:00:00",
          "2024-03-19T00:00:00",
          "2024-03-20T00:00:00",
          "2024-03-21T00:00:00",
          "2024-03-22T00:00:00",
          "2024-03-25T00:00:00",
          "2024-03-26T00:00:00",
          "2024-03-27T00:00:00"
         ],
         "y": [
          0.2788934844326354,
          0.26910283856985207,
          0.26747572802632874,
          0.16962343955670578,
          0.14924800992301068,
          0.14327174496428025,
          0.14231193808540324,
          0.14546536715547317,
          0.14541330758430246,
          0.1472823802395126,
          0.11362973550835458,
          0.1157382361610659,
          0.12086421771998787,
          0.11892910515232152,
          0.12230107227130299,
          0.12249576207727308,
          0.12287726424516186,
          0.12739023210744643,
          0.12838523669531224,
          0.1211748675783146,
          0.12648256731599242,
          0.1371565939449611,
          0.13366934226580976,
          0.13275629675649625,
          0.12644508516864628,
          0.14665985397927064,
          0.14718999496979412,
          0.13877251536815227,
          0.13863633044900156,
          0.138881338304971,
          0.14876243049170615,
          0.14036603744596293,
          0.17418396169986605,
          0.17800529208849444,
          0.17821261637430638,
          0.16300426311766192,
          0.16363253243020418,
          0.167975108555942,
          0.1673427025438668,
          0.16750323703531284,
          0.15470978861464574,
          0.16161412968862812,
          0.16111147970257828,
          0.15730830387230488,
          0.17384424582327082,
          0.17278378915324957,
          0.17395002755446826,
          0.17101715021884445,
          0.17108245118063303,
          0.16928728800244847,
          0.17478935292226538,
          0.16582483973193587,
          0.1272847697093501,
          0.1479399506965901,
          0.18524814116623453,
          0.1919544030947184,
          0.19038363815509368,
          0.19658222704422668,
          0.19685570107661116,
          0.2026236679315415,
          0.2049381558934261,
          0.20563582099723926,
          0.21135267488056456,
          0.20680266238824777,
          0.16386208378923509,
          0.15622592550901981,
          0.1565599849106699,
          0.14756228824158768,
          0.15137481091425214,
          0.1469759798777786,
          0.144487764060059,
          0.14413129438575478,
          0.14953605791961042,
          0.14160371784164183,
          0.1349150886387572,
          0.13468813925380843,
          0.14505894951545342,
          0.14980436545582576,
          0.1489599958171105,
          0.14719968846743317,
          0.1454180477617251,
          0.16678084642604563,
          0.155262078160329,
          0.15675870615605078,
          0.17092467995996902,
          0.2079766370978048,
          0.20028898169966214,
          0.19765605135221825,
          0.19980909790837426,
          0.19864665034380877
         ]
        },
        {
         "mode": "lines",
         "name": "ARCH_package",
         "type": "scatter",
         "x": [
          "2023-11-15T00:00:00",
          "2023-11-16T00:00:00",
          "2023-11-17T00:00:00",
          "2023-11-20T00:00:00",
          "2023-11-21T00:00:00",
          "2023-11-22T00:00:00",
          "2023-11-23T00:00:00",
          "2023-11-24T00:00:00",
          "2023-11-27T00:00:00",
          "2023-11-28T00:00:00",
          "2023-11-29T00:00:00",
          "2023-11-30T00:00:00",
          "2023-12-01T00:00:00",
          "2023-12-04T00:00:00",
          "2023-12-05T00:00:00",
          "2023-12-06T00:00:00",
          "2023-12-07T00:00:00",
          "2023-12-08T00:00:00",
          "2023-12-11T00:00:00",
          "2023-12-12T00:00:00",
          "2023-12-13T00:00:00",
          "2023-12-14T00:00:00",
          "2023-12-15T00:00:00",
          "2023-12-18T00:00:00",
          "2023-12-19T00:00:00",
          "2023-12-20T00:00:00",
          "2023-12-21T00:00:00",
          "2023-12-22T00:00:00",
          "2023-12-26T00:00:00",
          "2023-12-27T00:00:00",
          "2023-12-28T00:00:00",
          "2024-01-02T00:00:00",
          "2024-01-03T00:00:00",
          "2024-01-04T00:00:00",
          "2024-01-05T00:00:00",
          "2024-01-08T00:00:00",
          "2024-01-09T00:00:00",
          "2024-01-10T00:00:00",
          "2024-01-11T00:00:00",
          "2024-01-12T00:00:00",
          "2024-01-15T00:00:00",
          "2024-01-16T00:00:00",
          "2024-01-17T00:00:00",
          "2024-01-18T00:00:00",
          "2024-01-19T00:00:00",
          "2024-01-22T00:00:00",
          "2024-01-23T00:00:00",
          "2024-01-24T00:00:00",
          "2024-01-25T00:00:00",
          "2024-01-26T00:00:00",
          "2024-01-29T00:00:00",
          "2024-01-30T00:00:00",
          "2024-01-31T00:00:00",
          "2024-02-01T00:00:00",
          "2024-02-02T00:00:00",
          "2024-02-05T00:00:00",
          "2024-02-06T00:00:00",
          "2024-02-07T00:00:00",
          "2024-02-08T00:00:00",
          "2024-02-13T00:00:00",
          "2024-02-14T00:00:00",
          "2024-02-15T00:00:00",
          "2024-02-16T00:00:00",
          "2024-02-19T00:00:00",
          "2024-02-20T00:00:00",
          "2024-02-21T00:00:00",
          "2024-02-22T00:00:00",
          "2024-02-23T00:00:00",
          "2024-02-26T00:00:00",
          "2024-02-27T00:00:00",
          "2024-02-28T00:00:00",
          "2024-02-29T00:00:00",
          "2024-03-04T00:00:00",
          "2024-03-05T00:00:00",
          "2024-03-06T00:00:00",
          "2024-03-07T00:00:00",
          "2024-03-08T00:00:00",
          "2024-03-11T00:00:00",
          "2024-03-12T00:00:00",
          "2024-03-13T00:00:00",
          "2024-03-14T00:00:00",
          "2024-03-15T00:00:00",
          "2024-03-18T00:00:00",
          "2024-03-19T00:00:00",
          "2024-03-20T00:00:00",
          "2024-03-21T00:00:00",
          "2024-03-22T00:00:00",
          "2024-03-25T00:00:00",
          "2024-03-26T00:00:00",
          "2024-03-27T00:00:00"
         ],
         "y": [
          0.18623132565920456,
          0.2661302405644114,
          0.16209360446315146,
          0.1756556754409881,
          0.17210702857798557,
          0.17365477496852047,
          0.16200702694630414,
          0.1619866132583695,
          0.18343157310743724,
          0.16253238006609322,
          0.1934314157823157,
          0.16461361602443864,
          0.16870553830776508,
          0.1935446453407651,
          0.1655295708752412,
          0.18880978215072822,
          0.16251722419463255,
          0.16408807267124317,
          0.1948734327994699,
          0.1654302068993255,
          0.16888716393618422,
          0.18551014279723074,
          0.2060376360930445,
          0.17650780166150384,
          0.16292582541806372,
          0.16220487474097486,
          0.23214396322365471,
          0.16686692687445315,
          0.16209815677402928,
          0.16490089512501022,
          0.16985296797984306,
          0.21752649396335574,
          0.17417336399034802,
          0.29830083832104654,
          0.18467263129641023,
          0.16424704396929335,
          0.16919277657786083,
          0.1703257877013102,
          0.18582444586515984,
          0.16263644001305505,
          0.17326979724837674,
          0.16385563099248138,
          0.20791475140651966,
          0.29686138941451,
          0.16401952027357475,
          0.23216975876978582,
          0.1626074984481252,
          0.17377042155480646,
          0.17018894416484298,
          0.16236610819165997,
          0.16216605380780394,
          0.18999071610078214,
          0.1625946421756891,
          0.16658659736613804,
          0.23516113024885463,
          0.34268519407128584,
          0.2010467524914712,
          0.16702273101733978,
          0.2002092748680323,
          0.1637659294076481,
          0.19363193439507445,
          0.20689870121296267,
          0.16781463192452262,
          0.19732906562355665,
          0.21367973570352533,
          0.19484062929516427,
          0.16428416148554906,
          0.16674258971863154,
          0.16320722939668103,
          0.1833435144030799,
          0.17922568952572976,
          0.19284045762318527,
          0.16603753643893657,
          0.21665794431968727,
          0.18848191902716308,
          0.1667500239376594,
          0.16237246704044017,
          0.20541089561977513,
          0.18655008919430155,
          0.17627090595546732,
          0.16861984330181984,
          0.18596568569897312,
          0.25193766681585417,
          0.16861391275215243,
          0.19506436006853428,
          0.2244664762983748,
          0.31193826516204576,
          0.1646757303797398,
          0.17041553659239725,
          0.18792260984463377
         ]
        },
        {
         "mode": "lines",
         "name": "EWMA",
         "type": "scatter",
         "x": [
          "2023-11-15T00:00:00",
          "2023-11-16T00:00:00",
          "2023-11-17T00:00:00",
          "2023-11-20T00:00:00",
          "2023-11-21T00:00:00",
          "2023-11-22T00:00:00",
          "2023-11-23T00:00:00",
          "2023-11-24T00:00:00",
          "2023-11-27T00:00:00",
          "2023-11-28T00:00:00",
          "2023-11-29T00:00:00",
          "2023-11-30T00:00:00",
          "2023-12-01T00:00:00",
          "2023-12-04T00:00:00",
          "2023-12-05T00:00:00",
          "2023-12-06T00:00:00",
          "2023-12-07T00:00:00",
          "2023-12-08T00:00:00",
          "2023-12-11T00:00:00",
          "2023-12-12T00:00:00",
          "2023-12-13T00:00:00",
          "2023-12-14T00:00:00",
          "2023-12-15T00:00:00",
          "2023-12-18T00:00:00",
          "2023-12-19T00:00:00",
          "2023-12-20T00:00:00",
          "2023-12-21T00:00:00",
          "2023-12-22T00:00:00",
          "2023-12-26T00:00:00",
          "2023-12-27T00:00:00",
          "2023-12-28T00:00:00",
          "2024-01-02T00:00:00",
          "2024-01-03T00:00:00",
          "2024-01-04T00:00:00",
          "2024-01-05T00:00:00",
          "2024-01-08T00:00:00",
          "2024-01-09T00:00:00",
          "2024-01-10T00:00:00",
          "2024-01-11T00:00:00",
          "2024-01-12T00:00:00",
          "2024-01-15T00:00:00",
          "2024-01-16T00:00:00",
          "2024-01-17T00:00:00",
          "2024-01-18T00:00:00",
          "2024-01-19T00:00:00",
          "2024-01-22T00:00:00",
          "2024-01-23T00:00:00",
          "2024-01-24T00:00:00",
          "2024-01-25T00:00:00",
          "2024-01-26T00:00:00",
          "2024-01-29T00:00:00",
          "2024-01-30T00:00:00",
          "2024-01-31T00:00:00",
          "2024-02-01T00:00:00",
          "2024-02-02T00:00:00",
          "2024-02-05T00:00:00",
          "2024-02-06T00:00:00",
          "2024-02-07T00:00:00",
          "2024-02-08T00:00:00",
          "2024-02-13T00:00:00",
          "2024-02-14T00:00:00",
          "2024-02-15T00:00:00",
          "2024-02-16T00:00:00",
          "2024-02-19T00:00:00",
          "2024-02-20T00:00:00",
          "2024-02-21T00:00:00",
          "2024-02-22T00:00:00",
          "2024-02-23T00:00:00",
          "2024-02-26T00:00:00",
          "2024-02-27T00:00:00",
          "2024-02-28T00:00:00",
          "2024-02-29T00:00:00",
          "2024-03-04T00:00:00",
          "2024-03-05T00:00:00",
          "2024-03-06T00:00:00",
          "2024-03-07T00:00:00",
          "2024-03-08T00:00:00",
          "2024-03-11T00:00:00",
          "2024-03-12T00:00:00",
          "2024-03-13T00:00:00",
          "2024-03-14T00:00:00",
          "2024-03-15T00:00:00",
          "2024-03-18T00:00:00",
          "2024-03-19T00:00:00",
          "2024-03-20T00:00:00",
          "2024-03-21T00:00:00",
          "2024-03-22T00:00:00",
          "2024-03-25T00:00:00",
          "2024-03-26T00:00:00",
          "2024-03-27T00:00:00"
         ],
         "y": [
          0.2474587641936416,
          0.2399547808974284,
          0.23411212004759874,
          0.22839808797131936,
          0.22310731143414136,
          0.21632833436502347,
          0.20974127921302393,
          0.2061065797181524,
          0.19986467142503328,
          0.19890226545405001,
          0.19312144310927692,
          0.18840192912795634,
          0.18736350045244615,
          0.18232110558647358,
          0.18081751952582645,
          0.1754491607917792,
          0.17034728260189047,
          0.17142705985149523,
          0.16691334594800075,
          0.16320761389450086,
          0.1621390295152461,
          0.1661201542275344,
          0.16388536331641262,
          0.15898926805321303,
          0.15422996231811098,
          0.16495288581539738,
          0.1606084770284825,
          0.15577032358201362,
          0.1516962138124551,
          0.14878987235049115,
          0.15662749460085687,
          0.1543808224262062,
          0.18047612160840065,
          0.17837685019934732,
          0.173203266367329,
          0.16892814986509566,
          0.1649883657767783,
          0.16388138460252027,
          0.15894809068927163,
          0.15589341871009152,
          0.15159851128136162,
          0.1558060213262105,
          0.18123499825344352,
          0.17613425588416645,
          0.1844280817955002,
          0.17885906929139184,
          0.17555456901130342,
          0.1713466656620694,
          0.16624180715178302,
          0.1612481605182069,
          0.1619402018417371,
          0.1570615160541707,
          0.15294556871880854,
          0.1645601524367122,
          0.2027716333971868,
          0.20215512928370813,
          0.19657247948246853,
          0.19697083227527135,
          0.19131507667102113,
          0.1908712137330965,
          0.19196324408754648,
          0.18682918250324715,
          0.18731760441714146,
          0.1908386863379881,
          0.1898811426137202,
          0.18434606067885997,
          0.17961449584840716,
          0.17441737390748155,
          0.1723919452459246,
          0.16976772427061432,
          0.17048507642087293,
          0.16582532040423173,
          0.17177130418356382,
          0.17077370817851903,
          0.16621119011495872,
          0.16126778145762746,
          0.16518641227718245,
          0.164200582545113,
          0.16201112931466563,
          0.15844448179771764,
          0.1584877964712782,
          0.17201040346768623,
          0.16805911273487048,
          0.1684752311254241,
          0.17586833467035606,
          0.20327433410378162,
          0.19736184240935964,
          0.19239535228397342,
          0.19089954911525894,
          0.18516267202628497
         ]
        },
        {
         "mode": "lines",
         "name": "GARCH",
         "type": "scatter",
         "x": [
          "2023-11-15T00:00:00",
          "2023-11-16T00:00:00",
          "2023-11-17T00:00:00",
          "2023-11-20T00:00:00",
          "2023-11-21T00:00:00",
          "2023-11-22T00:00:00",
          "2023-11-23T00:00:00",
          "2023-11-24T00:00:00",
          "2023-11-27T00:00:00",
          "2023-11-28T00:00:00",
          "2023-11-29T00:00:00",
          "2023-11-30T00:00:00",
          "2023-12-01T00:00:00",
          "2023-12-04T00:00:00",
          "2023-12-05T00:00:00",
          "2023-12-06T00:00:00",
          "2023-12-07T00:00:00",
          "2023-12-08T00:00:00",
          "2023-12-11T00:00:00",
          "2023-12-12T00:00:00",
          "2023-12-13T00:00:00",
          "2023-12-14T00:00:00",
          "2023-12-15T00:00:00",
          "2023-12-18T00:00:00",
          "2023-12-19T00:00:00",
          "2023-12-20T00:00:00",
          "2023-12-21T00:00:00",
          "2023-12-22T00:00:00",
          "2023-12-26T00:00:00",
          "2023-12-27T00:00:00",
          "2023-12-28T00:00:00",
          "2024-01-02T00:00:00",
          "2024-01-03T00:00:00",
          "2024-01-04T00:00:00",
          "2024-01-05T00:00:00",
          "2024-01-08T00:00:00",
          "2024-01-09T00:00:00",
          "2024-01-10T00:00:00",
          "2024-01-11T00:00:00",
          "2024-01-12T00:00:00",
          "2024-01-15T00:00:00",
          "2024-01-16T00:00:00",
          "2024-01-17T00:00:00",
          "2024-01-18T00:00:00",
          "2024-01-19T00:00:00",
          "2024-01-22T00:00:00",
          "2024-01-23T00:00:00",
          "2024-01-24T00:00:00",
          "2024-01-25T00:00:00",
          "2024-01-26T00:00:00",
          "2024-01-29T00:00:00",
          "2024-01-30T00:00:00",
          "2024-01-31T00:00:00",
          "2024-02-01T00:00:00",
          "2024-02-02T00:00:00",
          "2024-02-05T00:00:00",
          "2024-02-06T00:00:00",
          "2024-02-07T00:00:00",
          "2024-02-08T00:00:00",
          "2024-02-13T00:00:00",
          "2024-02-14T00:00:00",
          "2024-02-15T00:00:00",
          "2024-02-16T00:00:00",
          "2024-02-19T00:00:00",
          "2024-02-20T00:00:00",
          "2024-02-21T00:00:00",
          "2024-02-22T00:00:00",
          "2024-02-23T00:00:00",
          "2024-02-26T00:00:00",
          "2024-02-27T00:00:00",
          "2024-02-28T00:00:00",
          "2024-02-29T00:00:00",
          "2024-03-04T00:00:00",
          "2024-03-05T00:00:00",
          "2024-03-06T00:00:00",
          "2024-03-07T00:00:00",
          "2024-03-08T00:00:00",
          "2024-03-11T00:00:00",
          "2024-03-12T00:00:00",
          "2024-03-13T00:00:00",
          "2024-03-14T00:00:00",
          "2024-03-15T00:00:00",
          "2024-03-18T00:00:00",
          "2024-03-19T00:00:00",
          "2024-03-20T00:00:00",
          "2024-03-21T00:00:00",
          "2024-03-22T00:00:00",
          "2024-03-25T00:00:00",
          "2024-03-26T00:00:00",
          "2024-03-27T00:00:00"
         ],
         "y": [
          0.18600088503101003,
          0.175905711370871,
          0.16907444940870944,
          0.16329543412964992,
          0.1587714915817401,
          0.15302484980946568,
          0.1482436765891395,
          0.1475889860396654,
          0.14380164428283979,
          0.1466204158323844,
          0.14328193471346853,
          0.14154663097862807,
          0.1440458809022116,
          0.1415809162365944,
          0.1432096527562981,
          0.14031490697921012,
          0.1380564903907309,
          0.14241995023378573,
          0.14023868976787598,
          0.1391183009744376,
          0.1406654800198132,
          0.14671510220098605,
          0.145748822813149,
          0.14233822385704117,
          0.13953220177321407,
          0.15147838361367127,
          0.14759341845775983,
          0.143811969837512,
          0.14127279940748272,
          0.14013359173909326,
          0.1487264918307804,
          0.14695252952825402,
          0.17082010179355758,
          0.16617361463587912,
          0.15941524945005062,
          0.15447165245848826,
          0.15056325525435782,
          0.14985966325944597,
          0.14568215055351058,
          0.14384224009735555,
          0.14109927423475147,
          0.14643331080676866,
          0.1701097457295164,
          0.16285734251264739,
          0.1691043422467029,
          0.16167376455036991,
          0.15745608247441825,
          0.15299906585826703,
          0.1483283947224757,
          0.14443340369878427,
          0.14645153978405717,
          0.14287444295704024,
          0.14051165812094168,
          0.15287606519955024,
          0.18783464419188328,
          0.1826659990749272,
          0.17359898854425976,
          0.1716561995996646,
          0.1641099211812657,
          0.1628405650527069,
          0.16333010754259591,
          0.1575209862270224,
          0.15821925483486896,
          0.16185797550742304,
          0.1604798357494553,
          0.15467758978498844,
          0.15050695845777592,
          0.1464395364416331,
          0.14612436280889202,
          0.1451758819325434,
          0.14758668194115795,
          0.14427894419509035,
          0.15168575389117742,
          0.1512132002547142,
          0.1473584927355583,
          0.1436832256782436,
          0.14891152295704896,
          0.14865603320669227,
          0.147272775288939,
          0.14477446904643831,
          0.1459533135043462,
          0.15929096436040208,
          0.15462875756683125,
          0.1547041808854922,
          0.1612727786627305,
          0.18570204475615312,
          0.17588015255494005,
          0.16833721739532082,
          0.1652870526908996,
          0.15851143319664404
         ]
        },
        {
         "mode": "lines",
         "name": "GARCH_package",
         "type": "scatter",
         "x": [
          "2023-11-15T00:00:00",
          "2023-11-16T00:00:00",
          "2023-11-17T00:00:00",
          "2023-11-20T00:00:00",
          "2023-11-21T00:00:00",
          "2023-11-22T00:00:00",
          "2023-11-23T00:00:00",
          "2023-11-24T00:00:00",
          "2023-11-27T00:00:00",
          "2023-11-28T00:00:00",
          "2023-11-29T00:00:00",
          "2023-11-30T00:00:00",
          "2023-12-01T00:00:00",
          "2023-12-04T00:00:00",
          "2023-12-05T00:00:00",
          "2023-12-06T00:00:00",
          "2023-12-07T00:00:00",
          "2023-12-08T00:00:00",
          "2023-12-11T00:00:00",
          "2023-12-12T00:00:00",
          "2023-12-13T00:00:00",
          "2023-12-14T00:00:00",
          "2023-12-15T00:00:00",
          "2023-12-18T00:00:00",
          "2023-12-19T00:00:00",
          "2023-12-20T00:00:00",
          "2023-12-21T00:00:00",
          "2023-12-22T00:00:00",
          "2023-12-26T00:00:00",
          "2023-12-27T00:00:00",
          "2023-12-28T00:00:00",
          "2024-01-02T00:00:00",
          "2024-01-03T00:00:00",
          "2024-01-04T00:00:00",
          "2024-01-05T00:00:00",
          "2024-01-08T00:00:00",
          "2024-01-09T00:00:00",
          "2024-01-10T00:00:00",
          "2024-01-11T00:00:00",
          "2024-01-12T00:00:00",
          "2024-01-15T00:00:00",
          "2024-01-16T00:00:00",
          "2024-01-17T00:00:00",
          "2024-01-18T00:00:00",
          "2024-01-19T00:00:00",
          "2024-01-22T00:00:00",
          "2024-01-23T00:00:00",
          "2024-01-24T00:00:00",
          "2024-01-25T00:00:00",
          "2024-01-26T00:00:00",
          "2024-01-29T00:00:00",
          "2024-01-30T00:00:00",
          "2024-01-31T00:00:00",
          "2024-02-01T00:00:00",
          "2024-02-02T00:00:00",
          "2024-02-05T00:00:00",
          "2024-02-06T00:00:00",
          "2024-02-07T00:00:00",
          "2024-02-08T00:00:00",
          "2024-02-13T00:00:00",
          "2024-02-14T00:00:00",
          "2024-02-15T00:00:00",
          "2024-02-16T00:00:00",
          "2024-02-19T00:00:00",
          "2024-02-20T00:00:00",
          "2024-02-21T00:00:00",
          "2024-02-22T00:00:00",
          "2024-02-23T00:00:00",
          "2024-02-26T00:00:00",
          "2024-02-27T00:00:00",
          "2024-02-28T00:00:00",
          "2024-02-29T00:00:00",
          "2024-03-04T00:00:00",
          "2024-03-05T00:00:00",
          "2024-03-06T00:00:00",
          "2024-03-07T00:00:00",
          "2024-03-08T00:00:00",
          "2024-03-11T00:00:00",
          "2024-03-12T00:00:00",
          "2024-03-13T00:00:00",
          "2024-03-14T00:00:00",
          "2024-03-15T00:00:00",
          "2024-03-18T00:00:00",
          "2024-03-19T00:00:00",
          "2024-03-20T00:00:00",
          "2024-03-21T00:00:00",
          "2024-03-22T00:00:00",
          "2024-03-25T00:00:00",
          "2024-03-26T00:00:00",
          "2024-03-27T00:00:00"
         ],
         "y": [
          0.24046933538418044,
          0.24967916031044243,
          0.2395952950242089,
          0.23203844271929505,
          0.22433751131859536,
          0.21732087501209052,
          0.2088277414039512,
          0.2007605530399566,
          0.19698841013149365,
          0.18962314873774022,
          0.18864695497974904,
          0.1821018913161324,
          0.176685622443268,
          0.17688699289377666,
          0.17115546426129163,
          0.17077489240079688,
          0.16478892826980737,
          0.15946754450540462,
          0.16153606171500995,
          0.1566722447316206,
          0.15286528889442166,
          0.15330780031776187,
          0.1588876396258514,
          0.15665209537011715,
          0.15154117895802818,
          0.14655125928513474,
          0.16038103622423988,
          0.15591721873879,
          0.15065973196859647,
          0.14632790371923146,
          0.14343486833372632,
          0.15349514868138267,
          0.15111690856167342,
          0.18477571101720902,
          0.18240945488085353,
          0.17613650306134002,
          0.17119855000407816,
          0.16680006855088247,
          0.16610987869508367,
          0.16040974645071002,
          0.15736513671209834,
          0.15240548356829417,
          0.15866054361307255,
          0.19000060479791192,
          0.18326088669090054,
          0.19176623933539283,
          0.18468666265359113,
          0.1800969892816665,
          0.17511620037116127,
          0.1688668841626969,
          0.1629146820429786,
          0.1634817244468404,
          0.15791745053428616,
          0.15354277706673863,
          0.16710371422276032,
          0.21102501981019606,
          0.20986589128953445,
          0.2025886225133679,
          0.20191817578374427,
          0.19450070904349176,
          0.1931667297704525,
          0.1947892321896106,
          0.1884898543908107,
          0.18843064086538677,
          0.19196820087181396,
          0.19113756883776367,
          0.18439673506867804,
          0.17847120227920482,
          0.172202553522868,
          0.17052001010027484,
          0.16806561722162042,
          0.16883098917104547,
          0.16368418307524213,
          0.1707625489416749,
          0.17034146391794708,
          0.16525317198570452,
          0.1595386660313786,
          0.16423125952731424,
          0.16392543350360061,
          0.1612672745034391,
          0.1571077424712497,
          0.15723485573924248,
          0.17511394383365425,
          0.17009811211670334,
          0.1712441881930536,
          0.17936306538147095,
          0.21050630883227162,
          0.202801441313663,
          0.19650859862855405,
          0.19387439411181454
         ]
        }
       ],
       "layout": {
        "legend": {
         "title": {
          "text": "Method"
         }
        },
        "template": {
         "data": {
          "bar": [
           {
            "error_x": {
             "color": "#2a3f5f"
            },
            "error_y": {
             "color": "#2a3f5f"
            },
            "marker": {
             "line": {
              "color": "#E5ECF6",
              "width": 0.5
             },
             "pattern": {
              "fillmode": "overlay",
              "size": 10,
              "solidity": 0.2
             }
            },
            "type": "bar"
           }
          ],
          "barpolar": [
           {
            "marker": {
             "line": {
              "color": "#E5ECF6",
              "width": 0.5
             },
             "pattern": {
              "fillmode": "overlay",
              "size": 10,
              "solidity": 0.2
             }
            },
            "type": "barpolar"
           }
          ],
          "carpet": [
           {
            "aaxis": {
             "endlinecolor": "#2a3f5f",
             "gridcolor": "white",
             "linecolor": "white",
             "minorgridcolor": "white",
             "startlinecolor": "#2a3f5f"
            },
            "baxis": {
             "endlinecolor": "#2a3f5f",
             "gridcolor": "white",
             "linecolor": "white",
             "minorgridcolor": "white",
             "startlinecolor": "#2a3f5f"
            },
            "type": "carpet"
           }
          ],
          "choropleth": [
           {
            "colorbar": {
             "outlinewidth": 0,
             "ticks": ""
            },
            "type": "choropleth"
           }
          ],
          "contour": [
           {
            "colorbar": {
             "outlinewidth": 0,
             "ticks": ""
            },
            "colorscale": [
             [
              0,
              "#0d0887"
             ],
             [
              0.1111111111111111,
              "#46039f"
             ],
             [
              0.2222222222222222,
              "#7201a8"
             ],
             [
              0.3333333333333333,
              "#9c179e"
             ],
             [
              0.4444444444444444,
              "#bd3786"
             ],
             [
              0.5555555555555556,
              "#d8576b"
             ],
             [
              0.6666666666666666,
              "#ed7953"
             ],
             [
              0.7777777777777778,
              "#fb9f3a"
             ],
             [
              0.8888888888888888,
              "#fdca26"
             ],
             [
              1,
              "#f0f921"
             ]
            ],
            "type": "contour"
           }
          ],
          "contourcarpet": [
           {
            "colorbar": {
             "outlinewidth": 0,
             "ticks": ""
            },
            "type": "contourcarpet"
           }
          ],
          "heatmap": [
           {
            "colorbar": {
             "outlinewidth": 0,
             "ticks": ""
            },
            "colorscale": [
             [
              0,
              "#0d0887"
             ],
             [
              0.1111111111111111,
              "#46039f"
             ],
             [
              0.2222222222222222,
              "#7201a8"
             ],
             [
              0.3333333333333333,
              "#9c179e"
             ],
             [
              0.4444444444444444,
              "#bd3786"
             ],
             [
              0.5555555555555556,
              "#d8576b"
             ],
             [
              0.6666666666666666,
              "#ed7953"
             ],
             [
              0.7777777777777778,
              "#fb9f3a"
             ],
             [
              0.8888888888888888,
              "#fdca26"
             ],
             [
              1,
              "#f0f921"
             ]
            ],
            "type": "heatmap"
           }
          ],
          "heatmapgl": [
           {
            "colorbar": {
             "outlinewidth": 0,
             "ticks": ""
            },
            "colorscale": [
             [
              0,
              "#0d0887"
             ],
             [
              0.1111111111111111,
              "#46039f"
             ],
             [
              0.2222222222222222,
              "#7201a8"
             ],
             [
              0.3333333333333333,
              "#9c179e"
             ],
             [
              0.4444444444444444,
              "#bd3786"
             ],
             [
              0.5555555555555556,
              "#d8576b"
             ],
             [
              0.6666666666666666,
              "#ed7953"
             ],
             [
              0.7777777777777778,
              "#fb9f3a"
             ],
             [
              0.8888888888888888,
              "#fdca26"
             ],
             [
              1,
              "#f0f921"
             ]
            ],
            "type": "heatmapgl"
           }
          ],
          "histogram": [
           {
            "marker": {
             "pattern": {
              "fillmode": "overlay",
              "size": 10,
              "solidity": 0.2
             }
            },
            "type": "histogram"
           }
          ],
          "histogram2d": [
           {
            "colorbar": {
             "outlinewidth": 0,
             "ticks": ""
            },
            "colorscale": [
             [
              0,
              "#0d0887"
             ],
             [
              0.1111111111111111,
              "#46039f"
             ],
             [
              0.2222222222222222,
              "#7201a8"
             ],
             [
              0.3333333333333333,
              "#9c179e"
             ],
             [
              0.4444444444444444,
              "#bd3786"
             ],
             [
              0.5555555555555556,
              "#d8576b"
             ],
             [
              0.6666666666666666,
              "#ed7953"
             ],
             [
              0.7777777777777778,
              "#fb9f3a"
             ],
             [
              0.8888888888888888,
              "#fdca26"
             ],
             [
              1,
              "#f0f921"
             ]
            ],
            "type": "histogram2d"
           }
          ],
          "histogram2dcontour": [
           {
            "colorbar": {
             "outlinewidth": 0,
             "ticks": ""
            },
            "colorscale": [
             [
              0,
              "#0d0887"
             ],
             [
              0.1111111111111111,
              "#46039f"
             ],
             [
              0.2222222222222222,
              "#7201a8"
             ],
             [
              0.3333333333333333,
              "#9c179e"
             ],
             [
              0.4444444444444444,
              "#bd3786"
             ],
             [
              0.5555555555555556,
              "#d8576b"
             ],
             [
              0.6666666666666666,
              "#ed7953"
             ],
             [
              0.7777777777777778,
              "#fb9f3a"
             ],
             [
              0.8888888888888888,
              "#fdca26"
             ],
             [
              1,
              "#f0f921"
             ]
            ],
            "type": "histogram2dcontour"
           }
          ],
          "mesh3d": [
           {
            "colorbar": {
             "outlinewidth": 0,
             "ticks": ""
            },
            "type": "mesh3d"
           }
          ],
          "parcoords": [
           {
            "line": {
             "colorbar": {
              "outlinewidth": 0,
              "ticks": ""
             }
            },
            "type": "parcoords"
           }
          ],
          "pie": [
           {
            "automargin": true,
            "type": "pie"
           }
          ],
          "scatter": [
           {
            "fillpattern": {
             "fillmode": "overlay",
             "size": 10,
             "solidity": 0.2
            },
            "type": "scatter"
           }
          ],
          "scatter3d": [
           {
            "line": {
             "colorbar": {
              "outlinewidth": 0,
              "ticks": ""
             }
            },
            "marker": {
             "colorbar": {
              "outlinewidth": 0,
              "ticks": ""
             }
            },
            "type": "scatter3d"
           }
          ],
          "scattercarpet": [
           {
            "marker": {
             "colorbar": {
              "outlinewidth": 0,
              "ticks": ""
             }
            },
            "type": "scattercarpet"
           }
          ],
          "scattergeo": [
           {
            "marker": {
             "colorbar": {
              "outlinewidth": 0,
              "ticks": ""
             }
            },
            "type": "scattergeo"
           }
          ],
          "scattergl": [
           {
            "marker": {
             "colorbar": {
              "outlinewidth": 0,
              "ticks": ""
             }
            },
            "type": "scattergl"
           }
          ],
          "scattermapbox": [
           {
            "marker": {
             "colorbar": {
              "outlinewidth": 0,
              "ticks": ""
             }
            },
            "type": "scattermapbox"
           }
          ],
          "scatterpolar": [
           {
            "marker": {
             "colorbar": {
              "outlinewidth": 0,
              "ticks": ""
             }
            },
            "type": "scatterpolar"
           }
          ],
          "scatterpolargl": [
           {
            "marker": {
             "colorbar": {
              "outlinewidth": 0,
              "ticks": ""
             }
            },
            "type": "scatterpolargl"
           }
          ],
          "scatterternary": [
           {
            "marker": {
             "colorbar": {
              "outlinewidth": 0,
              "ticks": ""
             }
            },
            "type": "scatterternary"
           }
          ],
          "surface": [
           {
            "colorbar": {
             "outlinewidth": 0,
             "ticks": ""
            },
            "colorscale": [
             [
              0,
              "#0d0887"
             ],
             [
              0.1111111111111111,
              "#46039f"
             ],
             [
              0.2222222222222222,
              "#7201a8"
             ],
             [
              0.3333333333333333,
              "#9c179e"
             ],
             [
              0.4444444444444444,
              "#bd3786"
             ],
             [
              0.5555555555555556,
              "#d8576b"
             ],
             [
              0.6666666666666666,
              "#ed7953"
             ],
             [
              0.7777777777777778,
              "#fb9f3a"
             ],
             [
              0.8888888888888888,
              "#fdca26"
             ],
             [
              1,
              "#f0f921"
             ]
            ],
            "type": "surface"
           }
          ],
          "table": [
           {
            "cells": {
             "fill": {
              "color": "#EBF0F8"
             },
             "line": {
              "color": "white"
             }
            },
            "header": {
             "fill": {
              "color": "#C8D4E3"
             },
             "line": {
              "color": "white"
             }
            },
            "type": "table"
           }
          ]
         },
         "layout": {
          "annotationdefaults": {
           "arrowcolor": "#2a3f5f",
           "arrowhead": 0,
           "arrowwidth": 1
          },
          "autotypenumbers": "strict",
          "coloraxis": {
           "colorbar": {
            "outlinewidth": 0,
            "ticks": ""
           }
          },
          "colorscale": {
           "diverging": [
            [
             0,
             "#8e0152"
            ],
            [
             0.1,
             "#c51b7d"
            ],
            [
             0.2,
             "#de77ae"
            ],
            [
             0.3,
             "#f1b6da"
            ],
            [
             0.4,
             "#fde0ef"
            ],
            [
             0.5,
             "#f7f7f7"
            ],
            [
             0.6,
             "#e6f5d0"
            ],
            [
             0.7,
             "#b8e186"
            ],
            [
             0.8,
             "#7fbc41"
            ],
            [
             0.9,
             "#4d9221"
            ],
            [
             1,
             "#276419"
            ]
           ],
           "sequential": [
            [
             0,
             "#0d0887"
            ],
            [
             0.1111111111111111,
             "#46039f"
            ],
            [
             0.2222222222222222,
             "#7201a8"
            ],
            [
             0.3333333333333333,
             "#9c179e"
            ],
            [
             0.4444444444444444,
             "#bd3786"
            ],
            [
             0.5555555555555556,
             "#d8576b"
            ],
            [
             0.6666666666666666,
             "#ed7953"
            ],
            [
             0.7777777777777778,
             "#fb9f3a"
            ],
            [
             0.8888888888888888,
             "#fdca26"
            ],
            [
             1,
             "#f0f921"
            ]
           ],
           "sequentialminus": [
            [
             0,
             "#0d0887"
            ],
            [
             0.1111111111111111,
             "#46039f"
            ],
            [
             0.2222222222222222,
             "#7201a8"
            ],
            [
             0.3333333333333333,
             "#9c179e"
            ],
            [
             0.4444444444444444,
             "#bd3786"
            ],
            [
             0.5555555555555556,
             "#d8576b"
            ],
            [
             0.6666666666666666,
             "#ed7953"
            ],
            [
             0.7777777777777778,
             "#fb9f3a"
            ],
            [
             0.8888888888888888,
             "#fdca26"
            ],
            [
             1,
             "#f0f921"
            ]
           ]
          },
          "colorway": [
           "#636efa",
           "#EF553B",
           "#00cc96",
           "#ab63fa",
           "#FFA15A",
           "#19d3f3",
           "#FF6692",
           "#B6E880",
           "#FF97FF",
           "#FECB52"
          ],
          "font": {
           "color": "#2a3f5f"
          },
          "geo": {
           "bgcolor": "white",
           "lakecolor": "white",
           "landcolor": "#E5ECF6",
           "showlakes": true,
           "showland": true,
           "subunitcolor": "white"
          },
          "hoverlabel": {
           "align": "left"
          },
          "hovermode": "closest",
          "mapbox": {
           "style": "light"
          },
          "paper_bgcolor": "white",
          "plot_bgcolor": "#E5ECF6",
          "polar": {
           "angularaxis": {
            "gridcolor": "white",
            "linecolor": "white",
            "ticks": ""
           },
           "bgcolor": "#E5ECF6",
           "radialaxis": {
            "gridcolor": "white",
            "linecolor": "white",
            "ticks": ""
           }
          },
          "scene": {
           "xaxis": {
            "backgroundcolor": "#E5ECF6",
            "gridcolor": "white",
            "gridwidth": 2,
            "linecolor": "white",
            "showbackground": true,
            "ticks": "",
            "zerolinecolor": "white"
           },
           "yaxis": {
            "backgroundcolor": "#E5ECF6",
            "gridcolor": "white",
            "gridwidth": 2,
            "linecolor": "white",
            "showbackground": true,
            "ticks": "",
            "zerolinecolor": "white"
           },
           "zaxis": {
            "backgroundcolor": "#E5ECF6",
            "gridcolor": "white",
            "gridwidth": 2,
            "linecolor": "white",
            "showbackground": true,
            "ticks": "",
            "zerolinecolor": "white"
           }
          },
          "shapedefaults": {
           "line": {
            "color": "#2a3f5f"
           }
          },
          "ternary": {
           "aaxis": {
            "gridcolor": "white",
            "linecolor": "white",
            "ticks": ""
           },
           "baxis": {
            "gridcolor": "white",
            "linecolor": "white",
            "ticks": ""
           },
           "bgcolor": "#E5ECF6",
           "caxis": {
            "gridcolor": "white",
            "linecolor": "white",
            "ticks": ""
           }
          },
          "title": {
           "x": 0.05
          },
          "xaxis": {
           "automargin": true,
           "gridcolor": "white",
           "linecolor": "white",
           "ticks": "",
           "title": {
            "standoff": 15
           },
           "zerolinecolor": "white",
           "zerolinewidth": 2
          },
          "yaxis": {
           "automargin": true,
           "gridcolor": "white",
           "linecolor": "white",
           "ticks": "",
           "title": {
            "standoff": 15
           },
           "zerolinecolor": "white",
           "zerolinewidth": 2
          }
         }
        },
        "title": {
         "text": "Recent 90 days Annualized Volatility of 4 method"
        },
        "xaxis": {
         "title": {
          "text": "Date"
         }
        },
        "yaxis": {
         "title": {
          "text": "Annualized Volatility"
         }
        }
       }
      }
     },
     "metadata": {},
     "output_type": "display_data"
    }
   ],
   "source": [
    "visualize_together(method_li1)"
   ]
  },
  {
   "cell_type": "markdown",
   "metadata": {},
   "source": [
    "## Beyond Close-Close Estimators: Range-based Estimation of Volatility"
   ]
  },
  {
   "cell_type": "markdown",
   "metadata": {},
   "source": [
    "### Traditional close-to-close measure\n",
    "$$\n",
    "\\hat\\sigma_{cc} = \\sqrt{\\frac{1}{n}\\sum^n_{i=1}\\left(\\log\\left(\\frac{C_i}{C_{i-1}}\\right)\\right)^2}\n",
    "$$\n",
    "\n",
    "$$\n",
    "\\hat\\sigma_{acc} = \\sqrt{\\frac{1}{n-1}\\sum^n_{i=1}\\left(\\left(\\log\\left(\\frac{C_i}{C_{i-1}}\\right)\\right)^2-\\frac{\\left(\\log\\left(\\frac{C_n}{C_{0}}\\right)\\right)^2}{n(n-1)}\\right)}\n",
    "$$"
   ]
  },
  {
   "cell_type": "code",
   "execution_count": 40,
   "metadata": {},
   "outputs": [],
   "source": [
    "class TraditionalCtoC(Abstract_VolEstimator) :\n",
    "    def __init__(self, data, window_size, visualize_size=90):\n",
    "        super().__init__(data, window_size, visualize_size)\n",
    "    \n",
    "    def estimate(self,isdrift=False):\n",
    "        if not isdrift :\n",
    "            sigma_cc_list = []\n",
    "            for i in range(len(self.data)-self.window_size+1) :\n",
    "                winodw_prices = np.array(self.data['Close'][i:i+self.window_size])\n",
    "                log_returns = np.log(winodw_prices[1:]/winodw_prices[:-1])\n",
    "                #print(log_returns.values)\n",
    "                sigma_cc = np.sqrt(np.sum(log_returns**2)/self.window_size)\n",
    "                sigma_cc_list.append(sigma_cc)\n",
    "            sigma_cc_list = [np.NAN]*(self.window_size-1) + sigma_cc_list\n",
    "            self.data[f'{self.__class__.__name__}_Vol'] = np.array(sigma_cc_list)*(252**0.5)\n",
    "        else :\n",
    "            sigma_acc_list = []\n",
    "            for i in range(len(self.data)-self.window_size+1) :\n",
    "                winodw_prices = np.array(self.data['Close'][i:i+self.window_size])\n",
    "                log_returns = np.log(winodw_prices[1:]/winodw_prices[:-1])\n",
    "                total_log_return_squared = (np.log(winodw_prices[-1] / winodw_prices[0]))**2\n",
    "                sigma_acc = np.sqrt((1/(self.window_size-1))*(np.sum(log_returns**2-(total_log_return_squared**2)/(self.window_size*(self.window_size-1)))))\n",
    "                sigma_acc_list.append(sigma_cc)\n",
    "            sigma_acc_list = [np.NAN]*(self.window_size-1) + sigma_acc_list    \n",
    "            self.data[f'{self.__class__.__name__}_Vol'] = np.array(sigma_acc_list)*(252**0.5)"
   ]
  },
  {
   "cell_type": "code",
   "execution_count": 41,
   "metadata": {},
   "outputs": [
    {
     "data": {
      "image/png": "[encoded data removed]",
      "text/plain": [
       "<Figure size 720x432 with 1 Axes>"
      ]
     },
     "metadata": {
      "needs_background": "light"
     },
     "output_type": "display_data"
    }
   ],
   "source": [
    "estimator = TraditionalCtoC(historical_prices,10)\n",
    "estimator.estimate()\n",
    "estimator.visualize()"
   ]
  },
  {
   "cell_type": "markdown",
   "metadata": {},
   "source": [
    "### Parkinson (1980)\n",
    "$$\n",
    "\\hat{\\sigma}_{p} = \\sqrt{\\frac{1}{4n \\log(2)} \\sum_{i=1}^{n} \\left( \\log \\left(\\frac{H_i}{L_i}\\right) \\right)^2}\n",
    "$$"
   ]
  },
  {
   "cell_type": "code",
   "execution_count": 42,
   "metadata": {},
   "outputs": [],
   "source": [
    "class Parkinson(Abstract_VolEstimator) :\n",
    "    def __init__(self, data, window_size, visualize_size=90):\n",
    "        super().__init__(data, window_size, visualize_size)\n",
    "    \n",
    "    def estimate(self):\n",
    "        sigma_p_list = []\n",
    "        for i in range(len(self.data) - self.window_size + 1):\n",
    "            window_H = np.array(self.data['High'][i:i+self.window_size])\n",
    "            window_L = np.array(self.data['Low'][i:i+self.window_size])\n",
    "            \n",
    "            log_hl = np.log(window_H / window_L)**2\n",
    "            sigma_p = np.sqrt(np.sum(log_hl) / (4 * self.window_size * np.log(2)))\n",
    "            \n",
    "            sigma_p_list.append(sigma_p)\n",
    "        sigma_p_list = [np.NAN]*(self.window_size-1) + sigma_p_list\n",
    "        self.data[f'{self.__class__.__name__}_Vol'] = np.array(sigma_p_list)*(252**0.5)"
   ]
  },
  {
   "cell_type": "code",
   "execution_count": 43,
   "metadata": {},
   "outputs": [
    {
     "data": {
      "image/png": "[encoded data removed]",
      "text/plain": [
       "<Figure size 720x432 with 1 Axes>"
      ]
     },
     "metadata": {
      "needs_background": "light"
     },
     "output_type": "display_data"
    }
   ],
   "source": [
    "estimator = Parkinson(historical_prices,10)\n",
    "estimator.estimate()\n",
    "estimator.visualize()"
   ]
  },
  {
   "cell_type": "markdown",
   "metadata": {},
   "source": [
    "### Garman & Klass (1980)\n",
    "$$\n",
    "\\hat{\\sigma}_{gk} = \\sqrt{\\frac{1}{n} \\sum_{i=1}^{n} \\left[ 0.511 \\left( \\log \\frac{H_i}{L_i} \\right)^2 - 0.019\\log\\frac{C_i}{O_i}\\log\\frac{H_i L_i}{O_i^2}-2\\log\\frac{H_i}{O_i}\\log\\frac{L_i}{O_i}\\right]}\n",
    "$$"
   ]
  },
  {
   "cell_type": "code",
   "execution_count": 44,
   "metadata": {},
   "outputs": [],
   "source": [
    "class GarmanKlass(Abstract_VolEstimator) :\n",
    "    def __init__(self, data, window_size, visualize_size=90):\n",
    "        super().__init__(data, window_size, visualize_size)\n",
    "    \n",
    "    def estimate(self):\n",
    "        sigma_gk_list = []\n",
    "\n",
    "        for i in range(len(self.data) - self.window_size + 1):\n",
    "            window_H = np.array(self.data['High'][i:i+self.window_size])\n",
    "            window_L = np.array(self.data['Low'][i:i+self.window_size])\n",
    "            window_C = np.array(self.data['Close'][i:i+self.window_size])\n",
    "            window_O = np.array(self.data['Open'][i:i+self.window_size])\n",
    "            \n",
    "            term1 = 0.511 * (np.log(window_H / window_L))**2\n",
    "            term2 = -0.019 * np.log(window_C / window_O) * np.log(window_H * window_L / window_O**2)\n",
    "            term3 = -2 * np.log(window_H / window_O) * np.log(window_L / window_O)\n",
    "            sigma_gk = np.sqrt(np.sum(term1 + term2 + term3) / self.window_size)\n",
    "            \n",
    "            sigma_gk_list.append(sigma_gk)\n",
    "        sigma_gk_list = [np.NAN]*(self.window_size-1) + sigma_gk_list\n",
    "        self.data[f'{self.__class__.__name__}_Vol'] = np.array(sigma_gk_list)*(252**0.5)"
   ]
  },
  {
   "cell_type": "code",
   "execution_count": 45,
   "metadata": {},
   "outputs": [
    {
     "data": {
      "image/png": "[encoded data removed]",
      "text/plain": [
       "<Figure size 720x432 with 1 Axes>"
      ]
     },
     "metadata": {
      "needs_background": "light"
     },
     "output_type": "display_data"
    }
   ],
   "source": [
    "estimator = GarmanKlass(historical_prices,10)\n",
    "estimator.estimate()\n",
    "estimator.visualize()"
   ]
  },
  {
   "cell_type": "markdown",
   "metadata": {},
   "source": [
    "### Rogers & Satchell (1991)\n",
    "$$\n",
    "\\hat{\\sigma}_{rs} = \\sqrt{\\frac{1}{n} \\sum_{i=1}^{n} \\left[ \\ln \\frac{H_i}{C_i} \\cdot \\ln \\frac{H_i}{O_i} + \\ln \\frac{L_i}{C_i} \\cdot \\ln \\frac{L_i}{O_i} \\right]}\n",
    "$$"
   ]
  },
  {
   "cell_type": "code",
   "execution_count": 46,
   "metadata": {},
   "outputs": [],
   "source": [
    "class RogersSatchell(Abstract_VolEstimator) :\n",
    "    def __init__(self, data, window_size, visualize_size=90):\n",
    "        super().__init__(data, window_size, visualize_size)\n",
    "    \n",
    "    def estimate(self) :\n",
    "        sigma_rs_list = []\n",
    "\n",
    "        for i in range(len(self.data) - self.window_size + 1):\n",
    "            window_H = np.array(self.data['High'][i:i+self.window_size])\n",
    "            window_L = np.array(self.data['Low'][i:i+self.window_size])\n",
    "            window_C = np.array(self.data['Close'][i:i+self.window_size])\n",
    "            window_O = np.array(self.data['Open'][i:i+self.window_size])\n",
    "            \n",
    "            term1 = np.log(window_H / window_C) * np.log(window_H / window_O)\n",
    "            term2 = np.log(window_L / window_C) * np.log(window_L / window_O)\n",
    "            sigma_rs = np.sqrt(np.sum(term1 + term2) / self.window_size)\n",
    "            \n",
    "            sigma_rs_list.append(sigma_rs)\n",
    "        sigma_rs_list = [np.NAN]*(self.window_size-1) + sigma_rs_list\n",
    "        self.data[f'{self.__class__.__name__}_Vol'] = np.array(sigma_rs_list)*(252**0.5)"
   ]
  },
  {
   "cell_type": "code",
   "execution_count": 47,
   "metadata": {},
   "outputs": [
    {
     "data": {
      "image/png": "[encoded data removed]",
      "text/plain": [
       "<Figure size 720x432 with 1 Axes>"
      ]
     },
     "metadata": {
      "needs_background": "light"
     },
     "output_type": "display_data"
    }
   ],
   "source": [
    "estimator = RogersSatchell(historical_prices,10)\n",
    "estimator.estimate()\n",
    "estimator.visualize()"
   ]
  },
  {
   "cell_type": "markdown",
   "metadata": {},
   "source": [
    "## Visualize together"
   ]
  },
  {
   "cell_type": "code",
   "execution_count": 48,
   "metadata": {},
   "outputs": [],
   "source": [
    "TraditionalCtoC_estimator = TraditionalCtoC(historical_prices,10)\n",
    "Parkinson_estimator = Parkinson(historical_prices,10)\n",
    "GarmanKlass_estimator = GarmanKlass(historical_prices,10)\n",
    "RogersSatchell_estimator = RogersSatchell(historical_prices,10)\n",
    "\n",
    "method_li2 =[TraditionalCtoC_estimator,Parkinson_estimator,GarmanKlass_estimator,RogersSatchell_estimator]"
   ]
  },
  {
   "cell_type": "code",
   "execution_count": 49,
   "metadata": {},
   "outputs": [
    {
     "data": {
      "application/vnd.plotly.v1+json": {
       "config": {
        "plotlyServerURL": "https://plot.ly"
       },
       "data": [
        {
         "mode": "lines",
         "name": "TraditionalCtoC",
         "type": "scatter",
         "x": [
          "2023-11-15T00:00:00",
          "2023-11-16T00:00:00",
          "2023-11-17T00:00:00",
          "2023-11-20T00:00:00",
          "2023-11-21T00:00:00",
          "2023-11-22T00:00:00",
          "2023-11-23T00:00:00",
          "2023-11-24T00:00:00",
          "2023-11-27T00:00:00",
          "2023-11-28T00:00:00",
          "2023-11-29T00:00:00",
          "2023-11-30T00:00:00",
          "2023-12-01T00:00:00",
          "2023-12-04T00:00:00",
          "2023-12-05T00:00:00",
          "2023-12-06T00:00:00",
          "2023-12-07T00:00:00",
          "2023-12-08T00:00:00",
          "2023-12-11T00:00:00",
          "2023-12-12T00:00:00",
          "2023-12-13T00:00:00",
          "2023-12-14T00:00:00",
          "2023-12-15T00:00:00",
          "2023-12-18T00:00:00",
          "2023-12-19T00:00:00",
          "2023-12-20T00:00:00",
          "2023-12-21T00:00:00",
          "2023-12-22T00:00:00",
          "2023-12-26T00:00:00",
          "2023-12-27T00:00:00",
          "2023-12-28T00:00:00",
          "2024-01-02T00:00:00",
          "2024-01-03T00:00:00",
          "2024-01-04T00:00:00",
          "2024-01-05T00:00:00",
          "2024-01-08T00:00:00",
          "2024-01-09T00:00:00",
          "2024-01-10T00:00:00",
          "2024-01-11T00:00:00",
          "2024-01-12T00:00:00",
          "2024-01-15T00:00:00",
          "2024-01-16T00:00:00",
          "2024-01-17T00:00:00",
          "2024-01-18T00:00:00",
          "2024-01-19T00:00:00",
          "2024-01-22T00:00:00",
          "2024-01-23T00:00:00",
          "2024-01-24T00:00:00",
          "2024-01-25T00:00:00",
          "2024-01-26T00:00:00",
          "2024-01-29T00:00:00",
          "2024-01-30T00:00:00",
          "2024-01-31T00:00:00",
          "2024-02-01T00:00:00",
          "2024-02-02T00:00:00",
          "2024-02-05T00:00:00",
          "2024-02-06T00:00:00",
          "2024-02-07T00:00:00",
          "2024-02-08T00:00:00",
          "2024-02-13T00:00:00",
          "2024-02-14T00:00:00",
          "2024-02-15T00:00:00",
          "2024-02-16T00:00:00",
          "2024-02-19T00:00:00",
          "2024-02-20T00:00:00",
          "2024-02-21T00:00:00",
          "2024-02-22T00:00:00",
          "2024-02-23T00:00:00",
          "2024-02-26T00:00:00",
          "2024-02-27T00:00:00",
          "2024-02-28T00:00:00",
          "2024-02-29T00:00:00",
          "2024-03-04T00:00:00",
          "2024-03-05T00:00:00",
          "2024-03-06T00:00:00",
          "2024-03-07T00:00:00",
          "2024-03-08T00:00:00",
          "2024-03-11T00:00:00",
          "2024-03-12T00:00:00",
          "2024-03-13T00:00:00",
          "2024-03-14T00:00:00",
          "2024-03-15T00:00:00",
          "2024-03-18T00:00:00",
          "2024-03-19T00:00:00",
          "2024-03-20T00:00:00",
          "2024-03-21T00:00:00",
          "2024-03-22T00:00:00",
          "2024-03-25T00:00:00",
          "2024-03-26T00:00:00",
          "2024-03-27T00:00:00"
         ],
         "y": [
          0.30338762500177846,
          0.299479906457418,
          0.17547203742069184,
          0.14486228710750457,
          0.14014087432572034,
          0.13876014762100536,
          0.13670810549188203,
          0.14331387885559047,
          0.13426459572115532,
          0.0934095666953965,
          0.09421971670842251,
          0.09193928105621225,
          0.10155899238918242,
          0.09741499928064126,
          0.10915494084689538,
          0.10951857505584106,
          0.10117390262569097,
          0.11699281681228987,
          0.1037427132774729,
          0.10642345566141255,
          0.11271478193982952,
          0.12048005809085875,
          0.12502785762880445,
          0.11508799921967516,
          0.1149204144042387,
          0.1449449637567816,
          0.13378454033731227,
          0.1324188220514451,
          0.13087831453241008,
          0.12596251966429298,
          0.1312730436101053,
          0.13035921469035228,
          0.18530918887707232,
          0.19056731824910567,
          0.16889641588687185,
          0.1694868870162993,
          0.17135329247518916,
          0.17652028173457585,
          0.17421258636366693,
          0.15865601705232096,
          0.15530850016069842,
          0.10600653894250488,
          0.16238982449881192,
          0.16268241648784487,
          0.18396901819136355,
          0.18223504023260767,
          0.1797584749039813,
          0.181477519101372,
          0.17907692527919242,
          0.1785441482115416,
          0.17408352055930185,
          0.11480874902031153,
          0.11522478448697958,
          0.11689796371720176,
          0.19728532278323768,
          0.20352866154650426,
          0.20285400634871886,
          0.21250718044643438,
          0.2129327363932157,
          0.21386487391845396,
          0.22384625866258423,
          0.22407878362502606,
          0.21360726796430257,
          0.16119870053519086,
          0.15909801786466857,
          0.15839047254393837,
          0.14676554177778256,
          0.14656146151628552,
          0.14152457129201718,
          0.1308371472262162,
          0.14115405265719708,
          0.1283397463504602,
          0.12973124277135073,
          0.1271478181402812,
          0.12793826017215887,
          0.12612232121156317,
          0.14288612595304273,
          0.1440027376235207,
          0.14402873011698517,
          0.13493910010988938,
          0.14290235800364107,
          0.15678448178878424,
          0.15130244893592143,
          0.16009073637318613,
          0.18035814944447012,
          0.21841501924912912,
          0.21373283143226163,
          0.21180155252986105,
          0.2164752481065264,
          0.2107177822872934
         ]
        },
        {
         "mode": "lines",
         "name": "Parkinson",
         "type": "scatter",
         "x": [
          "2023-11-15T00:00:00",
          "2023-11-16T00:00:00",
          "2023-11-17T00:00:00",
          "2023-11-20T00:00:00",
          "2023-11-21T00:00:00",
          "2023-11-22T00:00:00",
          "2023-11-23T00:00:00",
          "2023-11-24T00:00:00",
          "2023-11-27T00:00:00",
          "2023-11-28T00:00:00",
          "2023-11-29T00:00:00",
          "2023-11-30T00:00:00",
          "2023-12-01T00:00:00",
          "2023-12-04T00:00:00",
          "2023-12-05T00:00:00",
          "2023-12-06T00:00:00",
          "2023-12-07T00:00:00",
          "2023-12-08T00:00:00",
          "2023-12-11T00:00:00",
          "2023-12-12T00:00:00",
          "2023-12-13T00:00:00",
          "2023-12-14T00:00:00",
          "2023-12-15T00:00:00",
          "2023-12-18T00:00:00",
          "2023-12-19T00:00:00",
          "2023-12-20T00:00:00",
          "2023-12-21T00:00:00",
          "2023-12-22T00:00:00",
          "2023-12-26T00:00:00",
          "2023-12-27T00:00:00",
          "2023-12-28T00:00:00",
          "2024-01-02T00:00:00",
          "2024-01-03T00:00:00",
          "2024-01-04T00:00:00",
          "2024-01-05T00:00:00",
          "2024-01-08T00:00:00",
          "2024-01-09T00:00:00",
          "2024-01-10T00:00:00",
          "2024-01-11T00:00:00",
          "2024-01-12T00:00:00",
          "2024-01-15T00:00:00",
          "2024-01-16T00:00:00",
          "2024-01-17T00:00:00",
          "2024-01-18T00:00:00",
          "2024-01-19T00:00:00",
          "2024-01-22T00:00:00",
          "2024-01-23T00:00:00",
          "2024-01-24T00:00:00",
          "2024-01-25T00:00:00",
          "2024-01-26T00:00:00",
          "2024-01-29T00:00:00",
          "2024-01-30T00:00:00",
          "2024-01-31T00:00:00",
          "2024-02-01T00:00:00",
          "2024-02-02T00:00:00",
          "2024-02-05T00:00:00",
          "2024-02-06T00:00:00",
          "2024-02-07T00:00:00",
          "2024-02-08T00:00:00",
          "2024-02-13T00:00:00",
          "2024-02-14T00:00:00",
          "2024-02-15T00:00:00",
          "2024-02-16T00:00:00",
          "2024-02-19T00:00:00",
          "2024-02-20T00:00:00",
          "2024-02-21T00:00:00",
          "2024-02-22T00:00:00",
          "2024-02-23T00:00:00",
          "2024-02-26T00:00:00",
          "2024-02-27T00:00:00",
          "2024-02-28T00:00:00",
          "2024-02-29T00:00:00",
          "2024-03-04T00:00:00",
          "2024-03-05T00:00:00",
          "2024-03-06T00:00:00",
          "2024-03-07T00:00:00",
          "2024-03-08T00:00:00",
          "2024-03-11T00:00:00",
          "2024-03-12T00:00:00",
          "2024-03-13T00:00:00",
          "2024-03-14T00:00:00",
          "2024-03-15T00:00:00",
          "2024-03-18T00:00:00",
          "2024-03-19T00:00:00",
          "2024-03-20T00:00:00",
          "2024-03-21T00:00:00",
          "2024-03-22T00:00:00",
          "2024-03-25T00:00:00",
          "2024-03-26T00:00:00",
          "2024-03-27T00:00:00"
         ],
         "y": [
          0.1661761982843921,
          0.1664504515532625,
          0.16667454419300745,
          0.1266454455644457,
          0.1116282447862215,
          0.09786875140151546,
          0.09423639045965906,
          0.09668941826512008,
          0.09045157657639623,
          0.09297667347755063,
          0.09235149721428407,
          0.09441739167090997,
          0.09388444321338428,
          0.08668257663301787,
          0.08794095855946761,
          0.08190133049205675,
          0.08270073372520964,
          0.07794303769383347,
          0.07468619977330142,
          0.0710825995691262,
          0.07153167001853213,
          0.07045152898472866,
          0.07144634672582217,
          0.07170474378647623,
          0.06976722317630074,
          0.0764522601451791,
          0.07762825572868032,
          0.07953070089502784,
          0.07870604992384203,
          0.0826876181122403,
          0.0934776532370793,
          0.10041575367716336,
          0.10862070646337438,
          0.11127140556595655,
          0.11210663336357836,
          0.11140028782900634,
          0.12498581049220364,
          0.12906531981309338,
          0.13019160633518329,
          0.13110378589927468,
          0.12355015610865142,
          0.1212998627112086,
          0.14393398413981365,
          0.14451621371751375,
          0.14481250316295133,
          0.14431452581168097,
          0.1326125183879637,
          0.12998311592320963,
          0.13003955871082543,
          0.13808901481353916,
          0.14540445175296376,
          0.14535862715666886,
          0.11477387762125922,
          0.12430865798825991,
          0.1423510761135928,
          0.15506786329958988,
          0.15866279065225478,
          0.16281426673825358,
          0.16276714590481672,
          0.15378320200697687,
          0.14712867624718975,
          0.1473151189038261,
          0.14902261160934263,
          0.14312603661822415,
          0.12950635858580226,
          0.11486845920723492,
          0.10987845773757922,
          0.10529736744002556,
          0.10835351522194277,
          0.11255781017958116,
          0.1178702142533148,
          0.11374051574572887,
          0.11380223730339593,
          0.1138432798145729,
          0.10873006261155446,
          0.10752316242116733,
          0.10669691002113088,
          0.10232334977624488,
          0.10183629000652236,
          0.09829509852184995,
          0.09165312444306745,
          0.0980223859572659,
          0.09739594736204307,
          0.09311559078339633,
          0.09518909683180043,
          0.09878141189551824,
          0.10250009695836908,
          0.10923055599997593,
          0.1101556183185235,
          0.10940102352926645
         ]
        },
        {
         "mode": "lines",
         "name": "GarmanKlass",
         "type": "scatter",
         "x": [
          "2023-11-15T00:00:00",
          "2023-11-16T00:00:00",
          "2023-11-17T00:00:00",
          "2023-11-20T00:00:00",
          "2023-11-21T00:00:00",
          "2023-11-22T00:00:00",
          "2023-11-23T00:00:00",
          "2023-11-24T00:00:00",
          "2023-11-27T00:00:00",
          "2023-11-28T00:00:00",
          "2023-11-29T00:00:00",
          "2023-11-30T00:00:00",
          "2023-12-01T00:00:00",
          "2023-12-04T00:00:00",
          "2023-12-05T00:00:00",
          "2023-12-06T00:00:00",
          "2023-12-07T00:00:00",
          "2023-12-08T00:00:00",
          "2023-12-11T00:00:00",
          "2023-12-12T00:00:00",
          "2023-12-13T00:00:00",
          "2023-12-14T00:00:00",
          "2023-12-15T00:00:00",
          "2023-12-18T00:00:00",
          "2023-12-19T00:00:00",
          "2023-12-20T00:00:00",
          "2023-12-21T00:00:00",
          "2023-12-22T00:00:00",
          "2023-12-26T00:00:00",
          "2023-12-27T00:00:00",
          "2023-12-28T00:00:00",
          "2024-01-02T00:00:00",
          "2024-01-03T00:00:00",
          "2024-01-04T00:00:00",
          "2024-01-05T00:00:00",
          "2024-01-08T00:00:00",
          "2024-01-09T00:00:00",
          "2024-01-10T00:00:00",
          "2024-01-11T00:00:00",
          "2024-01-12T00:00:00",
          "2024-01-15T00:00:00",
          "2024-01-16T00:00:00",
          "2024-01-17T00:00:00",
          "2024-01-18T00:00:00",
          "2024-01-19T00:00:00",
          "2024-01-22T00:00:00",
          "2024-01-23T00:00:00",
          "2024-01-24T00:00:00",
          "2024-01-25T00:00:00",
          "2024-01-26T00:00:00",
          "2024-01-29T00:00:00",
          "2024-01-30T00:00:00",
          "2024-01-31T00:00:00",
          "2024-02-01T00:00:00",
          "2024-02-02T00:00:00",
          "2024-02-05T00:00:00",
          "2024-02-06T00:00:00",
          "2024-02-07T00:00:00",
          "2024-02-08T00:00:00",
          "2024-02-13T00:00:00",
          "2024-02-14T00:00:00",
          "2024-02-15T00:00:00",
          "2024-02-16T00:00:00",
          "2024-02-19T00:00:00",
          "2024-02-20T00:00:00",
          "2024-02-21T00:00:00",
          "2024-02-22T00:00:00",
          "2024-02-23T00:00:00",
          "2024-02-26T00:00:00",
          "2024-02-27T00:00:00",
          "2024-02-28T00:00:00",
          "2024-02-29T00:00:00",
          "2024-03-04T00:00:00",
          "2024-03-05T00:00:00",
          "2024-03-06T00:00:00",
          "2024-03-07T00:00:00",
          "2024-03-08T00:00:00",
          "2024-03-11T00:00:00",
          "2024-03-12T00:00:00",
          "2024-03-13T00:00:00",
          "2024-03-14T00:00:00",
          "2024-03-15T00:00:00",
          "2024-03-18T00:00:00",
          "2024-03-19T00:00:00",
          "2024-03-20T00:00:00",
          "2024-03-21T00:00:00",
          "2024-03-22T00:00:00",
          "2024-03-25T00:00:00",
          "2024-03-26T00:00:00",
          "2024-03-27T00:00:00"
         ],
         "y": [
          0.23007831309105542,
          0.23121644765846483,
          0.23155367112105033,
          0.17938715124383148,
          0.16601113799342615,
          0.1474749434623258,
          0.14109079781948344,
          0.14283724748199395,
          0.13591978050329262,
          0.13999580197896744,
          0.1381871981399753,
          0.1402146557434142,
          0.13742606182293002,
          0.13036044003738897,
          0.1303971601488603,
          0.12272938598294786,
          0.12465717164174586,
          0.11811130678906846,
          0.11114304671484773,
          0.10595410211624505,
          0.10601033312059654,
          0.10459221430617636,
          0.10771934646732752,
          0.10676787185750806,
          0.10670493106078266,
          0.11391902073369659,
          0.11626438909819971,
          0.11932381345607056,
          0.11825122650244106,
          0.12510923826720105,
          0.13936980827174356,
          0.14634576469710986,
          0.1531091165363292,
          0.15965790930711138,
          0.16076332615168168,
          0.16222564016980376,
          0.1739722412921873,
          0.1801971507709378,
          0.1814472733029222,
          0.18322748561281388,
          0.1737178102700525,
          0.17328847935332672,
          0.20115971371592603,
          0.20235192669329646,
          0.20321415088371492,
          0.20062663579151543,
          0.18860972812521493,
          0.18307470767895045,
          0.18424048249189087,
          0.19333364245764556,
          0.20413373970135784,
          0.2030145787162447,
          0.1679652477748412,
          0.17224501526885058,
          0.18983677576847427,
          0.2039768786532484,
          0.21303676801462604,
          0.22048896449853433,
          0.22056973844702,
          0.20827606960593817,
          0.1979988195493229,
          0.1961777784239221,
          0.20018303264934062,
          0.19424061715978486,
          0.18116352860094728,
          0.16931332287286183,
          0.15717630822879333,
          0.15380546679990664,
          0.15581242085563168,
          0.1582574288682691,
          0.1650804489061385,
          0.16286815788294276,
          0.16121002342147822,
          0.1682296243580971,
          0.1636511312931244,
          0.16023941736832242,
          0.16103587144101986,
          0.15279468713833974,
          0.15581049723539622,
          0.1555816050653245,
          0.14655610062671598,
          0.15234750988752585,
          0.15279672344862005,
          0.1414474919800963,
          0.1446315286388918,
          0.1503154649328764,
          0.15728342506280155,
          0.1679604066555405,
          0.16642629473477077,
          0.16316787524521445
         ]
        },
        {
         "mode": "lines",
         "name": "RogersSatchell",
         "type": "scatter",
         "x": [
          "2023-11-15T00:00:00",
          "2023-11-16T00:00:00",
          "2023-11-17T00:00:00",
          "2023-11-20T00:00:00",
          "2023-11-21T00:00:00",
          "2023-11-22T00:00:00",
          "2023-11-23T00:00:00",
          "2023-11-24T00:00:00",
          "2023-11-27T00:00:00",
          "2023-11-28T00:00:00",
          "2023-11-29T00:00:00",
          "2023-11-30T00:00:00",
          "2023-12-01T00:00:00",
          "2023-12-04T00:00:00",
          "2023-12-05T00:00:00",
          "2023-12-06T00:00:00",
          "2023-12-07T00:00:00",
          "2023-12-08T00:00:00",
          "2023-12-11T00:00:00",
          "2023-12-12T00:00:00",
          "2023-12-13T00:00:00",
          "2023-12-14T00:00:00",
          "2023-12-15T00:00:00",
          "2023-12-18T00:00:00",
          "2023-12-19T00:00:00",
          "2023-12-20T00:00:00",
          "2023-12-21T00:00:00",
          "2023-12-22T00:00:00",
          "2023-12-26T00:00:00",
          "2023-12-27T00:00:00",
          "2023-12-28T00:00:00",
          "2024-01-02T00:00:00",
          "2024-01-03T00:00:00",
          "2024-01-04T00:00:00",
          "2024-01-05T00:00:00",
          "2024-01-08T00:00:00",
          "2024-01-09T00:00:00",
          "2024-01-10T00:00:00",
          "2024-01-11T00:00:00",
          "2024-01-12T00:00:00",
          "2024-01-15T00:00:00",
          "2024-01-16T00:00:00",
          "2024-01-17T00:00:00",
          "2024-01-18T00:00:00",
          "2024-01-19T00:00:00",
          "2024-01-22T00:00:00",
          "2024-01-23T00:00:00",
          "2024-01-24T00:00:00",
          "2024-01-25T00:00:00",
          "2024-01-26T00:00:00",
          "2024-01-29T00:00:00",
          "2024-01-30T00:00:00",
          "2024-01-31T00:00:00",
          "2024-02-01T00:00:00",
          "2024-02-02T00:00:00",
          "2024-02-05T00:00:00",
          "2024-02-06T00:00:00",
          "2024-02-07T00:00:00",
          "2024-02-08T00:00:00",
          "2024-02-13T00:00:00",
          "2024-02-14T00:00:00",
          "2024-02-15T00:00:00",
          "2024-02-16T00:00:00",
          "2024-02-19T00:00:00",
          "2024-02-20T00:00:00",
          "2024-02-21T00:00:00",
          "2024-02-22T00:00:00",
          "2024-02-23T00:00:00",
          "2024-02-26T00:00:00",
          "2024-02-27T00:00:00",
          "2024-02-28T00:00:00",
          "2024-02-29T00:00:00",
          "2024-03-04T00:00:00",
          "2024-03-05T00:00:00",
          "2024-03-06T00:00:00",
          "2024-03-07T00:00:00",
          "2024-03-08T00:00:00",
          "2024-03-11T00:00:00",
          "2024-03-12T00:00:00",
          "2024-03-13T00:00:00",
          "2024-03-14T00:00:00",
          "2024-03-15T00:00:00",
          "2024-03-18T00:00:00",
          "2024-03-19T00:00:00",
          "2024-03-20T00:00:00",
          "2024-03-21T00:00:00",
          "2024-03-22T00:00:00",
          "2024-03-25T00:00:00",
          "2024-03-26T00:00:00",
          "2024-03-27T00:00:00"
         ],
         "y": [
          0.1364209396946177,
          0.13666950567041777,
          0.1363802584931403,
          0.13001984897301994,
          0.10934269420404559,
          0.10299391908992576,
          0.09852589629349792,
          0.09580589492146711,
          0.09465819375551847,
          0.09452550237797246,
          0.09323144234502322,
          0.0916725856571483,
          0.08918249072831287,
          0.08290120018035813,
          0.08074963187883295,
          0.07748201564291765,
          0.0786262391384342,
          0.07807405729424276,
          0.07568381291051884,
          0.07477108706086963,
          0.06835677161108036,
          0.07353335098373606,
          0.0781902767788193,
          0.07965854223230034,
          0.08122809367103549,
          0.08157988715688712,
          0.08313601094147685,
          0.08297864391240427,
          0.0805407923634203,
          0.08316828369752106,
          0.0866217137886201,
          0.08721848404024263,
          0.08234244265014139,
          0.08645736689061519,
          0.08734290214649082,
          0.0897932918110207,
          0.09235019623468352,
          0.09615617880647881,
          0.10032127014791355,
          0.102932910428386,
          0.10286907985551222,
          0.10226691696816262,
          0.10825790790323332,
          0.10956799786866983,
          0.10979975338887805,
          0.10649350228770757,
          0.1073923391814675,
          0.11060017601562694,
          0.10938318254215537,
          0.12449528827346645,
          0.13483347306444832,
          0.13357391138774152,
          0.1301520903189883,
          0.12429121179969858,
          0.12295531052121189,
          0.14760632318648834,
          0.1504375286950573,
          0.15429171662826324,
          0.15359342892625394,
          0.1391800902708054,
          0.1291652538122847,
          0.12621576024561362,
          0.12985799003111906,
          0.13108776879669012,
          0.1369167625883226,
          0.11557783744840411,
          0.10940792196755175,
          0.10481959579050262,
          0.11048947091826934,
          0.11056418064778163,
          0.11254338642304351,
          0.11674916525514505,
          0.11409995736232606,
          0.12498439902848898,
          0.12048995798293016,
          0.11942751910997178,
          0.11748690303916068,
          0.11237466162106276,
          0.11035893338471132,
          0.1117562314360862,
          0.10671101827954628,
          0.1038972578618769,
          0.10636035793617934,
          0.09782995865368695,
          0.09839980826595902,
          0.09737727887111786,
          0.1027258141319057,
          0.1078747284442065,
          0.1116578313845714,
          0.11013414649555715
         ]
        }
       ],
       "layout": {
        "legend": {
         "title": {
          "text": "Method"
         }
        },
        "template": {
         "data": {
          "bar": [
           {
            "error_x": {
             "color": "#2a3f5f"
            },
            "error_y": {
             "color": "#2a3f5f"
            },
            "marker": {
             "line": {
              "color": "#E5ECF6",
              "width": 0.5
             },
             "pattern": {
              "fillmode": "overlay",
              "size": 10,
              "solidity": 0.2
             }
            },
            "type": "bar"
           }
          ],
          "barpolar": [
           {
            "marker": {
             "line": {
              "color": "#E5ECF6",
              "width": 0.5
             },
             "pattern": {
              "fillmode": "overlay",
              "size": 10,
              "solidity": 0.2
             }
            },
            "type": "barpolar"
           }
          ],
          "carpet": [
           {
            "aaxis": {
             "endlinecolor": "#2a3f5f",
             "gridcolor": "white",
             "linecolor": "white",
             "minorgridcolor": "white",
             "startlinecolor": "#2a3f5f"
            },
            "baxis": {
             "endlinecolor": "#2a3f5f",
             "gridcolor": "white",
             "linecolor": "white",
             "minorgridcolor": "white",
             "startlinecolor": "#2a3f5f"
            },
            "type": "carpet"
           }
          ],
          "choropleth": [
           {
            "colorbar": {
             "outlinewidth": 0,
             "ticks": ""
            },
            "type": "choropleth"
           }
          ],
          "contour": [
           {
            "colorbar": {
             "outlinewidth": 0,
             "ticks": ""
            },
            "colorscale": [
             [
              0,
              "#0d0887"
             ],
             [
              0.1111111111111111,
              "#46039f"
             ],
             [
              0.2222222222222222,
              "#7201a8"
             ],
             [
              0.3333333333333333,
              "#9c179e"
             ],
             [
              0.4444444444444444,
              "#bd3786"
             ],
             [
              0.5555555555555556,
              "#d8576b"
             ],
             [
              0.6666666666666666,
              "#ed7953"
             ],
             [
              0.7777777777777778,
              "#fb9f3a"
             ],
             [
              0.8888888888888888,
              "#fdca26"
             ],
             [
              1,
              "#f0f921"
             ]
            ],
            "type": "contour"
           }
          ],
          "contourcarpet": [
           {
            "colorbar": {
             "outlinewidth": 0,
             "ticks": ""
            },
            "type": "contourcarpet"
           }
          ],
          "heatmap": [
           {
            "colorbar": {
             "outlinewidth": 0,
             "ticks": ""
            },
            "colorscale": [
             [
              0,
              "#0d0887"
             ],
             [
              0.1111111111111111,
              "#46039f"
             ],
             [
              0.2222222222222222,
              "#7201a8"
             ],
             [
              0.3333333333333333,
              "#9c179e"
             ],
             [
              0.4444444444444444,
              "#bd3786"
             ],
             [
              0.5555555555555556,
              "#d8576b"
             ],
             [
              0.6666666666666666,
              "#ed7953"
             ],
             [
              0.7777777777777778,
              "#fb9f3a"
             ],
             [
              0.8888888888888888,
              "#fdca26"
             ],
             [
              1,
              "#f0f921"
             ]
            ],
            "type": "heatmap"
           }
          ],
          "heatmapgl": [
           {
            "colorbar": {
             "outlinewidth": 0,
             "ticks": ""
            },
            "colorscale": [
             [
              0,
              "#0d0887"
             ],
             [
              0.1111111111111111,
              "#46039f"
             ],
             [
              0.2222222222222222,
              "#7201a8"
             ],
             [
              0.3333333333333333,
              "#9c179e"
             ],
             [
              0.4444444444444444,
              "#bd3786"
             ],
             [
              0.5555555555555556,
              "#d8576b"
             ],
             [
              0.6666666666666666,
              "#ed7953"
             ],
             [
              0.7777777777777778,
              "#fb9f3a"
             ],
             [
              0.8888888888888888,
              "#fdca26"
             ],
             [
              1,
              "#f0f921"
             ]
            ],
            "type": "heatmapgl"
           }
          ],
          "histogram": [
           {
            "marker": {
             "pattern": {
              "fillmode": "overlay",
              "size": 10,
              "solidity": 0.2
             }
            },
            "type": "histogram"
           }
          ],
          "histogram2d": [
           {
            "colorbar": {
             "outlinewidth": 0,
             "ticks": ""
            },
            "colorscale": [
             [
              0,
              "#0d0887"
             ],
             [
              0.1111111111111111,
              "#46039f"
             ],
             [
              0.2222222222222222,
              "#7201a8"
             ],
             [
              0.3333333333333333,
              "#9c179e"
             ],
             [
              0.4444444444444444,
              "#bd3786"
             ],
             [
              0.5555555555555556,
              "#d8576b"
             ],
             [
              0.6666666666666666,
              "#ed7953"
             ],
             [
              0.7777777777777778,
              "#fb9f3a"
             ],
             [
              0.8888888888888888,
              "#fdca26"
             ],
             [
              1,
              "#f0f921"
             ]
            ],
            "type": "histogram2d"
           }
          ],
          "histogram2dcontour": [
           {
            "colorbar": {
             "outlinewidth": 0,
             "ticks": ""
            },
            "colorscale": [
             [
              0,
              "#0d0887"
             ],
             [
              0.1111111111111111,
              "#46039f"
             ],
             [
              0.2222222222222222,
              "#7201a8"
             ],
             [
              0.3333333333333333,
              "#9c179e"
             ],
             [
              0.4444444444444444,
              "#bd3786"
             ],
             [
              0.5555555555555556,
              "#d8576b"
             ],
             [
              0.6666666666666666,
              "#ed7953"
             ],
             [
              0.7777777777777778,
              "#fb9f3a"
             ],
             [
              0.8888888888888888,
              "#fdca26"
             ],
             [
              1,
              "#f0f921"
             ]
            ],
            "type": "histogram2dcontour"
           }
          ],
          "mesh3d": [
           {
            "colorbar": {
             "outlinewidth": 0,
             "ticks": ""
            },
            "type": "mesh3d"
           }
          ],
          "parcoords": [
           {
            "line": {
             "colorbar": {
              "outlinewidth": 0,
              "ticks": ""
             }
            },
            "type": "parcoords"
           }
          ],
          "pie": [
           {
            "automargin": true,
            "type": "pie"
           }
          ],
          "scatter": [
           {
            "fillpattern": {
             "fillmode": "overlay",
             "size": 10,
             "solidity": 0.2
            },
            "type": "scatter"
           }
          ],
          "scatter3d": [
           {
            "line": {
             "colorbar": {
              "outlinewidth": 0,
              "ticks": ""
             }
            },
            "marker": {
             "colorbar": {
              "outlinewidth": 0,
              "ticks": ""
             }
            },
            "type": "scatter3d"
           }
          ],
          "scattercarpet": [
           {
            "marker": {
             "colorbar": {
              "outlinewidth": 0,
              "ticks": ""
             }
            },
            "type": "scattercarpet"
           }
          ],
          "scattergeo": [
           {
            "marker": {
             "colorbar": {
              "outlinewidth": 0,
              "ticks": ""
             }
            },
            "type": "scattergeo"
           }
          ],
          "scattergl": [
           {
            "marker": {
             "colorbar": {
              "outlinewidth": 0,
              "ticks": ""
             }
            },
            "type": "scattergl"
           }
          ],
          "scattermapbox": [
           {
            "marker": {
             "colorbar": {
              "outlinewidth": 0,
              "ticks": ""
             }
            },
            "type": "scattermapbox"
           }
          ],
          "scatterpolar": [
           {
            "marker": {
             "colorbar": {
              "outlinewidth": 0,
              "ticks": ""
             }
            },
            "type": "scatterpolar"
           }
          ],
          "scatterpolargl": [
           {
            "marker": {
             "colorbar": {
              "outlinewidth": 0,
              "ticks": ""
             }
            },
            "type": "scatterpolargl"
           }
          ],
          "scatterternary": [
           {
            "marker": {
             "colorbar": {
              "outlinewidth": 0,
              "ticks": ""
             }
            },
            "type": "scatterternary"
           }
          ],
          "surface": [
           {
            "colorbar": {
             "outlinewidth": 0,
             "ticks": ""
            },
            "colorscale": [
             [
              0,
              "#0d0887"
             ],
             [
              0.1111111111111111,
              "#46039f"
             ],
             [
              0.2222222222222222,
              "#7201a8"
             ],
             [
              0.3333333333333333,
              "#9c179e"
             ],
             [
              0.4444444444444444,
              "#bd3786"
             ],
             [
              0.5555555555555556,
              "#d8576b"
             ],
             [
              0.6666666666666666,
              "#ed7953"
             ],
             [
              0.7777777777777778,
              "#fb9f3a"
             ],
             [
              0.8888888888888888,
              "#fdca26"
             ],
             [
              1,
              "#f0f921"
             ]
            ],
            "type": "surface"
           }
          ],
          "table": [
           {
            "cells": {
             "fill": {
              "color": "#EBF0F8"
             },
             "line": {
              "color": "white"
             }
            },
            "header": {
             "fill": {
              "color": "#C8D4E3"
             },
             "line": {
              "color": "white"
             }
            },
            "type": "table"
           }
          ]
         },
         "layout": {
          "annotationdefaults": {
           "arrowcolor": "#2a3f5f",
           "arrowhead": 0,
           "arrowwidth": 1
          },
          "autotypenumbers": "strict",
          "coloraxis": {
           "colorbar": {
            "outlinewidth": 0,
            "ticks": ""
           }
          },
          "colorscale": {
           "diverging": [
            [
             0,
             "#8e0152"
            ],
            [
             0.1,
             "#c51b7d"
            ],
            [
             0.2,
             "#de77ae"
            ],
            [
             0.3,
             "#f1b6da"
            ],
            [
             0.4,
             "#fde0ef"
            ],
            [
             0.5,
             "#f7f7f7"
            ],
            [
             0.6,
             "#e6f5d0"
            ],
            [
             0.7,
             "#b8e186"
            ],
            [
             0.8,
             "#7fbc41"
            ],
            [
             0.9,
             "#4d9221"
            ],
            [
             1,
             "#276419"
            ]
           ],
           "sequential": [
            [
             0,
             "#0d0887"
            ],
            [
             0.1111111111111111,
             "#46039f"
            ],
            [
             0.2222222222222222,
             "#7201a8"
            ],
            [
             0.3333333333333333,
             "#9c179e"
            ],
            [
             0.4444444444444444,
             "#bd3786"
            ],
            [
             0.5555555555555556,
             "#d8576b"
            ],
            [
             0.6666666666666666,
             "#ed7953"
            ],
            [
             0.7777777777777778,
             "#fb9f3a"
            ],
            [
             0.8888888888888888,
             "#fdca26"
            ],
            [
             1,
             "#f0f921"
            ]
           ],
           "sequentialminus": [
            [
             0,
             "#0d0887"
            ],
            [
             0.1111111111111111,
             "#46039f"
            ],
            [
             0.2222222222222222,
             "#7201a8"
            ],
            [
             0.3333333333333333,
             "#9c179e"
            ],
            [
             0.4444444444444444,
             "#bd3786"
            ],
            [
             0.5555555555555556,
             "#d8576b"
            ],
            [
             0.6666666666666666,
             "#ed7953"
            ],
            [
             0.7777777777777778,
             "#fb9f3a"
            ],
            [
             0.8888888888888888,
             "#fdca26"
            ],
            [
             1,
             "#f0f921"
            ]
           ]
          },
          "colorway": [
           "#636efa",
           "#EF553B",
           "#00cc96",
           "#ab63fa",
           "#FFA15A",
           "#19d3f3",
           "#FF6692",
           "#B6E880",
           "#FF97FF",
           "#FECB52"
          ],
          "font": {
           "color": "#2a3f5f"
          },
          "geo": {
           "bgcolor": "white",
           "lakecolor": "white",
           "landcolor": "#E5ECF6",
           "showlakes": true,
           "showland": true,
           "subunitcolor": "white"
          },
          "hoverlabel": {
           "align": "left"
          },
          "hovermode": "closest",
          "mapbox": {
           "style": "light"
          },
          "paper_bgcolor": "white",
          "plot_bgcolor": "#E5ECF6",
          "polar": {
           "angularaxis": {
            "gridcolor": "white",
            "linecolor": "white",
            "ticks": ""
           },
           "bgcolor": "#E5ECF6",
           "radialaxis": {
            "gridcolor": "white",
            "linecolor": "white",
            "ticks": ""
           }
          },
          "scene": {
           "xaxis": {
            "backgroundcolor": "#E5ECF6",
            "gridcolor": "white",
            "gridwidth": 2,
            "linecolor": "white",
            "showbackground": true,
            "ticks": "",
            "zerolinecolor": "white"
           },
           "yaxis": {
            "backgroundcolor": "#E5ECF6",
            "gridcolor": "white",
            "gridwidth": 2,
            "linecolor": "white",
            "showbackground": true,
            "ticks": "",
            "zerolinecolor": "white"
           },
           "zaxis": {
            "backgroundcolor": "#E5ECF6",
            "gridcolor": "white",
            "gridwidth": 2,
            "linecolor": "white",
            "showbackground": true,
            "ticks": "",
            "zerolinecolor": "white"
           }
          },
          "shapedefaults": {
           "line": {
            "color": "#2a3f5f"
           }
          },
          "ternary": {
           "aaxis": {
            "gridcolor": "white",
            "linecolor": "white",
            "ticks": ""
           },
           "baxis": {
            "gridcolor": "white",
            "linecolor": "white",
            "ticks": ""
           },
           "bgcolor": "#E5ECF6",
           "caxis": {
            "gridcolor": "white",
            "linecolor": "white",
            "ticks": ""
           }
          },
          "title": {
           "x": 0.05
          },
          "xaxis": {
           "automargin": true,
           "gridcolor": "white",
           "linecolor": "white",
           "ticks": "",
           "title": {
            "standoff": 15
           },
           "zerolinecolor": "white",
           "zerolinewidth": 2
          },
          "yaxis": {
           "automargin": true,
           "gridcolor": "white",
           "linecolor": "white",
           "ticks": "",
           "title": {
            "standoff": 15
           },
           "zerolinecolor": "white",
           "zerolinewidth": 2
          }
         }
        },
        "title": {
         "text": "Recent 90 days Annualized Volatility of 4 method"
        },
        "xaxis": {
         "title": {
          "text": "Date"
         }
        },
        "yaxis": {
         "title": {
          "text": "Annualized Volatility"
         }
        }
       }
      }
     },
     "metadata": {},
     "output_type": "display_data"
    }
   ],
   "source": [
    "visualize_together(method_li2)"
   ]
  },
  {
   "cell_type": "markdown",
   "metadata": {},
   "source": [
    "## Visualize all together"
   ]
  },
  {
   "cell_type": "code",
   "execution_count": 50,
   "metadata": {},
   "outputs": [
    {
     "data": {
      "text/html": [
       "<table class=\"simpletable\">\n",
       "<caption>Constant Mean - ARCH Model Results</caption>\n",
       "<tr>\n",
       "  <th>Dep. Variable:</th>    <td>Daily Return</td>    <th>  R-squared:         </th>  <td>   0.000</td> \n",
       "</tr>\n",
       "<tr>\n",
       "  <th>Mean Model:</th>       <td>Constant Mean</td>   <th>  Adj. R-squared:    </th>  <td>   0.000</td> \n",
       "</tr>\n",
       "<tr>\n",
       "  <th>Vol Model:</th>            <td>ARCH</td>        <th>  Log-Likelihood:    </th> <td>  -7452.85</td>\n",
       "</tr>\n",
       "<tr>\n",
       "  <th>Distribution:</th>        <td>Normal</td>       <th>  AIC:               </th> <td>   14911.7</td>\n",
       "</tr>\n",
       "<tr>\n",
       "  <th>Method:</th>        <td>Maximum Likelihood</td> <th>  BIC:               </th> <td>   14931.1</td>\n",
       "</tr>\n",
       "<tr>\n",
       "  <th></th>                        <td></td>          <th>  No. Observations:  </th>    <td>4698</td>   \n",
       "</tr>\n",
       "<tr>\n",
       "  <th>Date:</th>           <td>Sat, Mar 30 2024</td>  <th>  Df Residuals:      </th>    <td>4697</td>   \n",
       "</tr>\n",
       "<tr>\n",
       "  <th>Time:</th>               <td>15:40:19</td>      <th>  Df Model:          </th>      <td>1</td>    \n",
       "</tr>\n",
       "</table>\n",
       "<table class=\"simpletable\">\n",
       "<caption>Mean Model</caption>\n",
       "<tr>\n",
       "   <td></td>     <th>coef</th>     <th>std err</th>      <th>t</th>       <th>P>|t|</th>     <th>95.0% Conf. Int.</th>   \n",
       "</tr>\n",
       "<tr>\n",
       "  <th>mu</th> <td>    0.0417</td> <td>1.715e-02</td> <td>    2.431</td> <td>1.505e-02</td> <td>[8.083e-03,7.533e-02]</td>\n",
       "</tr>\n",
       "</table>\n",
       "<table class=\"simpletable\">\n",
       "<caption>Volatility Model</caption>\n",
       "<tr>\n",
       "      <td></td>        <th>coef</th>     <th>std err</th>      <th>t</th>        <th>P>|t|</th>   <th>95.0% Conf. Int.</th> \n",
       "</tr>\n",
       "<tr>\n",
       "  <th>omega</th>    <td>    1.0412</td> <td>4.051e-02</td> <td>   25.705</td> <td>1.036e-145</td> <td>[  0.962,  1.121]</td>\n",
       "</tr>\n",
       "<tr>\n",
       "  <th>alpha[1]</th> <td>    0.3586</td> <td>5.130e-02</td> <td>    6.990</td>  <td>2.745e-12</td> <td>[  0.258,  0.459]</td>\n",
       "</tr>\n",
       "</table><br/><br/>Covariance estimator: robust"
      ],
      "text/latex": [
       "\\begin{center}\n",
       "\\begin{tabular}{lclc}\n",
       "\\toprule\n",
       "\\textbf{Dep. Variable:} &    Daily Return    & \\textbf{  R-squared:         } &     0.000   \\\\\n",
       "\\textbf{Mean Model:}    &   Constant Mean    & \\textbf{  Adj. R-squared:    } &     0.000   \\\\\n",
       "\\textbf{Vol Model:}     &        ARCH        & \\textbf{  Log-Likelihood:    } &   -7452.85  \\\\\n",
       "\\textbf{Distribution:}  &       Normal       & \\textbf{  AIC:               } &    14911.7  \\\\\n",
       "\\textbf{Method:}        & Maximum Likelihood & \\textbf{  BIC:               } &    14931.1  \\\\\n",
       "\\textbf{}               &                    & \\textbf{  No. Observations:  } &    4698     \\\\\n",
       "\\textbf{Date:}          &  Sat, Mar 30 2024  & \\textbf{  Df Residuals:      } &    4697     \\\\\n",
       "\\textbf{Time:}          &      15:40:19      & \\textbf{  Df Model:          } &     1       \\\\\n",
       "\\bottomrule\n",
       "\\end{tabular}\n",
       "\\begin{tabular}{lccccc}\n",
       "            & \\textbf{coef} & \\textbf{std err} & \\textbf{t} & \\textbf{P$> |$t$|$} & \\textbf{95.0\\% Conf. Int.}  \\\\\n",
       "\\midrule\n",
       "\\textbf{mu} &       0.0417  &    1.715e-02     &     2.431  &      1.505e-02       &   [8.083e-03,7.533e-02]     \\\\\n",
       "                  & \\textbf{coef} & \\textbf{std err} & \\textbf{t} & \\textbf{P$> |$t$|$} & \\textbf{95.0\\% Conf. Int.}  \\\\\n",
       "\\midrule\n",
       "\\textbf{omega}    &       1.0412  &    4.051e-02     &    25.705  &      1.036e-145      &     [  0.962,  1.121]       \\\\\n",
       "\\textbf{alpha[1]} &       0.3586  &    5.130e-02     &     6.990  &      2.745e-12       &     [  0.258,  0.459]       \\\\\n",
       "\\bottomrule\n",
       "\\end{tabular}\n",
       "%\\caption{Constant Mean - ARCH Model Results}\n",
       "\\end{center}\n",
       "\n",
       "Covariance estimator: robust"
      ],
      "text/plain": [
       "<class 'statsmodels.iolib.summary.Summary'>\n",
       "\"\"\"\n",
       "                      Constant Mean - ARCH Model Results                      \n",
       "==============================================================================\n",
       "Dep. Variable:           Daily Return   R-squared:                       0.000\n",
       "Mean Model:             Constant Mean   Adj. R-squared:                  0.000\n",
       "Vol Model:                       ARCH   Log-Likelihood:               -7452.85\n",
       "Distribution:                  Normal   AIC:                           14911.7\n",
       "Method:            Maximum Likelihood   BIC:                           14931.1\n",
       "                                        No. Observations:                 4698\n",
       "Date:                Sat, Mar 30 2024   Df Residuals:                     4697\n",
       "Time:                        15:40:19   Df Model:                            1\n",
       "                                 Mean Model                                 \n",
       "============================================================================\n",
       "                 coef    std err          t      P>|t|      95.0% Conf. Int.\n",
       "----------------------------------------------------------------------------\n",
       "mu             0.0417  1.715e-02      2.431  1.505e-02 [8.083e-03,7.533e-02]\n",
       "                            Volatility Model                            \n",
       "========================================================================\n",
       "                 coef    std err          t      P>|t|  95.0% Conf. Int.\n",
       "------------------------------------------------------------------------\n",
       "omega          1.0412  4.051e-02     25.705 1.036e-145 [  0.962,  1.121]\n",
       "alpha[1]       0.3586  5.130e-02      6.990  2.745e-12 [  0.258,  0.459]\n",
       "========================================================================\n",
       "\n",
       "Covariance estimator: robust\n",
       "\"\"\""
      ]
     },
     "metadata": {},
     "output_type": "display_data"
    },
    {
     "data": {
      "text/html": [
       "<table class=\"simpletable\">\n",
       "<caption>Constant Mean - GARCH Model Results</caption>\n",
       "<tr>\n",
       "  <th>Dep. Variable:</th>    <td>Daily Return</td>    <th>  R-squared:         </th>  <td>   0.000</td> \n",
       "</tr>\n",
       "<tr>\n",
       "  <th>Mean Model:</th>       <td>Constant Mean</td>   <th>  Adj. R-squared:    </th>  <td>   0.000</td> \n",
       "</tr>\n",
       "<tr>\n",
       "  <th>Vol Model:</th>            <td>GARCH</td>       <th>  Log-Likelihood:    </th> <td>  -7011.44</td>\n",
       "</tr>\n",
       "<tr>\n",
       "  <th>Distribution:</th>        <td>Normal</td>       <th>  AIC:               </th> <td>   14030.9</td>\n",
       "</tr>\n",
       "<tr>\n",
       "  <th>Method:</th>        <td>Maximum Likelihood</td> <th>  BIC:               </th> <td>   14056.7</td>\n",
       "</tr>\n",
       "<tr>\n",
       "  <th></th>                        <td></td>          <th>  No. Observations:  </th>    <td>4698</td>   \n",
       "</tr>\n",
       "<tr>\n",
       "  <th>Date:</th>           <td>Sat, Mar 30 2024</td>  <th>  Df Residuals:      </th>    <td>4697</td>   \n",
       "</tr>\n",
       "<tr>\n",
       "  <th>Time:</th>               <td>15:40:19</td>      <th>  Df Model:          </th>      <td>1</td>    \n",
       "</tr>\n",
       "</table>\n",
       "<table class=\"simpletable\">\n",
       "<caption>Mean Model</caption>\n",
       "<tr>\n",
       "   <td></td>     <th>coef</th>     <th>std err</th>      <th>t</th>       <th>P>|t|</th>     <th>95.0% Conf. Int.</th>   \n",
       "</tr>\n",
       "<tr>\n",
       "  <th>mu</th> <td>    0.0439</td> <td>1.433e-02</td> <td>    3.061</td> <td>2.203e-03</td> <td>[1.578e-02,7.193e-02]</td>\n",
       "</tr>\n",
       "</table>\n",
       "<table class=\"simpletable\">\n",
       "<caption>Volatility Model</caption>\n",
       "<tr>\n",
       "      <td></td>        <th>coef</th>     <th>std err</th>      <th>t</th>       <th>P>|t|</th>     <th>95.0% Conf. Int.</th>   \n",
       "</tr>\n",
       "<tr>\n",
       "  <th>omega</th>    <td>    0.0200</td> <td>5.667e-03</td> <td>    3.532</td> <td>4.121e-04</td> <td>[8.910e-03,3.112e-02]</td>\n",
       "</tr>\n",
       "<tr>\n",
       "  <th>alpha[1]</th> <td>    0.0730</td> <td>1.033e-02</td> <td>    7.069</td> <td>1.565e-12</td> <td>[5.277e-02,9.326e-02]</td>\n",
       "</tr>\n",
       "<tr>\n",
       "  <th>beta[1]</th>  <td>    0.9127</td> <td>1.286e-02</td> <td>   70.983</td>   <td>0.000</td>     <td>[  0.887,  0.938]</td>  \n",
       "</tr>\n",
       "</table><br/><br/>Covariance estimator: robust"
      ],
      "text/latex": [
       "\\begin{center}\n",
       "\\begin{tabular}{lclc}\n",
       "\\toprule\n",
       "\\textbf{Dep. Variable:} &    Daily Return    & \\textbf{  R-squared:         } &     0.000   \\\\\n",
       "\\textbf{Mean Model:}    &   Constant Mean    & \\textbf{  Adj. R-squared:    } &     0.000   \\\\\n",
       "\\textbf{Vol Model:}     &       GARCH        & \\textbf{  Log-Likelihood:    } &   -7011.44  \\\\\n",
       "\\textbf{Distribution:}  &       Normal       & \\textbf{  AIC:               } &    14030.9  \\\\\n",
       "\\textbf{Method:}        & Maximum Likelihood & \\textbf{  BIC:               } &    14056.7  \\\\\n",
       "\\textbf{}               &                    & \\textbf{  No. Observations:  } &    4698     \\\\\n",
       "\\textbf{Date:}          &  Sat, Mar 30 2024  & \\textbf{  Df Residuals:      } &    4697     \\\\\n",
       "\\textbf{Time:}          &      15:40:19      & \\textbf{  Df Model:          } &     1       \\\\\n",
       "\\bottomrule\n",
       "\\end{tabular}\n",
       "\\begin{tabular}{lccccc}\n",
       "            & \\textbf{coef} & \\textbf{std err} & \\textbf{t} & \\textbf{P$> |$t$|$} & \\textbf{95.0\\% Conf. Int.}  \\\\\n",
       "\\midrule\n",
       "\\textbf{mu} &       0.0439  &    1.433e-02     &     3.061  &      2.203e-03       &   [1.578e-02,7.193e-02]     \\\\\n",
       "                  & \\textbf{coef} & \\textbf{std err} & \\textbf{t} & \\textbf{P$> |$t$|$} & \\textbf{95.0\\% Conf. Int.}  \\\\\n",
       "\\midrule\n",
       "\\textbf{omega}    &       0.0200  &    5.667e-03     &     3.532  &      4.121e-04       &   [8.910e-03,3.112e-02]     \\\\\n",
       "\\textbf{alpha[1]} &       0.0730  &    1.033e-02     &     7.069  &      1.565e-12       &   [5.277e-02,9.326e-02]     \\\\\n",
       "\\textbf{beta[1]}  &       0.9127  &    1.286e-02     &    70.983  &        0.000         &     [  0.887,  0.938]       \\\\\n",
       "\\bottomrule\n",
       "\\end{tabular}\n",
       "%\\caption{Constant Mean - GARCH Model Results}\n",
       "\\end{center}\n",
       "\n",
       "Covariance estimator: robust"
      ],
      "text/plain": [
       "<class 'statsmodels.iolib.summary.Summary'>\n",
       "\"\"\"\n",
       "                     Constant Mean - GARCH Model Results                      \n",
       "==============================================================================\n",
       "Dep. Variable:           Daily Return   R-squared:                       0.000\n",
       "Mean Model:             Constant Mean   Adj. R-squared:                  0.000\n",
       "Vol Model:                      GARCH   Log-Likelihood:               -7011.44\n",
       "Distribution:                  Normal   AIC:                           14030.9\n",
       "Method:            Maximum Likelihood   BIC:                           14056.7\n",
       "                                        No. Observations:                 4698\n",
       "Date:                Sat, Mar 30 2024   Df Residuals:                     4697\n",
       "Time:                        15:40:19   Df Model:                            1\n",
       "                                 Mean Model                                 \n",
       "============================================================================\n",
       "                 coef    std err          t      P>|t|      95.0% Conf. Int.\n",
       "----------------------------------------------------------------------------\n",
       "mu             0.0439  1.433e-02      3.061  2.203e-03 [1.578e-02,7.193e-02]\n",
       "                              Volatility Model                              \n",
       "============================================================================\n",
       "                 coef    std err          t      P>|t|      95.0% Conf. Int.\n",
       "----------------------------------------------------------------------------\n",
       "omega          0.0200  5.667e-03      3.532  4.121e-04 [8.910e-03,3.112e-02]\n",
       "alpha[1]       0.0730  1.033e-02      7.069  1.565e-12 [5.277e-02,9.326e-02]\n",
       "beta[1]        0.9127  1.286e-02     70.983      0.000     [  0.887,  0.938]\n",
       "============================================================================\n",
       "\n",
       "Covariance estimator: robust\n",
       "\"\"\""
      ]
     },
     "metadata": {},
     "output_type": "display_data"
    },
    {
     "data": {
      "application/vnd.plotly.v1+json": {
       "config": {
        "plotlyServerURL": "https://plot.ly"
       },
       "data": [
        {
         "mode": "lines",
         "name": "MovingWindow",
         "type": "scatter",
         "x": [
          "2023-11-15T00:00:00",
          "2023-11-16T00:00:00",
          "2023-11-17T00:00:00",
          "2023-11-20T00:00:00",
          "2023-11-21T00:00:00",
          "2023-11-22T00:00:00",
          "2023-11-23T00:00:00",
          "2023-11-24T00:00:00",
          "2023-11-27T00:00:00",
          "2023-11-28T00:00:00",
          "2023-11-29T00:00:00",
          "2023-11-30T00:00:00",
          "2023-12-01T00:00:00",
          "2023-12-04T00:00:00",
          "2023-12-05T00:00:00",
          "2023-12-06T00:00:00",
          "2023-12-07T00:00:00",
          "2023-12-08T00:00:00",
          "2023-12-11T00:00:00",
          "2023-12-12T00:00:00",
          "2023-12-13T00:00:00",
          "2023-12-14T00:00:00",
          "2023-12-15T00:00:00",
          "2023-12-18T00:00:00",
          "2023-12-19T00:00:00",
          "2023-12-20T00:00:00",
          "2023-12-21T00:00:00",
          "2023-12-22T00:00:00",
          "2023-12-26T00:00:00",
          "2023-12-27T00:00:00",
          "2023-12-28T00:00:00",
          "2024-01-02T00:00:00",
          "2024-01-03T00:00:00",
          "2024-01-04T00:00:00",
          "2024-01-05T00:00:00",
          "2024-01-08T00:00:00",
          "2024-01-09T00:00:00",
          "2024-01-10T00:00:00",
          "2024-01-11T00:00:00",
          "2024-01-12T00:00:00",
          "2024-01-15T00:00:00",
          "2024-01-16T00:00:00",
          "2024-01-17T00:00:00",
          "2024-01-18T00:00:00",
          "2024-01-19T00:00:00",
          "2024-01-22T00:00:00",
          "2024-01-23T00:00:00",
          "2024-01-24T00:00:00",
          "2024-01-25T00:00:00",
          "2024-01-26T00:00:00",
          "2024-01-29T00:00:00",
          "2024-01-30T00:00:00",
          "2024-01-31T00:00:00",
          "2024-02-01T00:00:00",
          "2024-02-02T00:00:00",
          "2024-02-05T00:00:00",
          "2024-02-06T00:00:00",
          "2024-02-07T00:00:00",
          "2024-02-08T00:00:00",
          "2024-02-13T00:00:00",
          "2024-02-14T00:00:00",
          "2024-02-15T00:00:00",
          "2024-02-16T00:00:00",
          "2024-02-19T00:00:00",
          "2024-02-20T00:00:00",
          "2024-02-21T00:00:00",
          "2024-02-22T00:00:00",
          "2024-02-23T00:00:00",
          "2024-02-26T00:00:00",
          "2024-02-27T00:00:00",
          "2024-02-28T00:00:00",
          "2024-02-29T00:00:00",
          "2024-03-04T00:00:00",
          "2024-03-05T00:00:00",
          "2024-03-06T00:00:00",
          "2024-03-07T00:00:00",
          "2024-03-08T00:00:00",
          "2024-03-11T00:00:00",
          "2024-03-12T00:00:00",
          "2024-03-13T00:00:00",
          "2024-03-14T00:00:00",
          "2024-03-15T00:00:00",
          "2024-03-18T00:00:00",
          "2024-03-19T00:00:00",
          "2024-03-20T00:00:00",
          "2024-03-21T00:00:00",
          "2024-03-22T00:00:00",
          "2024-03-25T00:00:00",
          "2024-03-26T00:00:00",
          "2024-03-27T00:00:00"
         ],
         "y": [
          0.3208560735014902,
          0.30850107415382216,
          0.30644345332026374,
          0.17866284059687013,
          0.15001420483431752,
          0.1413176347194388,
          0.1399050392001175,
          0.14452894557702003,
          0.14445300171736286,
          0.1471717502181432,
          0.09452159377278428,
          0.09815922722450772,
          0.10673773356545144,
          0.10353956134120373,
          0.1090839614976973,
          0.10940010201120538,
          0.11001840519491429,
          0.11722172296049134,
          0.11878455149678865,
          0.1072469762863721,
          0.11578848725526684,
          0.13223224702922126,
          0.12695123527848065,
          0.1255550367365936,
          0.1157291417789594,
          0.14626799328516654,
          0.14703773888615188,
          0.1346535172348014,
          0.13445005642587646,
          0.1348160217295117,
          0.14931356364876489,
          0.1370263729097456,
          0.18491292344538265,
          0.19011383350265235,
          0.19039512198768468,
          0.16949781696034644,
          0.1703728976859366,
          0.17639140095513497,
          0.17551808267483263,
          0.17573987072160147,
          0.15782989727588057,
          0.16755747008446628,
          0.1668544491374568,
          0.16150952114946976,
          0.18444901844554717,
          0.18299920752226284,
          0.1845934984022815,
          0.18057812851227,
          0.18066775165160867,
          0.17820017222610343,
          0.1857389861323447,
          0.17341768939271734,
          0.11705557130605683,
          0.14812451228347762,
          0.19989071608276704,
          0.20885979258476634,
          0.20676564396282868,
          0.21500773179093455,
          0.2153700526875998,
          0.2229880183951614,
          0.22603263780923066,
          0.22694908753950507,
          0.23443711573982196,
          0.22848052986791365,
          0.17069234370517936,
          0.1599796720560477,
          0.1604522636545067,
          0.1475775452512447,
          0.1530714782985935,
          0.14672714860467445,
          0.14310068431269887,
          0.14257874557166136,
          0.150429359858287,
          0.13885966735576627,
          0.12884691071389356,
          0.12850233703172442,
          0.14393572895656506,
          0.15081575275992037,
          0.14959875041999518,
          0.1470518017711631,
          0.14445991715663536,
          0.17474131111296234,
          0.15861394655411343,
          0.16073321144179067,
          0.18045119896465334,
          0.23001970190494359,
          0.21990989018969637,
          0.2164298149452817,
          0.21927630535074766,
          0.21774025133926123
         ]
        },
        {
         "mode": "lines",
         "name": "ARCH",
         "type": "scatter",
         "x": [
          "2023-11-15T00:00:00",
          "2023-11-16T00:00:00",
          "2023-11-17T00:00:00",
          "2023-11-20T00:00:00",
          "2023-11-21T00:00:00",
          "2023-11-22T00:00:00",
          "2023-11-23T00:00:00",
          "2023-11-24T00:00:00",
          "2023-11-27T00:00:00",
          "2023-11-28T00:00:00",
          "2023-11-29T00:00:00",
          "2023-11-30T00:00:00",
          "2023-12-01T00:00:00",
          "2023-12-04T00:00:00",
          "2023-12-05T00:00:00",
          "2023-12-06T00:00:00",
          "2023-12-07T00:00:00",
          "2023-12-08T00:00:00",
          "2023-12-11T00:00:00",
          "2023-12-12T00:00:00",
          "2023-12-13T00:00:00",
          "2023-12-14T00:00:00",
          "2023-12-15T00:00:00",
          "2023-12-18T00:00:00",
          "2023-12-19T00:00:00",
          "2023-12-20T00:00:00",
          "2023-12-21T00:00:00",
          "2023-12-22T00:00:00",
          "2023-12-26T00:00:00",
          "2023-12-27T00:00:00",
          "2023-12-28T00:00:00",
          "2024-01-02T00:00:00",
          "2024-01-03T00:00:00",
          "2024-01-04T00:00:00",
          "2024-01-05T00:00:00",
          "2024-01-08T00:00:00",
          "2024-01-09T00:00:00",
          "2024-01-10T00:00:00",
          "2024-01-11T00:00:00",
          "2024-01-12T00:00:00",
          "2024-01-15T00:00:00",
          "2024-01-16T00:00:00",
          "2024-01-17T00:00:00",
          "2024-01-18T00:00:00",
          "2024-01-19T00:00:00",
          "2024-01-22T00:00:00",
          "2024-01-23T00:00:00",
          "2024-01-24T00:00:00",
          "2024-01-25T00:00:00",
          "2024-01-26T00:00:00",
          "2024-01-29T00:00:00",
          "2024-01-30T00:00:00",
          "2024-01-31T00:00:00",
          "2024-02-01T00:00:00",
          "2024-02-02T00:00:00",
          "2024-02-05T00:00:00",
          "2024-02-06T00:00:00",
          "2024-02-07T00:00:00",
          "2024-02-08T00:00:00",
          "2024-02-13T00:00:00",
          "2024-02-14T00:00:00",
          "2024-02-15T00:00:00",
          "2024-02-16T00:00:00",
          "2024-02-19T00:00:00",
          "2024-02-20T00:00:00",
          "2024-02-21T00:00:00",
          "2024-02-22T00:00:00",
          "2024-02-23T00:00:00",
          "2024-02-26T00:00:00",
          "2024-02-27T00:00:00",
          "2024-02-28T00:00:00",
          "2024-02-29T00:00:00",
          "2024-03-04T00:00:00",
          "2024-03-05T00:00:00",
          "2024-03-06T00:00:00",
          "2024-03-07T00:00:00",
          "2024-03-08T00:00:00",
          "2024-03-11T00:00:00",
          "2024-03-12T00:00:00",
          "2024-03-13T00:00:00",
          "2024-03-14T00:00:00",
          "2024-03-15T00:00:00",
          "2024-03-18T00:00:00",
          "2024-03-19T00:00:00",
          "2024-03-20T00:00:00",
          "2024-03-21T00:00:00",
          "2024-03-22T00:00:00",
          "2024-03-25T00:00:00",
          "2024-03-26T00:00:00",
          "2024-03-27T00:00:00"
         ],
         "y": [
          0.2788934844326354,
          0.26910283856985207,
          0.26747572802632874,
          0.16962343955670578,
          0.14924800992301068,
          0.14327174496428025,
          0.14231193808540324,
          0.14546536715547317,
          0.14541330758430246,
          0.1472823802395126,
          0.11362973550835458,
          0.1157382361610659,
          0.12086421771998787,
          0.11892910515232152,
          0.12230107227130299,
          0.12249576207727308,
          0.12287726424516186,
          0.12739023210744643,
          0.12838523669531224,
          0.1211748675783146,
          0.12648256731599242,
          0.1371565939449611,
          0.13366934226580976,
          0.13275629675649625,
          0.12644508516864628,
          0.14665985397927064,
          0.14718999496979412,
          0.13877251536815227,
          0.13863633044900156,
          0.138881338304971,
          0.14876243049170615,
          0.14036603744596293,
          0.17418396169986605,
          0.17800529208849444,
          0.17821261637430638,
          0.16300426311766192,
          0.16363253243020418,
          0.167975108555942,
          0.1673427025438668,
          0.16750323703531284,
          0.15470978861464574,
          0.16161412968862812,
          0.16111147970257828,
          0.15730830387230488,
          0.17384424582327082,
          0.17278378915324957,
          0.17395002755446826,
          0.17101715021884445,
          0.17108245118063303,
          0.16928728800244847,
          0.17478935292226538,
          0.16582483973193587,
          0.1272847697093501,
          0.1479399506965901,
          0.18524814116623453,
          0.1919544030947184,
          0.19038363815509368,
          0.19658222704422668,
          0.19685570107661116,
          0.2026236679315415,
          0.2049381558934261,
          0.20563582099723926,
          0.21135267488056456,
          0.20680266238824777,
          0.16386208378923509,
          0.15622592550901981,
          0.1565599849106699,
          0.14756228824158768,
          0.15137481091425214,
          0.1469759798777786,
          0.144487764060059,
          0.14413129438575478,
          0.14953605791961042,
          0.14160371784164183,
          0.1349150886387572,
          0.13468813925380843,
          0.14505894951545342,
          0.14980436545582576,
          0.1489599958171105,
          0.14719968846743317,
          0.1454180477617251,
          0.16678084642604563,
          0.155262078160329,
          0.15675870615605078,
          0.17092467995996902,
          0.2079766370978048,
          0.20028898169966214,
          0.19765605135221825,
          0.19980909790837426,
          0.19864665034380877
         ]
        },
        {
         "mode": "lines",
         "name": "ARCH_package",
         "type": "scatter",
         "x": [
          "2023-11-15T00:00:00",
          "2023-11-16T00:00:00",
          "2023-11-17T00:00:00",
          "2023-11-20T00:00:00",
          "2023-11-21T00:00:00",
          "2023-11-22T00:00:00",
          "2023-11-23T00:00:00",
          "2023-11-24T00:00:00",
          "2023-11-27T00:00:00",
          "2023-11-28T00:00:00",
          "2023-11-29T00:00:00",
          "2023-11-30T00:00:00",
          "2023-12-01T00:00:00",
          "2023-12-04T00:00:00",
          "2023-12-05T00:00:00",
          "2023-12-06T00:00:00",
          "2023-12-07T00:00:00",
          "2023-12-08T00:00:00",
          "2023-12-11T00:00:00",
          "2023-12-12T00:00:00",
          "2023-12-13T00:00:00",
          "2023-12-14T00:00:00",
          "2023-12-15T00:00:00",
          "2023-12-18T00:00:00",
          "2023-12-19T00:00:00",
          "2023-12-20T00:00:00",
          "2023-12-21T00:00:00",
          "2023-12-22T00:00:00",
          "2023-12-26T00:00:00",
          "2023-12-27T00:00:00",
          "2023-12-28T00:00:00",
          "2024-01-02T00:00:00",
          "2024-01-03T00:00:00",
          "2024-01-04T00:00:00",
          "2024-01-05T00:00:00",
          "2024-01-08T00:00:00",
          "2024-01-09T00:00:00",
          "2024-01-10T00:00:00",
          "2024-01-11T00:00:00",
          "2024-01-12T00:00:00",
          "2024-01-15T00:00:00",
          "2024-01-16T00:00:00",
          "2024-01-17T00:00:00",
          "2024-01-18T00:00:00",
          "2024-01-19T00:00:00",
          "2024-01-22T00:00:00",
          "2024-01-23T00:00:00",
          "2024-01-24T00:00:00",
          "2024-01-25T00:00:00",
          "2024-01-26T00:00:00",
          "2024-01-29T00:00:00",
          "2024-01-30T00:00:00",
          "2024-01-31T00:00:00",
          "2024-02-01T00:00:00",
          "2024-02-02T00:00:00",
          "2024-02-05T00:00:00",
          "2024-02-06T00:00:00",
          "2024-02-07T00:00:00",
          "2024-02-08T00:00:00",
          "2024-02-13T00:00:00",
          "2024-02-14T00:00:00",
          "2024-02-15T00:00:00",
          "2024-02-16T00:00:00",
          "2024-02-19T00:00:00",
          "2024-02-20T00:00:00",
          "2024-02-21T00:00:00",
          "2024-02-22T00:00:00",
          "2024-02-23T00:00:00",
          "2024-02-26T00:00:00",
          "2024-02-27T00:00:00",
          "2024-02-28T00:00:00",
          "2024-02-29T00:00:00",
          "2024-03-04T00:00:00",
          "2024-03-05T00:00:00",
          "2024-03-06T00:00:00",
          "2024-03-07T00:00:00",
          "2024-03-08T00:00:00",
          "2024-03-11T00:00:00",
          "2024-03-12T00:00:00",
          "2024-03-13T00:00:00",
          "2024-03-14T00:00:00",
          "2024-03-15T00:00:00",
          "2024-03-18T00:00:00",
          "2024-03-19T00:00:00",
          "2024-03-20T00:00:00",
          "2024-03-21T00:00:00",
          "2024-03-22T00:00:00",
          "2024-03-25T00:00:00",
          "2024-03-26T00:00:00",
          "2024-03-27T00:00:00"
         ],
         "y": [
          0.18623132565920456,
          0.2661302405644114,
          0.16209360446315146,
          0.1756556754409881,
          0.17210702857798557,
          0.17365477496852047,
          0.16200702694630414,
          0.1619866132583695,
          0.18343157310743724,
          0.16253238006609322,
          0.1934314157823157,
          0.16461361602443864,
          0.16870553830776508,
          0.1935446453407651,
          0.1655295708752412,
          0.18880978215072822,
          0.16251722419463255,
          0.16408807267124317,
          0.1948734327994699,
          0.1654302068993255,
          0.16888716393618422,
          0.18551014279723074,
          0.2060376360930445,
          0.17650780166150384,
          0.16292582541806372,
          0.16220487474097486,
          0.23214396322365471,
          0.16686692687445315,
          0.16209815677402928,
          0.16490089512501022,
          0.16985296797984306,
          0.21752649396335574,
          0.17417336399034802,
          0.29830083832104654,
          0.18467263129641023,
          0.16424704396929335,
          0.16919277657786083,
          0.1703257877013102,
          0.18582444586515984,
          0.16263644001305505,
          0.17326979724837674,
          0.16385563099248138,
          0.20791475140651966,
          0.29686138941451,
          0.16401952027357475,
          0.23216975876978582,
          0.1626074984481252,
          0.17377042155480646,
          0.17018894416484298,
          0.16236610819165997,
          0.16216605380780394,
          0.18999071610078214,
          0.1625946421756891,
          0.16658659736613804,
          0.23516113024885463,
          0.34268519407128584,
          0.2010467524914712,
          0.16702273101733978,
          0.2002092748680323,
          0.1637659294076481,
          0.19363193439507445,
          0.20689870121296267,
          0.16781463192452262,
          0.19732906562355665,
          0.21367973570352533,
          0.19484062929516427,
          0.16428416148554906,
          0.16674258971863154,
          0.16320722939668103,
          0.1833435144030799,
          0.17922568952572976,
          0.19284045762318527,
          0.16603753643893657,
          0.21665794431968727,
          0.18848191902716308,
          0.1667500239376594,
          0.16237246704044017,
          0.20541089561977513,
          0.18655008919430155,
          0.17627090595546732,
          0.16861984330181984,
          0.18596568569897312,
          0.25193766681585417,
          0.16861391275215243,
          0.19506436006853428,
          0.2244664762983748,
          0.31193826516204576,
          0.1646757303797398,
          0.17041553659239725,
          0.18792260984463377
         ]
        },
        {
         "mode": "lines",
         "name": "EWMA",
         "type": "scatter",
         "x": [
          "2023-11-15T00:00:00",
          "2023-11-16T00:00:00",
          "2023-11-17T00:00:00",
          "2023-11-20T00:00:00",
          "2023-11-21T00:00:00",
          "2023-11-22T00:00:00",
          "2023-11-23T00:00:00",
          "2023-11-24T00:00:00",
          "2023-11-27T00:00:00",
          "2023-11-28T00:00:00",
          "2023-11-29T00:00:00",
          "2023-11-30T00:00:00",
          "2023-12-01T00:00:00",
          "2023-12-04T00:00:00",
          "2023-12-05T00:00:00",
          "2023-12-06T00:00:00",
          "2023-12-07T00:00:00",
          "2023-12-08T00:00:00",
          "2023-12-11T00:00:00",
          "2023-12-12T00:00:00",
          "2023-12-13T00:00:00",
          "2023-12-14T00:00:00",
          "2023-12-15T00:00:00",
          "2023-12-18T00:00:00",
          "2023-12-19T00:00:00",
          "2023-12-20T00:00:00",
          "2023-12-21T00:00:00",
          "2023-12-22T00:00:00",
          "2023-12-26T00:00:00",
          "2023-12-27T00:00:00",
          "2023-12-28T00:00:00",
          "2024-01-02T00:00:00",
          "2024-01-03T00:00:00",
          "2024-01-04T00:00:00",
          "2024-01-05T00:00:00",
          "2024-01-08T00:00:00",
          "2024-01-09T00:00:00",
          "2024-01-10T00:00:00",
          "2024-01-11T00:00:00",
          "2024-01-12T00:00:00",
          "2024-01-15T00:00:00",
          "2024-01-16T00:00:00",
          "2024-01-17T00:00:00",
          "2024-01-18T00:00:00",
          "2024-01-19T00:00:00",
          "2024-01-22T00:00:00",
          "2024-01-23T00:00:00",
          "2024-01-24T00:00:00",
          "2024-01-25T00:00:00",
          "2024-01-26T00:00:00",
          "2024-01-29T00:00:00",
          "2024-01-30T00:00:00",
          "2024-01-31T00:00:00",
          "2024-02-01T00:00:00",
          "2024-02-02T00:00:00",
          "2024-02-05T00:00:00",
          "2024-02-06T00:00:00",
          "2024-02-07T00:00:00",
          "2024-02-08T00:00:00",
          "2024-02-13T00:00:00",
          "2024-02-14T00:00:00",
          "2024-02-15T00:00:00",
          "2024-02-16T00:00:00",
          "2024-02-19T00:00:00",
          "2024-02-20T00:00:00",
          "2024-02-21T00:00:00",
          "2024-02-22T00:00:00",
          "2024-02-23T00:00:00",
          "2024-02-26T00:00:00",
          "2024-02-27T00:00:00",
          "2024-02-28T00:00:00",
          "2024-02-29T00:00:00",
          "2024-03-04T00:00:00",
          "2024-03-05T00:00:00",
          "2024-03-06T00:00:00",
          "2024-03-07T00:00:00",
          "2024-03-08T00:00:00",
          "2024-03-11T00:00:00",
          "2024-03-12T00:00:00",
          "2024-03-13T00:00:00",
          "2024-03-14T00:00:00",
          "2024-03-15T00:00:00",
          "2024-03-18T00:00:00",
          "2024-03-19T00:00:00",
          "2024-03-20T00:00:00",
          "2024-03-21T00:00:00",
          "2024-03-22T00:00:00",
          "2024-03-25T00:00:00",
          "2024-03-26T00:00:00",
          "2024-03-27T00:00:00"
         ],
         "y": [
          0.2474587641936416,
          0.2399547808974284,
          0.23411212004759874,
          0.22839808797131936,
          0.22310731143414136,
          0.21632833436502347,
          0.20974127921302393,
          0.2061065797181524,
          0.19986467142503328,
          0.19890226545405001,
          0.19312144310927692,
          0.18840192912795634,
          0.18736350045244615,
          0.18232110558647358,
          0.18081751952582645,
          0.1754491607917792,
          0.17034728260189047,
          0.17142705985149523,
          0.16691334594800075,
          0.16320761389450086,
          0.1621390295152461,
          0.1661201542275344,
          0.16388536331641262,
          0.15898926805321303,
          0.15422996231811098,
          0.16495288581539738,
          0.1606084770284825,
          0.15577032358201362,
          0.1516962138124551,
          0.14878987235049115,
          0.15662749460085687,
          0.1543808224262062,
          0.18047612160840065,
          0.17837685019934732,
          0.173203266367329,
          0.16892814986509566,
          0.1649883657767783,
          0.16388138460252027,
          0.15894809068927163,
          0.15589341871009152,
          0.15159851128136162,
          0.1558060213262105,
          0.18123499825344352,
          0.17613425588416645,
          0.1844280817955002,
          0.17885906929139184,
          0.17555456901130342,
          0.1713466656620694,
          0.16624180715178302,
          0.1612481605182069,
          0.1619402018417371,
          0.1570615160541707,
          0.15294556871880854,
          0.1645601524367122,
          0.2027716333971868,
          0.20215512928370813,
          0.19657247948246853,
          0.19697083227527135,
          0.19131507667102113,
          0.1908712137330965,
          0.19196324408754648,
          0.18682918250324715,
          0.18731760441714146,
          0.1908386863379881,
          0.1898811426137202,
          0.18434606067885997,
          0.17961449584840716,
          0.17441737390748155,
          0.1723919452459246,
          0.16976772427061432,
          0.17048507642087293,
          0.16582532040423173,
          0.17177130418356382,
          0.17077370817851903,
          0.16621119011495872,
          0.16126778145762746,
          0.16518641227718245,
          0.164200582545113,
          0.16201112931466563,
          0.15844448179771764,
          0.1584877964712782,
          0.17201040346768623,
          0.16805911273487048,
          0.1684752311254241,
          0.17586833467035606,
          0.20327433410378162,
          0.19736184240935964,
          0.19239535228397342,
          0.19089954911525894,
          0.18516267202628497
         ]
        },
        {
         "mode": "lines",
         "name": "GARCH",
         "type": "scatter",
         "x": [
          "2023-11-15T00:00:00",
          "2023-11-16T00:00:00",
          "2023-11-17T00:00:00",
          "2023-11-20T00:00:00",
          "2023-11-21T00:00:00",
          "2023-11-22T00:00:00",
          "2023-11-23T00:00:00",
          "2023-11-24T00:00:00",
          "2023-11-27T00:00:00",
          "2023-11-28T00:00:00",
          "2023-11-29T00:00:00",
          "2023-11-30T00:00:00",
          "2023-12-01T00:00:00",
          "2023-12-04T00:00:00",
          "2023-12-05T00:00:00",
          "2023-12-06T00:00:00",
          "2023-12-07T00:00:00",
          "2023-12-08T00:00:00",
          "2023-12-11T00:00:00",
          "2023-12-12T00:00:00",
          "2023-12-13T00:00:00",
          "2023-12-14T00:00:00",
          "2023-12-15T00:00:00",
          "2023-12-18T00:00:00",
          "2023-12-19T00:00:00",
          "2023-12-20T00:00:00",
          "2023-12-21T00:00:00",
          "2023-12-22T00:00:00",
          "2023-12-26T00:00:00",
          "2023-12-27T00:00:00",
          "2023-12-28T00:00:00",
          "2024-01-02T00:00:00",
          "2024-01-03T00:00:00",
          "2024-01-04T00:00:00",
          "2024-01-05T00:00:00",
          "2024-01-08T00:00:00",
          "2024-01-09T00:00:00",
          "2024-01-10T00:00:00",
          "2024-01-11T00:00:00",
          "2024-01-12T00:00:00",
          "2024-01-15T00:00:00",
          "2024-01-16T00:00:00",
          "2024-01-17T00:00:00",
          "2024-01-18T00:00:00",
          "2024-01-19T00:00:00",
          "2024-01-22T00:00:00",
          "2024-01-23T00:00:00",
          "2024-01-24T00:00:00",
          "2024-01-25T00:00:00",
          "2024-01-26T00:00:00",
          "2024-01-29T00:00:00",
          "2024-01-30T00:00:00",
          "2024-01-31T00:00:00",
          "2024-02-01T00:00:00",
          "2024-02-02T00:00:00",
          "2024-02-05T00:00:00",
          "2024-02-06T00:00:00",
          "2024-02-07T00:00:00",
          "2024-02-08T00:00:00",
          "2024-02-13T00:00:00",
          "2024-02-14T00:00:00",
          "2024-02-15T00:00:00",
          "2024-02-16T00:00:00",
          "2024-02-19T00:00:00",
          "2024-02-20T00:00:00",
          "2024-02-21T00:00:00",
          "2024-02-22T00:00:00",
          "2024-02-23T00:00:00",
          "2024-02-26T00:00:00",
          "2024-02-27T00:00:00",
          "2024-02-28T00:00:00",
          "2024-02-29T00:00:00",
          "2024-03-04T00:00:00",
          "2024-03-05T00:00:00",
          "2024-03-06T00:00:00",
          "2024-03-07T00:00:00",
          "2024-03-08T00:00:00",
          "2024-03-11T00:00:00",
          "2024-03-12T00:00:00",
          "2024-03-13T00:00:00",
          "2024-03-14T00:00:00",
          "2024-03-15T00:00:00",
          "2024-03-18T00:00:00",
          "2024-03-19T00:00:00",
          "2024-03-20T00:00:00",
          "2024-03-21T00:00:00",
          "2024-03-22T00:00:00",
          "2024-03-25T00:00:00",
          "2024-03-26T00:00:00",
          "2024-03-27T00:00:00"
         ],
         "y": [
          0.18600088503101003,
          0.175905711370871,
          0.16907444940870944,
          0.16329543412964992,
          0.1587714915817401,
          0.15302484980946568,
          0.1482436765891395,
          0.1475889860396654,
          0.14380164428283979,
          0.1466204158323844,
          0.14328193471346853,
          0.14154663097862807,
          0.1440458809022116,
          0.1415809162365944,
          0.1432096527562981,
          0.14031490697921012,
          0.1380564903907309,
          0.14241995023378573,
          0.14023868976787598,
          0.1391183009744376,
          0.1406654800198132,
          0.14671510220098605,
          0.145748822813149,
          0.14233822385704117,
          0.13953220177321407,
          0.15147838361367127,
          0.14759341845775983,
          0.143811969837512,
          0.14127279940748272,
          0.14013359173909326,
          0.1487264918307804,
          0.14695252952825402,
          0.17082010179355758,
          0.16617361463587912,
          0.15941524945005062,
          0.15447165245848826,
          0.15056325525435782,
          0.14985966325944597,
          0.14568215055351058,
          0.14384224009735555,
          0.14109927423475147,
          0.14643331080676866,
          0.1701097457295164,
          0.16285734251264739,
          0.1691043422467029,
          0.16167376455036991,
          0.15745608247441825,
          0.15299906585826703,
          0.1483283947224757,
          0.14443340369878427,
          0.14645153978405717,
          0.14287444295704024,
          0.14051165812094168,
          0.15287606519955024,
          0.18783464419188328,
          0.1826659990749272,
          0.17359898854425976,
          0.1716561995996646,
          0.1641099211812657,
          0.1628405650527069,
          0.16333010754259591,
          0.1575209862270224,
          0.15821925483486896,
          0.16185797550742304,
          0.1604798357494553,
          0.15467758978498844,
          0.15050695845777592,
          0.1464395364416331,
          0.14612436280889202,
          0.1451758819325434,
          0.14758668194115795,
          0.14427894419509035,
          0.15168575389117742,
          0.1512132002547142,
          0.1473584927355583,
          0.1436832256782436,
          0.14891152295704896,
          0.14865603320669227,
          0.147272775288939,
          0.14477446904643831,
          0.1459533135043462,
          0.15929096436040208,
          0.15462875756683125,
          0.1547041808854922,
          0.1612727786627305,
          0.18570204475615312,
          0.17588015255494005,
          0.16833721739532082,
          0.1652870526908996,
          0.15851143319664404
         ]
        },
        {
         "mode": "lines",
         "name": "GARCH_package",
         "type": "scatter",
         "x": [
          "2023-11-15T00:00:00",
          "2023-11-16T00:00:00",
          "2023-11-17T00:00:00",
          "2023-11-20T00:00:00",
          "2023-11-21T00:00:00",
          "2023-11-22T00:00:00",
          "2023-11-23T00:00:00",
          "2023-11-24T00:00:00",
          "2023-11-27T00:00:00",
          "2023-11-28T00:00:00",
          "2023-11-29T00:00:00",
          "2023-11-30T00:00:00",
          "2023-12-01T00:00:00",
          "2023-12-04T00:00:00",
          "2023-12-05T00:00:00",
          "2023-12-06T00:00:00",
          "2023-12-07T00:00:00",
          "2023-12-08T00:00:00",
          "2023-12-11T00:00:00",
          "2023-12-12T00:00:00",
          "2023-12-13T00:00:00",
          "2023-12-14T00:00:00",
          "2023-12-15T00:00:00",
          "2023-12-18T00:00:00",
          "2023-12-19T00:00:00",
          "2023-12-20T00:00:00",
          "2023-12-21T00:00:00",
          "2023-12-22T00:00:00",
          "2023-12-26T00:00:00",
          "2023-12-27T00:00:00",
          "2023-12-28T00:00:00",
          "2024-01-02T00:00:00",
          "2024-01-03T00:00:00",
          "2024-01-04T00:00:00",
          "2024-01-05T00:00:00",
          "2024-01-08T00:00:00",
          "2024-01-09T00:00:00",
          "2024-01-10T00:00:00",
          "2024-01-11T00:00:00",
          "2024-01-12T00:00:00",
          "2024-01-15T00:00:00",
          "2024-01-16T00:00:00",
          "2024-01-17T00:00:00",
          "2024-01-18T00:00:00",
          "2024-01-19T00:00:00",
          "2024-01-22T00:00:00",
          "2024-01-23T00:00:00",
          "2024-01-24T00:00:00",
          "2024-01-25T00:00:00",
          "2024-01-26T00:00:00",
          "2024-01-29T00:00:00",
          "2024-01-30T00:00:00",
          "2024-01-31T00:00:00",
          "2024-02-01T00:00:00",
          "2024-02-02T00:00:00",
          "2024-02-05T00:00:00",
          "2024-02-06T00:00:00",
          "2024-02-07T00:00:00",
          "2024-02-08T00:00:00",
          "2024-02-13T00:00:00",
          "2024-02-14T00:00:00",
          "2024-02-15T00:00:00",
          "2024-02-16T00:00:00",
          "2024-02-19T00:00:00",
          "2024-02-20T00:00:00",
          "2024-02-21T00:00:00",
          "2024-02-22T00:00:00",
          "2024-02-23T00:00:00",
          "2024-02-26T00:00:00",
          "2024-02-27T00:00:00",
          "2024-02-28T00:00:00",
          "2024-02-29T00:00:00",
          "2024-03-04T00:00:00",
          "2024-03-05T00:00:00",
          "2024-03-06T00:00:00",
          "2024-03-07T00:00:00",
          "2024-03-08T00:00:00",
          "2024-03-11T00:00:00",
          "2024-03-12T00:00:00",
          "2024-03-13T00:00:00",
          "2024-03-14T00:00:00",
          "2024-03-15T00:00:00",
          "2024-03-18T00:00:00",
          "2024-03-19T00:00:00",
          "2024-03-20T00:00:00",
          "2024-03-21T00:00:00",
          "2024-03-22T00:00:00",
          "2024-03-25T00:00:00",
          "2024-03-26T00:00:00",
          "2024-03-27T00:00:00"
         ],
         "y": [
          0.24046933538418044,
          0.24967916031044243,
          0.2395952950242089,
          0.23203844271929505,
          0.22433751131859536,
          0.21732087501209052,
          0.2088277414039512,
          0.2007605530399566,
          0.19698841013149365,
          0.18962314873774022,
          0.18864695497974904,
          0.1821018913161324,
          0.176685622443268,
          0.17688699289377666,
          0.17115546426129163,
          0.17077489240079688,
          0.16478892826980737,
          0.15946754450540462,
          0.16153606171500995,
          0.1566722447316206,
          0.15286528889442166,
          0.15330780031776187,
          0.1588876396258514,
          0.15665209537011715,
          0.15154117895802818,
          0.14655125928513474,
          0.16038103622423988,
          0.15591721873879,
          0.15065973196859647,
          0.14632790371923146,
          0.14343486833372632,
          0.15349514868138267,
          0.15111690856167342,
          0.18477571101720902,
          0.18240945488085353,
          0.17613650306134002,
          0.17119855000407816,
          0.16680006855088247,
          0.16610987869508367,
          0.16040974645071002,
          0.15736513671209834,
          0.15240548356829417,
          0.15866054361307255,
          0.19000060479791192,
          0.18326088669090054,
          0.19176623933539283,
          0.18468666265359113,
          0.1800969892816665,
          0.17511620037116127,
          0.1688668841626969,
          0.1629146820429786,
          0.1634817244468404,
          0.15791745053428616,
          0.15354277706673863,
          0.16710371422276032,
          0.21102501981019606,
          0.20986589128953445,
          0.2025886225133679,
          0.20191817578374427,
          0.19450070904349176,
          0.1931667297704525,
          0.1947892321896106,
          0.1884898543908107,
          0.18843064086538677,
          0.19196820087181396,
          0.19113756883776367,
          0.18439673506867804,
          0.17847120227920482,
          0.172202553522868,
          0.17052001010027484,
          0.16806561722162042,
          0.16883098917104547,
          0.16368418307524213,
          0.1707625489416749,
          0.17034146391794708,
          0.16525317198570452,
          0.1595386660313786,
          0.16423125952731424,
          0.16392543350360061,
          0.1612672745034391,
          0.1571077424712497,
          0.15723485573924248,
          0.17511394383365425,
          0.17009811211670334,
          0.1712441881930536,
          0.17936306538147095,
          0.21050630883227162,
          0.202801441313663,
          0.19650859862855405,
          0.19387439411181454
         ]
        },
        {
         "mode": "lines",
         "name": "TraditionalCtoC",
         "type": "scatter",
         "x": [
          "2023-11-15T00:00:00",
          "2023-11-16T00:00:00",
          "2023-11-17T00:00:00",
          "2023-11-20T00:00:00",
          "2023-11-21T00:00:00",
          "2023-11-22T00:00:00",
          "2023-11-23T00:00:00",
          "2023-11-24T00:00:00",
          "2023-11-27T00:00:00",
          "2023-11-28T00:00:00",
          "2023-11-29T00:00:00",
          "2023-11-30T00:00:00",
          "2023-12-01T00:00:00",
          "2023-12-04T00:00:00",
          "2023-12-05T00:00:00",
          "2023-12-06T00:00:00",
          "2023-12-07T00:00:00",
          "2023-12-08T00:00:00",
          "2023-12-11T00:00:00",
          "2023-12-12T00:00:00",
          "2023-12-13T00:00:00",
          "2023-12-14T00:00:00",
          "2023-12-15T00:00:00",
          "2023-12-18T00:00:00",
          "2023-12-19T00:00:00",
          "2023-12-20T00:00:00",
          "2023-12-21T00:00:00",
          "2023-12-22T00:00:00",
          "2023-12-26T00:00:00",
          "2023-12-27T00:00:00",
          "2023-12-28T00:00:00",
          "2024-01-02T00:00:00",
          "2024-01-03T00:00:00",
          "2024-01-04T00:00:00",
          "2024-01-05T00:00:00",
          "2024-01-08T00:00:00",
          "2024-01-09T00:00:00",
          "2024-01-10T00:00:00",
          "2024-01-11T00:00:00",
          "2024-01-12T00:00:00",
          "2024-01-15T00:00:00",
          "2024-01-16T00:00:00",
          "2024-01-17T00:00:00",
          "2024-01-18T00:00:00",
          "2024-01-19T00:00:00",
          "2024-01-22T00:00:00",
          "2024-01-23T00:00:00",
          "2024-01-24T00:00:00",
          "2024-01-25T00:00:00",
          "2024-01-26T00:00:00",
          "2024-01-29T00:00:00",
          "2024-01-30T00:00:00",
          "2024-01-31T00:00:00",
          "2024-02-01T00:00:00",
          "2024-02-02T00:00:00",
          "2024-02-05T00:00:00",
          "2024-02-06T00:00:00",
          "2024-02-07T00:00:00",
          "2024-02-08T00:00:00",
          "2024-02-13T00:00:00",
          "2024-02-14T00:00:00",
          "2024-02-15T00:00:00",
          "2024-02-16T00:00:00",
          "2024-02-19T00:00:00",
          "2024-02-20T00:00:00",
          "2024-02-21T00:00:00",
          "2024-02-22T00:00:00",
          "2024-02-23T00:00:00",
          "2024-02-26T00:00:00",
          "2024-02-27T00:00:00",
          "2024-02-28T00:00:00",
          "2024-02-29T00:00:00",
          "2024-03-04T00:00:00",
          "2024-03-05T00:00:00",
          "2024-03-06T00:00:00",
          "2024-03-07T00:00:00",
          "2024-03-08T00:00:00",
          "2024-03-11T00:00:00",
          "2024-03-12T00:00:00",
          "2024-03-13T00:00:00",
          "2024-03-14T00:00:00",
          "2024-03-15T00:00:00",
          "2024-03-18T00:00:00",
          "2024-03-19T00:00:00",
          "2024-03-20T00:00:00",
          "2024-03-21T00:00:00",
          "2024-03-22T00:00:00",
          "2024-03-25T00:00:00",
          "2024-03-26T00:00:00",
          "2024-03-27T00:00:00"
         ],
         "y": [
          0.30338762500177846,
          0.299479906457418,
          0.17547203742069184,
          0.14486228710750457,
          0.14014087432572034,
          0.13876014762100536,
          0.13670810549188203,
          0.14331387885559047,
          0.13426459572115532,
          0.0934095666953965,
          0.09421971670842251,
          0.09193928105621225,
          0.10155899238918242,
          0.09741499928064126,
          0.10915494084689538,
          0.10951857505584106,
          0.10117390262569097,
          0.11699281681228987,
          0.1037427132774729,
          0.10642345566141255,
          0.11271478193982952,
          0.12048005809085875,
          0.12502785762880445,
          0.11508799921967516,
          0.1149204144042387,
          0.1449449637567816,
          0.13378454033731227,
          0.1324188220514451,
          0.13087831453241008,
          0.12596251966429298,
          0.1312730436101053,
          0.13035921469035228,
          0.18530918887707232,
          0.19056731824910567,
          0.16889641588687185,
          0.1694868870162993,
          0.17135329247518916,
          0.17652028173457585,
          0.17421258636366693,
          0.15865601705232096,
          0.15530850016069842,
          0.10600653894250488,
          0.16238982449881192,
          0.16268241648784487,
          0.18396901819136355,
          0.18223504023260767,
          0.1797584749039813,
          0.181477519101372,
          0.17907692527919242,
          0.1785441482115416,
          0.17408352055930185,
          0.11480874902031153,
          0.11522478448697958,
          0.11689796371720176,
          0.19728532278323768,
          0.20352866154650426,
          0.20285400634871886,
          0.21250718044643438,
          0.2129327363932157,
          0.21386487391845396,
          0.22384625866258423,
          0.22407878362502606,
          0.21360726796430257,
          0.16119870053519086,
          0.15909801786466857,
          0.15839047254393837,
          0.14676554177778256,
          0.14656146151628552,
          0.14152457129201718,
          0.1308371472262162,
          0.14115405265719708,
          0.1283397463504602,
          0.12973124277135073,
          0.1271478181402812,
          0.12793826017215887,
          0.12612232121156317,
          0.14288612595304273,
          0.1440027376235207,
          0.14402873011698517,
          0.13493910010988938,
          0.14290235800364107,
          0.15678448178878424,
          0.15130244893592143,
          0.16009073637318613,
          0.18035814944447012,
          0.21841501924912912,
          0.21373283143226163,
          0.21180155252986105,
          0.2164752481065264,
          0.2107177822872934
         ]
        },
        {
         "mode": "lines",
         "name": "Parkinson",
         "type": "scatter",
         "x": [
          "2023-11-15T00:00:00",
          "2023-11-16T00:00:00",
          "2023-11-17T00:00:00",
          "2023-11-20T00:00:00",
          "2023-11-21T00:00:00",
          "2023-11-22T00:00:00",
          "2023-11-23T00:00:00",
          "2023-11-24T00:00:00",
          "2023-11-27T00:00:00",
          "2023-11-28T00:00:00",
          "2023-11-29T00:00:00",
          "2023-11-30T00:00:00",
          "2023-12-01T00:00:00",
          "2023-12-04T00:00:00",
          "2023-12-05T00:00:00",
          "2023-12-06T00:00:00",
          "2023-12-07T00:00:00",
          "2023-12-08T00:00:00",
          "2023-12-11T00:00:00",
          "2023-12-12T00:00:00",
          "2023-12-13T00:00:00",
          "2023-12-14T00:00:00",
          "2023-12-15T00:00:00",
          "2023-12-18T00:00:00",
          "2023-12-19T00:00:00",
          "2023-12-20T00:00:00",
          "2023-12-21T00:00:00",
          "2023-12-22T00:00:00",
          "2023-12-26T00:00:00",
          "2023-12-27T00:00:00",
          "2023-12-28T00:00:00",
          "2024-01-02T00:00:00",
          "2024-01-03T00:00:00",
          "2024-01-04T00:00:00",
          "2024-01-05T00:00:00",
          "2024-01-08T00:00:00",
          "2024-01-09T00:00:00",
          "2024-01-10T00:00:00",
          "2024-01-11T00:00:00",
          "2024-01-12T00:00:00",
          "2024-01-15T00:00:00",
          "2024-01-16T00:00:00",
          "2024-01-17T00:00:00",
          "2024-01-18T00:00:00",
          "2024-01-19T00:00:00",
          "2024-01-22T00:00:00",
          "2024-01-23T00:00:00",
          "2024-01-24T00:00:00",
          "2024-01-25T00:00:00",
          "2024-01-26T00:00:00",
          "2024-01-29T00:00:00",
          "2024-01-30T00:00:00",
          "2024-01-31T00:00:00",
          "2024-02-01T00:00:00",
          "2024-02-02T00:00:00",
          "2024-02-05T00:00:00",
          "2024-02-06T00:00:00",
          "2024-02-07T00:00:00",
          "2024-02-08T00:00:00",
          "2024-02-13T00:00:00",
          "2024-02-14T00:00:00",
          "2024-02-15T00:00:00",
          "2024-02-16T00:00:00",
          "2024-02-19T00:00:00",
          "2024-02-20T00:00:00",
          "2024-02-21T00:00:00",
          "2024-02-22T00:00:00",
          "2024-02-23T00:00:00",
          "2024-02-26T00:00:00",
          "2024-02-27T00:00:00",
          "2024-02-28T00:00:00",
          "2024-02-29T00:00:00",
          "2024-03-04T00:00:00",
          "2024-03-05T00:00:00",
          "2024-03-06T00:00:00",
          "2024-03-07T00:00:00",
          "2024-03-08T00:00:00",
          "2024-03-11T00:00:00",
          "2024-03-12T00:00:00",
          "2024-03-13T00:00:00",
          "2024-03-14T00:00:00",
          "2024-03-15T00:00:00",
          "2024-03-18T00:00:00",
          "2024-03-19T00:00:00",
          "2024-03-20T00:00:00",
          "2024-03-21T00:00:00",
          "2024-03-22T00:00:00",
          "2024-03-25T00:00:00",
          "2024-03-26T00:00:00",
          "2024-03-27T00:00:00"
         ],
         "y": [
          0.1661761982843921,
          0.1664504515532625,
          0.16667454419300745,
          0.1266454455644457,
          0.1116282447862215,
          0.09786875140151546,
          0.09423639045965906,
          0.09668941826512008,
          0.09045157657639623,
          0.09297667347755063,
          0.09235149721428407,
          0.09441739167090997,
          0.09388444321338428,
          0.08668257663301787,
          0.08794095855946761,
          0.08190133049205675,
          0.08270073372520964,
          0.07794303769383347,
          0.07468619977330142,
          0.0710825995691262,
          0.07153167001853213,
          0.07045152898472866,
          0.07144634672582217,
          0.07170474378647623,
          0.06976722317630074,
          0.0764522601451791,
          0.07762825572868032,
          0.07953070089502784,
          0.07870604992384203,
          0.0826876181122403,
          0.0934776532370793,
          0.10041575367716336,
          0.10862070646337438,
          0.11127140556595655,
          0.11210663336357836,
          0.11140028782900634,
          0.12498581049220364,
          0.12906531981309338,
          0.13019160633518329,
          0.13110378589927468,
          0.12355015610865142,
          0.1212998627112086,
          0.14393398413981365,
          0.14451621371751375,
          0.14481250316295133,
          0.14431452581168097,
          0.1326125183879637,
          0.12998311592320963,
          0.13003955871082543,
          0.13808901481353916,
          0.14540445175296376,
          0.14535862715666886,
          0.11477387762125922,
          0.12430865798825991,
          0.1423510761135928,
          0.15506786329958988,
          0.15866279065225478,
          0.16281426673825358,
          0.16276714590481672,
          0.15378320200697687,
          0.14712867624718975,
          0.1473151189038261,
          0.14902261160934263,
          0.14312603661822415,
          0.12950635858580226,
          0.11486845920723492,
          0.10987845773757922,
          0.10529736744002556,
          0.10835351522194277,
          0.11255781017958116,
          0.1178702142533148,
          0.11374051574572887,
          0.11380223730339593,
          0.1138432798145729,
          0.10873006261155446,
          0.10752316242116733,
          0.10669691002113088,
          0.10232334977624488,
          0.10183629000652236,
          0.09829509852184995,
          0.09165312444306745,
          0.0980223859572659,
          0.09739594736204307,
          0.09311559078339633,
          0.09518909683180043,
          0.09878141189551824,
          0.10250009695836908,
          0.10923055599997593,
          0.1101556183185235,
          0.10940102352926645
         ]
        },
        {
         "mode": "lines",
         "name": "GarmanKlass",
         "type": "scatter",
         "x": [
          "2023-11-15T00:00:00",
          "2023-11-16T00:00:00",
          "2023-11-17T00:00:00",
          "2023-11-20T00:00:00",
          "2023-11-21T00:00:00",
          "2023-11-22T00:00:00",
          "2023-11-23T00:00:00",
          "2023-11-24T00:00:00",
          "2023-11-27T00:00:00",
          "2023-11-28T00:00:00",
          "2023-11-29T00:00:00",
          "2023-11-30T00:00:00",
          "2023-12-01T00:00:00",
          "2023-12-04T00:00:00",
          "2023-12-05T00:00:00",
          "2023-12-06T00:00:00",
          "2023-12-07T00:00:00",
          "2023-12-08T00:00:00",
          "2023-12-11T00:00:00",
          "2023-12-12T00:00:00",
          "2023-12-13T00:00:00",
          "2023-12-14T00:00:00",
          "2023-12-15T00:00:00",
          "2023-12-18T00:00:00",
          "2023-12-19T00:00:00",
          "2023-12-20T00:00:00",
          "2023-12-21T00:00:00",
          "2023-12-22T00:00:00",
          "2023-12-26T00:00:00",
          "2023-12-27T00:00:00",
          "2023-12-28T00:00:00",
          "2024-01-02T00:00:00",
          "2024-01-03T00:00:00",
          "2024-01-04T00:00:00",
          "2024-01-05T00:00:00",
          "2024-01-08T00:00:00",
          "2024-01-09T00:00:00",
          "2024-01-10T00:00:00",
          "2024-01-11T00:00:00",
          "2024-01-12T00:00:00",
          "2024-01-15T00:00:00",
          "2024-01-16T00:00:00",
          "2024-01-17T00:00:00",
          "2024-01-18T00:00:00",
          "2024-01-19T00:00:00",
          "2024-01-22T00:00:00",
          "2024-01-23T00:00:00",
          "2024-01-24T00:00:00",
          "2024-01-25T00:00:00",
          "2024-01-26T00:00:00",
          "2024-01-29T00:00:00",
          "2024-01-30T00:00:00",
          "2024-01-31T00:00:00",
          "2024-02-01T00:00:00",
          "2024-02-02T00:00:00",
          "2024-02-05T00:00:00",
          "2024-02-06T00:00:00",
          "2024-02-07T00:00:00",
          "2024-02-08T00:00:00",
          "2024-02-13T00:00:00",
          "2024-02-14T00:00:00",
          "2024-02-15T00:00:00",
          "2024-02-16T00:00:00",
          "2024-02-19T00:00:00",
          "2024-02-20T00:00:00",
          "2024-02-21T00:00:00",
          "2024-02-22T00:00:00",
          "2024-02-23T00:00:00",
          "2024-02-26T00:00:00",
          "2024-02-27T00:00:00",
          "2024-02-28T00:00:00",
          "2024-02-29T00:00:00",
          "2024-03-04T00:00:00",
          "2024-03-05T00:00:00",
          "2024-03-06T00:00:00",
          "2024-03-07T00:00:00",
          "2024-03-08T00:00:00",
          "2024-03-11T00:00:00",
          "2024-03-12T00:00:00",
          "2024-03-13T00:00:00",
          "2024-03-14T00:00:00",
          "2024-03-15T00:00:00",
          "2024-03-18T00:00:00",
          "2024-03-19T00:00:00",
          "2024-03-20T00:00:00",
          "2024-03-21T00:00:00",
          "2024-03-22T00:00:00",
          "2024-03-25T00:00:00",
          "2024-03-26T00:00:00",
          "2024-03-27T00:00:00"
         ],
         "y": [
          0.23007831309105542,
          0.23121644765846483,
          0.23155367112105033,
          0.17938715124383148,
          0.16601113799342615,
          0.1474749434623258,
          0.14109079781948344,
          0.14283724748199395,
          0.13591978050329262,
          0.13999580197896744,
          0.1381871981399753,
          0.1402146557434142,
          0.13742606182293002,
          0.13036044003738897,
          0.1303971601488603,
          0.12272938598294786,
          0.12465717164174586,
          0.11811130678906846,
          0.11114304671484773,
          0.10595410211624505,
          0.10601033312059654,
          0.10459221430617636,
          0.10771934646732752,
          0.10676787185750806,
          0.10670493106078266,
          0.11391902073369659,
          0.11626438909819971,
          0.11932381345607056,
          0.11825122650244106,
          0.12510923826720105,
          0.13936980827174356,
          0.14634576469710986,
          0.1531091165363292,
          0.15965790930711138,
          0.16076332615168168,
          0.16222564016980376,
          0.1739722412921873,
          0.1801971507709378,
          0.1814472733029222,
          0.18322748561281388,
          0.1737178102700525,
          0.17328847935332672,
          0.20115971371592603,
          0.20235192669329646,
          0.20321415088371492,
          0.20062663579151543,
          0.18860972812521493,
          0.18307470767895045,
          0.18424048249189087,
          0.19333364245764556,
          0.20413373970135784,
          0.2030145787162447,
          0.1679652477748412,
          0.17224501526885058,
          0.18983677576847427,
          0.2039768786532484,
          0.21303676801462604,
          0.22048896449853433,
          0.22056973844702,
          0.20827606960593817,
          0.1979988195493229,
          0.1961777784239221,
          0.20018303264934062,
          0.19424061715978486,
          0.18116352860094728,
          0.16931332287286183,
          0.15717630822879333,
          0.15380546679990664,
          0.15581242085563168,
          0.1582574288682691,
          0.1650804489061385,
          0.16286815788294276,
          0.16121002342147822,
          0.1682296243580971,
          0.1636511312931244,
          0.16023941736832242,
          0.16103587144101986,
          0.15279468713833974,
          0.15581049723539622,
          0.1555816050653245,
          0.14655610062671598,
          0.15234750988752585,
          0.15279672344862005,
          0.1414474919800963,
          0.1446315286388918,
          0.1503154649328764,
          0.15728342506280155,
          0.1679604066555405,
          0.16642629473477077,
          0.16316787524521445
         ]
        },
        {
         "mode": "lines",
         "name": "RogersSatchell",
         "type": "scatter",
         "x": [
          "2023-11-15T00:00:00",
          "2023-11-16T00:00:00",
          "2023-11-17T00:00:00",
          "2023-11-20T00:00:00",
          "2023-11-21T00:00:00",
          "2023-11-22T00:00:00",
          "2023-11-23T00:00:00",
          "2023-11-24T00:00:00",
          "2023-11-27T00:00:00",
          "2023-11-28T00:00:00",
          "2023-11-29T00:00:00",
          "2023-11-30T00:00:00",
          "2023-12-01T00:00:00",
          "2023-12-04T00:00:00",
          "2023-12-05T00:00:00",
          "2023-12-06T00:00:00",
          "2023-12-07T00:00:00",
          "2023-12-08T00:00:00",
          "2023-12-11T00:00:00",
          "2023-12-12T00:00:00",
          "2023-12-13T00:00:00",
          "2023-12-14T00:00:00",
          "2023-12-15T00:00:00",
          "2023-12-18T00:00:00",
          "2023-12-19T00:00:00",
          "2023-12-20T00:00:00",
          "2023-12-21T00:00:00",
          "2023-12-22T00:00:00",
          "2023-12-26T00:00:00",
          "2023-12-27T00:00:00",
          "2023-12-28T00:00:00",
          "2024-01-02T00:00:00",
          "2024-01-03T00:00:00",
          "2024-01-04T00:00:00",
          "2024-01-05T00:00:00",
          "2024-01-08T00:00:00",
          "2024-01-09T00:00:00",
          "2024-01-10T00:00:00",
          "2024-01-11T00:00:00",
          "2024-01-12T00:00:00",
          "2024-01-15T00:00:00",
          "2024-01-16T00:00:00",
          "2024-01-17T00:00:00",
          "2024-01-18T00:00:00",
          "2024-01-19T00:00:00",
          "2024-01-22T00:00:00",
          "2024-01-23T00:00:00",
          "2024-01-24T00:00:00",
          "2024-01-25T00:00:00",
          "2024-01-26T00:00:00",
          "2024-01-29T00:00:00",
          "2024-01-30T00:00:00",
          "2024-01-31T00:00:00",
          "2024-02-01T00:00:00",
          "2024-02-02T00:00:00",
          "2024-02-05T00:00:00",
          "2024-02-06T00:00:00",
          "2024-02-07T00:00:00",
          "2024-02-08T00:00:00",
          "2024-02-13T00:00:00",
          "2024-02-14T00:00:00",
          "2024-02-15T00:00:00",
          "2024-02-16T00:00:00",
          "2024-02-19T00:00:00",
          "2024-02-20T00:00:00",
          "2024-02-21T00:00:00",
          "2024-02-22T00:00:00",
          "2024-02-23T00:00:00",
          "2024-02-26T00:00:00",
          "2024-02-27T00:00:00",
          "2024-02-28T00:00:00",
          "2024-02-29T00:00:00",
          "2024-03-04T00:00:00",
          "2024-03-05T00:00:00",
          "2024-03-06T00:00:00",
          "2024-03-07T00:00:00",
          "2024-03-08T00:00:00",
          "2024-03-11T00:00:00",
          "2024-03-12T00:00:00",
          "2024-03-13T00:00:00",
          "2024-03-14T00:00:00",
          "2024-03-15T00:00:00",
          "2024-03-18T00:00:00",
          "2024-03-19T00:00:00",
          "2024-03-20T00:00:00",
          "2024-03-21T00:00:00",
          "2024-03-22T00:00:00",
          "2024-03-25T00:00:00",
          "2024-03-26T00:00:00",
          "2024-03-27T00:00:00"
         ],
         "y": [
          0.1364209396946177,
          0.13666950567041777,
          0.1363802584931403,
          0.13001984897301994,
          0.10934269420404559,
          0.10299391908992576,
          0.09852589629349792,
          0.09580589492146711,
          0.09465819375551847,
          0.09452550237797246,
          0.09323144234502322,
          0.0916725856571483,
          0.08918249072831287,
          0.08290120018035813,
          0.08074963187883295,
          0.07748201564291765,
          0.0786262391384342,
          0.07807405729424276,
          0.07568381291051884,
          0.07477108706086963,
          0.06835677161108036,
          0.07353335098373606,
          0.0781902767788193,
          0.07965854223230034,
          0.08122809367103549,
          0.08157988715688712,
          0.08313601094147685,
          0.08297864391240427,
          0.0805407923634203,
          0.08316828369752106,
          0.0866217137886201,
          0.08721848404024263,
          0.08234244265014139,
          0.08645736689061519,
          0.08734290214649082,
          0.0897932918110207,
          0.09235019623468352,
          0.09615617880647881,
          0.10032127014791355,
          0.102932910428386,
          0.10286907985551222,
          0.10226691696816262,
          0.10825790790323332,
          0.10956799786866983,
          0.10979975338887805,
          0.10649350228770757,
          0.1073923391814675,
          0.11060017601562694,
          0.10938318254215537,
          0.12449528827346645,
          0.13483347306444832,
          0.13357391138774152,
          0.1301520903189883,
          0.12429121179969858,
          0.12295531052121189,
          0.14760632318648834,
          0.1504375286950573,
          0.15429171662826324,
          0.15359342892625394,
          0.1391800902708054,
          0.1291652538122847,
          0.12621576024561362,
          0.12985799003111906,
          0.13108776879669012,
          0.1369167625883226,
          0.11557783744840411,
          0.10940792196755175,
          0.10481959579050262,
          0.11048947091826934,
          0.11056418064778163,
          0.11254338642304351,
          0.11674916525514505,
          0.11409995736232606,
          0.12498439902848898,
          0.12048995798293016,
          0.11942751910997178,
          0.11748690303916068,
          0.11237466162106276,
          0.11035893338471132,
          0.1117562314360862,
          0.10671101827954628,
          0.1038972578618769,
          0.10636035793617934,
          0.09782995865368695,
          0.09839980826595902,
          0.09737727887111786,
          0.1027258141319057,
          0.1078747284442065,
          0.1116578313845714,
          0.11013414649555715
         ]
        }
       ],
       "layout": {
        "legend": {
         "title": {
          "text": "Method"
         }
        },
        "template": {
         "data": {
          "bar": [
           {
            "error_x": {
             "color": "#2a3f5f"
            },
            "error_y": {
             "color": "#2a3f5f"
            },
            "marker": {
             "line": {
              "color": "#E5ECF6",
              "width": 0.5
             },
             "pattern": {
              "fillmode": "overlay",
              "size": 10,
              "solidity": 0.2
             }
            },
            "type": "bar"
           }
          ],
          "barpolar": [
           {
            "marker": {
             "line": {
              "color": "#E5ECF6",
              "width": 0.5
             },
             "pattern": {
              "fillmode": "overlay",
              "size": 10,
              "solidity": 0.2
             }
            },
            "type": "barpolar"
           }
          ],
          "carpet": [
           {
            "aaxis": {
             "endlinecolor": "#2a3f5f",
             "gridcolor": "white",
             "linecolor": "white",
             "minorgridcolor": "white",
             "startlinecolor": "#2a3f5f"
            },
            "baxis": {
             "endlinecolor": "#2a3f5f",
             "gridcolor": "white",
             "linecolor": "white",
             "minorgridcolor": "white",
             "startlinecolor": "#2a3f5f"
            },
            "type": "carpet"
           }
          ],
          "choropleth": [
           {
            "colorbar": {
             "outlinewidth": 0,
             "ticks": ""
            },
            "type": "choropleth"
           }
          ],
          "contour": [
           {
            "colorbar": {
             "outlinewidth": 0,
             "ticks": ""
            },
            "colorscale": [
             [
              0,
              "#0d0887"
             ],
             [
              0.1111111111111111,
              "#46039f"
             ],
             [
              0.2222222222222222,
              "#7201a8"
             ],
             [
              0.3333333333333333,
              "#9c179e"
             ],
             [
              0.4444444444444444,
              "#bd3786"
             ],
             [
              0.5555555555555556,
              "#d8576b"
             ],
             [
              0.6666666666666666,
              "#ed7953"
             ],
             [
              0.7777777777777778,
              "#fb9f3a"
             ],
             [
              0.8888888888888888,
              "#fdca26"
             ],
             [
              1,
              "#f0f921"
             ]
            ],
            "type": "contour"
           }
          ],
          "contourcarpet": [
           {
            "colorbar": {
             "outlinewidth": 0,
             "ticks": ""
            },
            "type": "contourcarpet"
           }
          ],
          "heatmap": [
           {
            "colorbar": {
             "outlinewidth": 0,
             "ticks": ""
            },
            "colorscale": [
             [
              0,
              "#0d0887"
             ],
             [
              0.1111111111111111,
              "#46039f"
             ],
             [
              0.2222222222222222,
              "#7201a8"
             ],
             [
              0.3333333333333333,
              "#9c179e"
             ],
             [
              0.4444444444444444,
              "#bd3786"
             ],
             [
              0.5555555555555556,
              "#d8576b"
             ],
             [
              0.6666666666666666,
              "#ed7953"
             ],
             [
              0.7777777777777778,
              "#fb9f3a"
             ],
             [
              0.8888888888888888,
              "#fdca26"
             ],
             [
              1,
              "#f0f921"
             ]
            ],
            "type": "heatmap"
           }
          ],
          "heatmapgl": [
           {
            "colorbar": {
             "outlinewidth": 0,
             "ticks": ""
            },
            "colorscale": [
             [
              0,
              "#0d0887"
             ],
             [
              0.1111111111111111,
              "#46039f"
             ],
             [
              0.2222222222222222,
              "#7201a8"
             ],
             [
              0.3333333333333333,
              "#9c179e"
             ],
             [
              0.4444444444444444,
              "#bd3786"
             ],
             [
              0.5555555555555556,
              "#d8576b"
             ],
             [
              0.6666666666666666,
              "#ed7953"
             ],
             [
              0.7777777777777778,
              "#fb9f3a"
             ],
             [
              0.8888888888888888,
              "#fdca26"
             ],
             [
              1,
              "#f0f921"
             ]
            ],
            "type": "heatmapgl"
           }
          ],
          "histogram": [
           {
            "marker": {
             "pattern": {
              "fillmode": "overlay",
              "size": 10,
              "solidity": 0.2
             }
            },
            "type": "histogram"
           }
          ],
          "histogram2d": [
           {
            "colorbar": {
             "outlinewidth": 0,
             "ticks": ""
            },
            "colorscale": [
             [
              0,
              "#0d0887"
             ],
             [
              0.1111111111111111,
              "#46039f"
             ],
             [
              0.2222222222222222,
              "#7201a8"
             ],
             [
              0.3333333333333333,
              "#9c179e"
             ],
             [
              0.4444444444444444,
              "#bd3786"
             ],
             [
              0.5555555555555556,
              "#d8576b"
             ],
             [
              0.6666666666666666,
              "#ed7953"
             ],
             [
              0.7777777777777778,
              "#fb9f3a"
             ],
             [
              0.8888888888888888,
              "#fdca26"
             ],
             [
              1,
              "#f0f921"
             ]
            ],
            "type": "histogram2d"
           }
          ],
          "histogram2dcontour": [
           {
            "colorbar": {
             "outlinewidth": 0,
             "ticks": ""
            },
            "colorscale": [
             [
              0,
              "#0d0887"
             ],
             [
              0.1111111111111111,
              "#46039f"
             ],
             [
              0.2222222222222222,
              "#7201a8"
             ],
             [
              0.3333333333333333,
              "#9c179e"
             ],
             [
              0.4444444444444444,
              "#bd3786"
             ],
             [
              0.5555555555555556,
              "#d8576b"
             ],
             [
              0.6666666666666666,
              "#ed7953"
             ],
             [
              0.7777777777777778,
              "#fb9f3a"
             ],
             [
              0.8888888888888888,
              "#fdca26"
             ],
             [
              1,
              "#f0f921"
             ]
            ],
            "type": "histogram2dcontour"
           }
          ],
          "mesh3d": [
           {
            "colorbar": {
             "outlinewidth": 0,
             "ticks": ""
            },
            "type": "mesh3d"
           }
          ],
          "parcoords": [
           {
            "line": {
             "colorbar": {
              "outlinewidth": 0,
              "ticks": ""
             }
            },
            "type": "parcoords"
           }
          ],
          "pie": [
           {
            "automargin": true,
            "type": "pie"
           }
          ],
          "scatter": [
           {
            "fillpattern": {
             "fillmode": "overlay",
             "size": 10,
             "solidity": 0.2
            },
            "type": "scatter"
           }
          ],
          "scatter3d": [
           {
            "line": {
             "colorbar": {
              "outlinewidth": 0,
              "ticks": ""
             }
            },
            "marker": {
             "colorbar": {
              "outlinewidth": 0,
              "ticks": ""
             }
            },
            "type": "scatter3d"
           }
          ],
          "scattercarpet": [
           {
            "marker": {
             "colorbar": {
              "outlinewidth": 0,
              "ticks": ""
             }
            },
            "type": "scattercarpet"
           }
          ],
          "scattergeo": [
           {
            "marker": {
             "colorbar": {
              "outlinewidth": 0,
              "ticks": ""
             }
            },
            "type": "scattergeo"
           }
          ],
          "scattergl": [
           {
            "marker": {
             "colorbar": {
              "outlinewidth": 0,
              "ticks": ""
             }
            },
            "type": "scattergl"
           }
          ],
          "scattermapbox": [
           {
            "marker": {
             "colorbar": {
              "outlinewidth": 0,
              "ticks": ""
             }
            },
            "type": "scattermapbox"
           }
          ],
          "scatterpolar": [
           {
            "marker": {
             "colorbar": {
              "outlinewidth": 0,
              "ticks": ""
             }
            },
            "type": "scatterpolar"
           }
          ],
          "scatterpolargl": [
           {
            "marker": {
             "colorbar": {
              "outlinewidth": 0,
              "ticks": ""
             }
            },
            "type": "scatterpolargl"
           }
          ],
          "scatterternary": [
           {
            "marker": {
             "colorbar": {
              "outlinewidth": 0,
              "ticks": ""
             }
            },
            "type": "scatterternary"
           }
          ],
          "surface": [
           {
            "colorbar": {
             "outlinewidth": 0,
             "ticks": ""
            },
            "colorscale": [
             [
              0,
              "#0d0887"
             ],
             [
              0.1111111111111111,
              "#46039f"
             ],
             [
              0.2222222222222222,
              "#7201a8"
             ],
             [
              0.3333333333333333,
              "#9c179e"
             ],
             [
              0.4444444444444444,
              "#bd3786"
             ],
             [
              0.5555555555555556,
              "#d8576b"
             ],
             [
              0.6666666666666666,
              "#ed7953"
             ],
             [
              0.7777777777777778,
              "#fb9f3a"
             ],
             [
              0.8888888888888888,
              "#fdca26"
             ],
             [
              1,
              "#f0f921"
             ]
            ],
            "type": "surface"
           }
          ],
          "table": [
           {
            "cells": {
             "fill": {
              "color": "#EBF0F8"
             },
             "line": {
              "color": "white"
             }
            },
            "header": {
             "fill": {
              "color": "#C8D4E3"
             },
             "line": {
              "color": "white"
             }
            },
            "type": "table"
           }
          ]
         },
         "layout": {
          "annotationdefaults": {
           "arrowcolor": "#2a3f5f",
           "arrowhead": 0,
           "arrowwidth": 1
          },
          "autotypenumbers": "strict",
          "coloraxis": {
           "colorbar": {
            "outlinewidth": 0,
            "ticks": ""
           }
          },
          "colorscale": {
           "diverging": [
            [
             0,
             "#8e0152"
            ],
            [
             0.1,
             "#c51b7d"
            ],
            [
             0.2,
             "#de77ae"
            ],
            [
             0.3,
             "#f1b6da"
            ],
            [
             0.4,
             "#fde0ef"
            ],
            [
             0.5,
             "#f7f7f7"
            ],
            [
             0.6,
             "#e6f5d0"
            ],
            [
             0.7,
             "#b8e186"
            ],
            [
             0.8,
             "#7fbc41"
            ],
            [
             0.9,
             "#4d9221"
            ],
            [
             1,
             "#276419"
            ]
           ],
           "sequential": [
            [
             0,
             "#0d0887"
            ],
            [
             0.1111111111111111,
             "#46039f"
            ],
            [
             0.2222222222222222,
             "#7201a8"
            ],
            [
             0.3333333333333333,
             "#9c179e"
            ],
            [
             0.4444444444444444,
             "#bd3786"
            ],
            [
             0.5555555555555556,
             "#d8576b"
            ],
            [
             0.6666666666666666,
             "#ed7953"
            ],
            [
             0.7777777777777778,
             "#fb9f3a"
            ],
            [
             0.8888888888888888,
             "#fdca26"
            ],
            [
             1,
             "#f0f921"
            ]
           ],
           "sequentialminus": [
            [
             0,
             "#0d0887"
            ],
            [
             0.1111111111111111,
             "#46039f"
            ],
            [
             0.2222222222222222,
             "#7201a8"
            ],
            [
             0.3333333333333333,
             "#9c179e"
            ],
            [
             0.4444444444444444,
             "#bd3786"
            ],
            [
             0.5555555555555556,
             "#d8576b"
            ],
            [
             0.6666666666666666,
             "#ed7953"
            ],
            [
             0.7777777777777778,
             "#fb9f3a"
            ],
            [
             0.8888888888888888,
             "#fdca26"
            ],
            [
             1,
             "#f0f921"
            ]
           ]
          },
          "colorway": [
           "#636efa",
           "#EF553B",
           "#00cc96",
           "#ab63fa",
           "#FFA15A",
           "#19d3f3",
           "#FF6692",
           "#B6E880",
           "#FF97FF",
           "#FECB52"
          ],
          "font": {
           "color": "#2a3f5f"
          },
          "geo": {
           "bgcolor": "white",
           "lakecolor": "white",
           "landcolor": "#E5ECF6",
           "showlakes": true,
           "showland": true,
           "subunitcolor": "white"
          },
          "hoverlabel": {
           "align": "left"
          },
          "hovermode": "closest",
          "mapbox": {
           "style": "light"
          },
          "paper_bgcolor": "white",
          "plot_bgcolor": "#E5ECF6",
          "polar": {
           "angularaxis": {
            "gridcolor": "white",
            "linecolor": "white",
            "ticks": ""
           },
           "bgcolor": "#E5ECF6",
           "radialaxis": {
            "gridcolor": "white",
            "linecolor": "white",
            "ticks": ""
           }
          },
          "scene": {
           "xaxis": {
            "backgroundcolor": "#E5ECF6",
            "gridcolor": "white",
            "gridwidth": 2,
            "linecolor": "white",
            "showbackground": true,
            "ticks": "",
            "zerolinecolor": "white"
           },
           "yaxis": {
            "backgroundcolor": "#E5ECF6",
            "gridcolor": "white",
            "gridwidth": 2,
            "linecolor": "white",
            "showbackground": true,
            "ticks": "",
            "zerolinecolor": "white"
           },
           "zaxis": {
            "backgroundcolor": "#E5ECF6",
            "gridcolor": "white",
            "gridwidth": 2,
            "linecolor": "white",
            "showbackground": true,
            "ticks": "",
            "zerolinecolor": "white"
           }
          },
          "shapedefaults": {
           "line": {
            "color": "#2a3f5f"
           }
          },
          "ternary": {
           "aaxis": {
            "gridcolor": "white",
            "linecolor": "white",
            "ticks": ""
           },
           "baxis": {
            "gridcolor": "white",
            "linecolor": "white",
            "ticks": ""
           },
           "bgcolor": "#E5ECF6",
           "caxis": {
            "gridcolor": "white",
            "linecolor": "white",
            "ticks": ""
           }
          },
          "title": {
           "x": 0.05
          },
          "xaxis": {
           "automargin": true,
           "gridcolor": "white",
           "linecolor": "white",
           "ticks": "",
           "title": {
            "standoff": 15
           },
           "zerolinecolor": "white",
           "zerolinewidth": 2
          },
          "yaxis": {
           "automargin": true,
           "gridcolor": "white",
           "linecolor": "white",
           "ticks": "",
           "title": {
            "standoff": 15
           },
           "zerolinecolor": "white",
           "zerolinewidth": 2
          }
         }
        },
        "title": {
         "text": "Recent 90 days Annualized Volatility of 8 method"
        },
        "xaxis": {
         "title": {
          "text": "Date"
         }
        },
        "yaxis": {
         "title": {
          "text": "Annualized Volatility"
         }
        }
       }
      }
     },
     "metadata": {},
     "output_type": "display_data"
    }
   ],
   "source": [
    "visualize_together(method_li1+method_li2)"
   ]
  },
  {
   "cell_type": "markdown",
   "metadata": {},
   "source": [
    "## Reference\n",
    "* Paul Wilmott on Quantitiative Finance Ch49\n",
    "* https://www.investopedia.com/articles/07/ewma.asp\n",
    "* https://dojang.io/mod/page/view.php?id=2388"
   ]
  }
 ],
 "metadata": {
  "kernelspec": {
   "display_name": "Python 3",
   "language": "python",
   "name": "python3"
  },
  "language_info": {
   "codemirror_mode": {
    "name": "ipython",
    "version": 3
   },
   "file_extension": ".py",
   "mimetype": "text/x-python",
   "name": "python",
   "nbconvert_exporter": "python",
   "pygments_lexer": "ipython3",
   "version": "3.10.4"
  }
 },
 "nbformat": 4,
 "nbformat_minor": 2
}
